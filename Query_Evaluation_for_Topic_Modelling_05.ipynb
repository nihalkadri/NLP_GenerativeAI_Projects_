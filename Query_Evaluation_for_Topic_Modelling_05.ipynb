{
  "cells": [
    {
      "cell_type": "markdown",
      "metadata": {
        "id": "-6aEEbcILcDO"
      },
      "source": [
        "# Dataset\n"
      ]
    },
    {
      "cell_type": "code",
      "execution_count": 1,
      "metadata": {
        "id": "_y-QzF2T1cvM"
      },
      "outputs": [],
      "source": [
        "import pandas as pd"
      ]
    },
    {
      "cell_type": "code",
      "execution_count": 3,
      "metadata": {
        "id": "euzYaXBcZ9Lw"
      },
      "outputs": [],
      "source": [
        "dataset_df = pd.read_csv(r\"/content/Query.tsv\",dtype=str,encoding='ISO-8859-1',sep='\\t')"
      ]
    },
    {
      "cell_type": "code",
      "execution_count": 4,
      "metadata": {
        "colab": {
          "base_uri": "https://localhost:8080/",
          "height": 423
        },
        "id": "PauJ89ghnZJ6",
        "outputId": "f77e947b-0b4f-4ace-a276-81e1baaa9556"
      },
      "outputs": [
        {
          "data": {
            "application/vnd.google.colaboratory.intrinsic+json": {
              "summary": "{\n  \"name\": \"dataset_df\",\n  \"rows\": 249,\n  \"fields\": [\n    {\n      \"column\": \"Query\",\n      \"properties\": {\n        \"dtype\": \"string\",\n        \"num_unique_values\": 249,\n        \"samples\": [\n          \"windows essentials\",\n          \"hotm\",\n          \"java updates for windows 7\"\n        ],\n        \"semantic_type\": \"\",\n        \"description\": \"\"\n      }\n    }\n  ]\n}",
              "type": "dataframe",
              "variable_name": "dataset_df"
            },
            "text/html": [
              "\n",
              "  <div id=\"df-5c5c72e9-868e-4b35-bdbb-5cba58042527\" class=\"colab-df-container\">\n",
              "    <div>\n",
              "<style scoped>\n",
              "    .dataframe tbody tr th:only-of-type {\n",
              "        vertical-align: middle;\n",
              "    }\n",
              "\n",
              "    .dataframe tbody tr th {\n",
              "        vertical-align: top;\n",
              "    }\n",
              "\n",
              "    .dataframe thead th {\n",
              "        text-align: right;\n",
              "    }\n",
              "</style>\n",
              "<table border=\"1\" class=\"dataframe\">\n",
              "  <thead>\n",
              "    <tr style=\"text-align: right;\">\n",
              "      <th></th>\n",
              "      <th>Query</th>\n",
              "    </tr>\n",
              "  </thead>\n",
              "  <tbody>\n",
              "    <tr>\n",
              "      <th>0</th>\n",
              "      <td>internet explorer</td>\n",
              "    </tr>\n",
              "    <tr>\n",
              "      <th>1</th>\n",
              "      <td>windowsmedia</td>\n",
              "    </tr>\n",
              "    <tr>\n",
              "      <th>2</th>\n",
              "      <td>microsoft</td>\n",
              "    </tr>\n",
              "    <tr>\n",
              "      <th>3</th>\n",
              "      <td>outlook.com</td>\n",
              "    </tr>\n",
              "    <tr>\n",
              "      <th>4</th>\n",
              "      <td>Preview window</td>\n",
              "    </tr>\n",
              "    <tr>\n",
              "      <th>...</th>\n",
              "      <td>...</td>\n",
              "    </tr>\n",
              "    <tr>\n",
              "      <th>244</th>\n",
              "      <td>meta</td>\n",
              "    </tr>\n",
              "    <tr>\n",
              "      <th>245</th>\n",
              "      <td>download internet explorer</td>\n",
              "    </tr>\n",
              "    <tr>\n",
              "      <th>246</th>\n",
              "      <td>encarta</td>\n",
              "    </tr>\n",
              "    <tr>\n",
              "      <th>247</th>\n",
              "      <td>windows live mail</td>\n",
              "    </tr>\n",
              "    <tr>\n",
              "      <th>248</th>\n",
              "      <td>Logging into UltiPro</td>\n",
              "    </tr>\n",
              "  </tbody>\n",
              "</table>\n",
              "<p>249 rows × 1 columns</p>\n",
              "</div>\n",
              "    <div class=\"colab-df-buttons\">\n",
              "\n",
              "  <div class=\"colab-df-container\">\n",
              "    <button class=\"colab-df-convert\" onclick=\"convertToInteractive('df-5c5c72e9-868e-4b35-bdbb-5cba58042527')\"\n",
              "            title=\"Convert this dataframe to an interactive table.\"\n",
              "            style=\"display:none;\">\n",
              "\n",
              "  <svg xmlns=\"http://www.w3.org/2000/svg\" height=\"24px\" viewBox=\"0 -960 960 960\">\n",
              "    <path d=\"M120-120v-720h720v720H120Zm60-500h600v-160H180v160Zm220 220h160v-160H400v160Zm0 220h160v-160H400v160ZM180-400h160v-160H180v160Zm440 0h160v-160H620v160ZM180-180h160v-160H180v160Zm440 0h160v-160H620v160Z\"/>\n",
              "  </svg>\n",
              "    </button>\n",
              "\n",
              "  <style>\n",
              "    .colab-df-container {\n",
              "      display:flex;\n",
              "      gap: 12px;\n",
              "    }\n",
              "\n",
              "    .colab-df-convert {\n",
              "      background-color: #E8F0FE;\n",
              "      border: none;\n",
              "      border-radius: 50%;\n",
              "      cursor: pointer;\n",
              "      display: none;\n",
              "      fill: #1967D2;\n",
              "      height: 32px;\n",
              "      padding: 0 0 0 0;\n",
              "      width: 32px;\n",
              "    }\n",
              "\n",
              "    .colab-df-convert:hover {\n",
              "      background-color: #E2EBFA;\n",
              "      box-shadow: 0px 1px 2px rgba(60, 64, 67, 0.3), 0px 1px 3px 1px rgba(60, 64, 67, 0.15);\n",
              "      fill: #174EA6;\n",
              "    }\n",
              "\n",
              "    .colab-df-buttons div {\n",
              "      margin-bottom: 4px;\n",
              "    }\n",
              "\n",
              "    [theme=dark] .colab-df-convert {\n",
              "      background-color: #3B4455;\n",
              "      fill: #D2E3FC;\n",
              "    }\n",
              "\n",
              "    [theme=dark] .colab-df-convert:hover {\n",
              "      background-color: #434B5C;\n",
              "      box-shadow: 0px 1px 3px 1px rgba(0, 0, 0, 0.15);\n",
              "      filter: drop-shadow(0px 1px 2px rgba(0, 0, 0, 0.3));\n",
              "      fill: #FFFFFF;\n",
              "    }\n",
              "  </style>\n",
              "\n",
              "    <script>\n",
              "      const buttonEl =\n",
              "        document.querySelector('#df-5c5c72e9-868e-4b35-bdbb-5cba58042527 button.colab-df-convert');\n",
              "      buttonEl.style.display =\n",
              "        google.colab.kernel.accessAllowed ? 'block' : 'none';\n",
              "\n",
              "      async function convertToInteractive(key) {\n",
              "        const element = document.querySelector('#df-5c5c72e9-868e-4b35-bdbb-5cba58042527');\n",
              "        const dataTable =\n",
              "          await google.colab.kernel.invokeFunction('convertToInteractive',\n",
              "                                                    [key], {});\n",
              "        if (!dataTable) return;\n",
              "\n",
              "        const docLinkHtml = 'Like what you see? Visit the ' +\n",
              "          '<a target=\"_blank\" href=https://colab.research.google.com/notebooks/data_table.ipynb>data table notebook</a>'\n",
              "          + ' to learn more about interactive tables.';\n",
              "        element.innerHTML = '';\n",
              "        dataTable['output_type'] = 'display_data';\n",
              "        await google.colab.output.renderOutput(dataTable, element);\n",
              "        const docLink = document.createElement('div');\n",
              "        docLink.innerHTML = docLinkHtml;\n",
              "        element.appendChild(docLink);\n",
              "      }\n",
              "    </script>\n",
              "  </div>\n",
              "\n",
              "\n",
              "<div id=\"df-be03a55c-dc02-41ae-8ffe-0af860acddb5\">\n",
              "  <button class=\"colab-df-quickchart\" onclick=\"quickchart('df-be03a55c-dc02-41ae-8ffe-0af860acddb5')\"\n",
              "            title=\"Suggest charts\"\n",
              "            style=\"display:none;\">\n",
              "\n",
              "<svg xmlns=\"http://www.w3.org/2000/svg\" height=\"24px\"viewBox=\"0 0 24 24\"\n",
              "     width=\"24px\">\n",
              "    <g>\n",
              "        <path d=\"M19 3H5c-1.1 0-2 .9-2 2v14c0 1.1.9 2 2 2h14c1.1 0 2-.9 2-2V5c0-1.1-.9-2-2-2zM9 17H7v-7h2v7zm4 0h-2V7h2v10zm4 0h-2v-4h2v4z\"/>\n",
              "    </g>\n",
              "</svg>\n",
              "  </button>\n",
              "\n",
              "<style>\n",
              "  .colab-df-quickchart {\n",
              "      --bg-color: #E8F0FE;\n",
              "      --fill-color: #1967D2;\n",
              "      --hover-bg-color: #E2EBFA;\n",
              "      --hover-fill-color: #174EA6;\n",
              "      --disabled-fill-color: #AAA;\n",
              "      --disabled-bg-color: #DDD;\n",
              "  }\n",
              "\n",
              "  [theme=dark] .colab-df-quickchart {\n",
              "      --bg-color: #3B4455;\n",
              "      --fill-color: #D2E3FC;\n",
              "      --hover-bg-color: #434B5C;\n",
              "      --hover-fill-color: #FFFFFF;\n",
              "      --disabled-bg-color: #3B4455;\n",
              "      --disabled-fill-color: #666;\n",
              "  }\n",
              "\n",
              "  .colab-df-quickchart {\n",
              "    background-color: var(--bg-color);\n",
              "    border: none;\n",
              "    border-radius: 50%;\n",
              "    cursor: pointer;\n",
              "    display: none;\n",
              "    fill: var(--fill-color);\n",
              "    height: 32px;\n",
              "    padding: 0;\n",
              "    width: 32px;\n",
              "  }\n",
              "\n",
              "  .colab-df-quickchart:hover {\n",
              "    background-color: var(--hover-bg-color);\n",
              "    box-shadow: 0 1px 2px rgba(60, 64, 67, 0.3), 0 1px 3px 1px rgba(60, 64, 67, 0.15);\n",
              "    fill: var(--button-hover-fill-color);\n",
              "  }\n",
              "\n",
              "  .colab-df-quickchart-complete:disabled,\n",
              "  .colab-df-quickchart-complete:disabled:hover {\n",
              "    background-color: var(--disabled-bg-color);\n",
              "    fill: var(--disabled-fill-color);\n",
              "    box-shadow: none;\n",
              "  }\n",
              "\n",
              "  .colab-df-spinner {\n",
              "    border: 2px solid var(--fill-color);\n",
              "    border-color: transparent;\n",
              "    border-bottom-color: var(--fill-color);\n",
              "    animation:\n",
              "      spin 1s steps(1) infinite;\n",
              "  }\n",
              "\n",
              "  @keyframes spin {\n",
              "    0% {\n",
              "      border-color: transparent;\n",
              "      border-bottom-color: var(--fill-color);\n",
              "      border-left-color: var(--fill-color);\n",
              "    }\n",
              "    20% {\n",
              "      border-color: transparent;\n",
              "      border-left-color: var(--fill-color);\n",
              "      border-top-color: var(--fill-color);\n",
              "    }\n",
              "    30% {\n",
              "      border-color: transparent;\n",
              "      border-left-color: var(--fill-color);\n",
              "      border-top-color: var(--fill-color);\n",
              "      border-right-color: var(--fill-color);\n",
              "    }\n",
              "    40% {\n",
              "      border-color: transparent;\n",
              "      border-right-color: var(--fill-color);\n",
              "      border-top-color: var(--fill-color);\n",
              "    }\n",
              "    60% {\n",
              "      border-color: transparent;\n",
              "      border-right-color: var(--fill-color);\n",
              "    }\n",
              "    80% {\n",
              "      border-color: transparent;\n",
              "      border-right-color: var(--fill-color);\n",
              "      border-bottom-color: var(--fill-color);\n",
              "    }\n",
              "    90% {\n",
              "      border-color: transparent;\n",
              "      border-bottom-color: var(--fill-color);\n",
              "    }\n",
              "  }\n",
              "</style>\n",
              "\n",
              "  <script>\n",
              "    async function quickchart(key) {\n",
              "      const quickchartButtonEl =\n",
              "        document.querySelector('#' + key + ' button');\n",
              "      quickchartButtonEl.disabled = true;  // To prevent multiple clicks.\n",
              "      quickchartButtonEl.classList.add('colab-df-spinner');\n",
              "      try {\n",
              "        const charts = await google.colab.kernel.invokeFunction(\n",
              "            'suggestCharts', [key], {});\n",
              "      } catch (error) {\n",
              "        console.error('Error during call to suggestCharts:', error);\n",
              "      }\n",
              "      quickchartButtonEl.classList.remove('colab-df-spinner');\n",
              "      quickchartButtonEl.classList.add('colab-df-quickchart-complete');\n",
              "    }\n",
              "    (() => {\n",
              "      let quickchartButtonEl =\n",
              "        document.querySelector('#df-be03a55c-dc02-41ae-8ffe-0af860acddb5 button');\n",
              "      quickchartButtonEl.style.display =\n",
              "        google.colab.kernel.accessAllowed ? 'block' : 'none';\n",
              "    })();\n",
              "  </script>\n",
              "</div>\n",
              "\n",
              "  <div id=\"id_128bd55b-2a73-4d3c-b8b4-440359ebc4bc\">\n",
              "    <style>\n",
              "      .colab-df-generate {\n",
              "        background-color: #E8F0FE;\n",
              "        border: none;\n",
              "        border-radius: 50%;\n",
              "        cursor: pointer;\n",
              "        display: none;\n",
              "        fill: #1967D2;\n",
              "        height: 32px;\n",
              "        padding: 0 0 0 0;\n",
              "        width: 32px;\n",
              "      }\n",
              "\n",
              "      .colab-df-generate:hover {\n",
              "        background-color: #E2EBFA;\n",
              "        box-shadow: 0px 1px 2px rgba(60, 64, 67, 0.3), 0px 1px 3px 1px rgba(60, 64, 67, 0.15);\n",
              "        fill: #174EA6;\n",
              "      }\n",
              "\n",
              "      [theme=dark] .colab-df-generate {\n",
              "        background-color: #3B4455;\n",
              "        fill: #D2E3FC;\n",
              "      }\n",
              "\n",
              "      [theme=dark] .colab-df-generate:hover {\n",
              "        background-color: #434B5C;\n",
              "        box-shadow: 0px 1px 3px 1px rgba(0, 0, 0, 0.15);\n",
              "        filter: drop-shadow(0px 1px 2px rgba(0, 0, 0, 0.3));\n",
              "        fill: #FFFFFF;\n",
              "      }\n",
              "    </style>\n",
              "    <button class=\"colab-df-generate\" onclick=\"generateWithVariable('dataset_df')\"\n",
              "            title=\"Generate code using this dataframe.\"\n",
              "            style=\"display:none;\">\n",
              "\n",
              "  <svg xmlns=\"http://www.w3.org/2000/svg\" height=\"24px\"viewBox=\"0 0 24 24\"\n",
              "       width=\"24px\">\n",
              "    <path d=\"M7,19H8.4L18.45,9,17,7.55,7,17.6ZM5,21V16.75L18.45,3.32a2,2,0,0,1,2.83,0l1.4,1.43a1.91,1.91,0,0,1,.58,1.4,1.91,1.91,0,0,1-.58,1.4L9.25,21ZM18.45,9,17,7.55Zm-12,3A5.31,5.31,0,0,0,4.9,8.1,5.31,5.31,0,0,0,1,6.5,5.31,5.31,0,0,0,4.9,4.9,5.31,5.31,0,0,0,6.5,1,5.31,5.31,0,0,0,8.1,4.9,5.31,5.31,0,0,0,12,6.5,5.46,5.46,0,0,0,6.5,12Z\"/>\n",
              "  </svg>\n",
              "    </button>\n",
              "    <script>\n",
              "      (() => {\n",
              "      const buttonEl =\n",
              "        document.querySelector('#id_128bd55b-2a73-4d3c-b8b4-440359ebc4bc button.colab-df-generate');\n",
              "      buttonEl.style.display =\n",
              "        google.colab.kernel.accessAllowed ? 'block' : 'none';\n",
              "\n",
              "      buttonEl.onclick = () => {\n",
              "        google.colab.notebook.generateWithVariable('dataset_df');\n",
              "      }\n",
              "      })();\n",
              "    </script>\n",
              "  </div>\n",
              "\n",
              "    </div>\n",
              "  </div>\n"
            ],
            "text/plain": [
              "                          Query\n",
              "0             internet explorer\n",
              "1                  windowsmedia\n",
              "2                     microsoft\n",
              "3                   outlook.com\n",
              "4                Preview window\n",
              "..                          ...\n",
              "244                        meta\n",
              "245  download internet explorer\n",
              "246                     encarta\n",
              "247           windows live mail\n",
              "248        Logging into UltiPro\n",
              "\n",
              "[249 rows x 1 columns]"
            ]
          },
          "execution_count": 4,
          "metadata": {},
          "output_type": "execute_result"
        }
      ],
      "source": [
        "dataset_df"
      ]
    },
    {
      "cell_type": "code",
      "execution_count": 5,
      "metadata": {
        "colab": {
          "base_uri": "https://localhost:8080/",
          "height": 423
        },
        "id": "K06G62asoRZo",
        "outputId": "fb9f064a-94f3-4e83-ed41-59e959fdff9c"
      },
      "outputs": [
        {
          "data": {
            "application/vnd.google.colaboratory.intrinsic+json": {
              "summary": "{\n  \"name\": \"dataset_df\",\n  \"rows\": 249,\n  \"fields\": [\n    {\n      \"column\": \"Query\",\n      \"properties\": {\n        \"dtype\": \"string\",\n        \"num_unique_values\": 249,\n        \"samples\": [\n          \"windows essentials\",\n          \"hotm\",\n          \"java updates for windows 7\"\n        ],\n        \"semantic_type\": \"\",\n        \"description\": \"\"\n      }\n    }\n  ]\n}",
              "type": "dataframe",
              "variable_name": "dataset_df"
            },
            "text/html": [
              "\n",
              "  <div id=\"df-547bbecc-09c8-4aaf-a481-43159d36f316\" class=\"colab-df-container\">\n",
              "    <div>\n",
              "<style scoped>\n",
              "    .dataframe tbody tr th:only-of-type {\n",
              "        vertical-align: middle;\n",
              "    }\n",
              "\n",
              "    .dataframe tbody tr th {\n",
              "        vertical-align: top;\n",
              "    }\n",
              "\n",
              "    .dataframe thead th {\n",
              "        text-align: right;\n",
              "    }\n",
              "</style>\n",
              "<table border=\"1\" class=\"dataframe\">\n",
              "  <thead>\n",
              "    <tr style=\"text-align: right;\">\n",
              "      <th></th>\n",
              "      <th>Query</th>\n",
              "    </tr>\n",
              "  </thead>\n",
              "  <tbody>\n",
              "    <tr>\n",
              "      <th>0</th>\n",
              "      <td>internet explorer</td>\n",
              "    </tr>\n",
              "    <tr>\n",
              "      <th>1</th>\n",
              "      <td>windowsmedia</td>\n",
              "    </tr>\n",
              "    <tr>\n",
              "      <th>2</th>\n",
              "      <td>microsoft</td>\n",
              "    </tr>\n",
              "    <tr>\n",
              "      <th>3</th>\n",
              "      <td>outlook.com</td>\n",
              "    </tr>\n",
              "    <tr>\n",
              "      <th>4</th>\n",
              "      <td>Preview window</td>\n",
              "    </tr>\n",
              "    <tr>\n",
              "      <th>...</th>\n",
              "      <td>...</td>\n",
              "    </tr>\n",
              "    <tr>\n",
              "      <th>244</th>\n",
              "      <td>meta</td>\n",
              "    </tr>\n",
              "    <tr>\n",
              "      <th>245</th>\n",
              "      <td>download internet explorer</td>\n",
              "    </tr>\n",
              "    <tr>\n",
              "      <th>246</th>\n",
              "      <td>encarta</td>\n",
              "    </tr>\n",
              "    <tr>\n",
              "      <th>247</th>\n",
              "      <td>windows live mail</td>\n",
              "    </tr>\n",
              "    <tr>\n",
              "      <th>248</th>\n",
              "      <td>Logging into UltiPro</td>\n",
              "    </tr>\n",
              "  </tbody>\n",
              "</table>\n",
              "<p>249 rows × 1 columns</p>\n",
              "</div>\n",
              "    <div class=\"colab-df-buttons\">\n",
              "\n",
              "  <div class=\"colab-df-container\">\n",
              "    <button class=\"colab-df-convert\" onclick=\"convertToInteractive('df-547bbecc-09c8-4aaf-a481-43159d36f316')\"\n",
              "            title=\"Convert this dataframe to an interactive table.\"\n",
              "            style=\"display:none;\">\n",
              "\n",
              "  <svg xmlns=\"http://www.w3.org/2000/svg\" height=\"24px\" viewBox=\"0 -960 960 960\">\n",
              "    <path d=\"M120-120v-720h720v720H120Zm60-500h600v-160H180v160Zm220 220h160v-160H400v160Zm0 220h160v-160H400v160ZM180-400h160v-160H180v160Zm440 0h160v-160H620v160ZM180-180h160v-160H180v160Zm440 0h160v-160H620v160Z\"/>\n",
              "  </svg>\n",
              "    </button>\n",
              "\n",
              "  <style>\n",
              "    .colab-df-container {\n",
              "      display:flex;\n",
              "      gap: 12px;\n",
              "    }\n",
              "\n",
              "    .colab-df-convert {\n",
              "      background-color: #E8F0FE;\n",
              "      border: none;\n",
              "      border-radius: 50%;\n",
              "      cursor: pointer;\n",
              "      display: none;\n",
              "      fill: #1967D2;\n",
              "      height: 32px;\n",
              "      padding: 0 0 0 0;\n",
              "      width: 32px;\n",
              "    }\n",
              "\n",
              "    .colab-df-convert:hover {\n",
              "      background-color: #E2EBFA;\n",
              "      box-shadow: 0px 1px 2px rgba(60, 64, 67, 0.3), 0px 1px 3px 1px rgba(60, 64, 67, 0.15);\n",
              "      fill: #174EA6;\n",
              "    }\n",
              "\n",
              "    .colab-df-buttons div {\n",
              "      margin-bottom: 4px;\n",
              "    }\n",
              "\n",
              "    [theme=dark] .colab-df-convert {\n",
              "      background-color: #3B4455;\n",
              "      fill: #D2E3FC;\n",
              "    }\n",
              "\n",
              "    [theme=dark] .colab-df-convert:hover {\n",
              "      background-color: #434B5C;\n",
              "      box-shadow: 0px 1px 3px 1px rgba(0, 0, 0, 0.15);\n",
              "      filter: drop-shadow(0px 1px 2px rgba(0, 0, 0, 0.3));\n",
              "      fill: #FFFFFF;\n",
              "    }\n",
              "  </style>\n",
              "\n",
              "    <script>\n",
              "      const buttonEl =\n",
              "        document.querySelector('#df-547bbecc-09c8-4aaf-a481-43159d36f316 button.colab-df-convert');\n",
              "      buttonEl.style.display =\n",
              "        google.colab.kernel.accessAllowed ? 'block' : 'none';\n",
              "\n",
              "      async function convertToInteractive(key) {\n",
              "        const element = document.querySelector('#df-547bbecc-09c8-4aaf-a481-43159d36f316');\n",
              "        const dataTable =\n",
              "          await google.colab.kernel.invokeFunction('convertToInteractive',\n",
              "                                                    [key], {});\n",
              "        if (!dataTable) return;\n",
              "\n",
              "        const docLinkHtml = 'Like what you see? Visit the ' +\n",
              "          '<a target=\"_blank\" href=https://colab.research.google.com/notebooks/data_table.ipynb>data table notebook</a>'\n",
              "          + ' to learn more about interactive tables.';\n",
              "        element.innerHTML = '';\n",
              "        dataTable['output_type'] = 'display_data';\n",
              "        await google.colab.output.renderOutput(dataTable, element);\n",
              "        const docLink = document.createElement('div');\n",
              "        docLink.innerHTML = docLinkHtml;\n",
              "        element.appendChild(docLink);\n",
              "      }\n",
              "    </script>\n",
              "  </div>\n",
              "\n",
              "\n",
              "<div id=\"df-f6e2d1e6-9ed3-4138-907f-fad93adeb78d\">\n",
              "  <button class=\"colab-df-quickchart\" onclick=\"quickchart('df-f6e2d1e6-9ed3-4138-907f-fad93adeb78d')\"\n",
              "            title=\"Suggest charts\"\n",
              "            style=\"display:none;\">\n",
              "\n",
              "<svg xmlns=\"http://www.w3.org/2000/svg\" height=\"24px\"viewBox=\"0 0 24 24\"\n",
              "     width=\"24px\">\n",
              "    <g>\n",
              "        <path d=\"M19 3H5c-1.1 0-2 .9-2 2v14c0 1.1.9 2 2 2h14c1.1 0 2-.9 2-2V5c0-1.1-.9-2-2-2zM9 17H7v-7h2v7zm4 0h-2V7h2v10zm4 0h-2v-4h2v4z\"/>\n",
              "    </g>\n",
              "</svg>\n",
              "  </button>\n",
              "\n",
              "<style>\n",
              "  .colab-df-quickchart {\n",
              "      --bg-color: #E8F0FE;\n",
              "      --fill-color: #1967D2;\n",
              "      --hover-bg-color: #E2EBFA;\n",
              "      --hover-fill-color: #174EA6;\n",
              "      --disabled-fill-color: #AAA;\n",
              "      --disabled-bg-color: #DDD;\n",
              "  }\n",
              "\n",
              "  [theme=dark] .colab-df-quickchart {\n",
              "      --bg-color: #3B4455;\n",
              "      --fill-color: #D2E3FC;\n",
              "      --hover-bg-color: #434B5C;\n",
              "      --hover-fill-color: #FFFFFF;\n",
              "      --disabled-bg-color: #3B4455;\n",
              "      --disabled-fill-color: #666;\n",
              "  }\n",
              "\n",
              "  .colab-df-quickchart {\n",
              "    background-color: var(--bg-color);\n",
              "    border: none;\n",
              "    border-radius: 50%;\n",
              "    cursor: pointer;\n",
              "    display: none;\n",
              "    fill: var(--fill-color);\n",
              "    height: 32px;\n",
              "    padding: 0;\n",
              "    width: 32px;\n",
              "  }\n",
              "\n",
              "  .colab-df-quickchart:hover {\n",
              "    background-color: var(--hover-bg-color);\n",
              "    box-shadow: 0 1px 2px rgba(60, 64, 67, 0.3), 0 1px 3px 1px rgba(60, 64, 67, 0.15);\n",
              "    fill: var(--button-hover-fill-color);\n",
              "  }\n",
              "\n",
              "  .colab-df-quickchart-complete:disabled,\n",
              "  .colab-df-quickchart-complete:disabled:hover {\n",
              "    background-color: var(--disabled-bg-color);\n",
              "    fill: var(--disabled-fill-color);\n",
              "    box-shadow: none;\n",
              "  }\n",
              "\n",
              "  .colab-df-spinner {\n",
              "    border: 2px solid var(--fill-color);\n",
              "    border-color: transparent;\n",
              "    border-bottom-color: var(--fill-color);\n",
              "    animation:\n",
              "      spin 1s steps(1) infinite;\n",
              "  }\n",
              "\n",
              "  @keyframes spin {\n",
              "    0% {\n",
              "      border-color: transparent;\n",
              "      border-bottom-color: var(--fill-color);\n",
              "      border-left-color: var(--fill-color);\n",
              "    }\n",
              "    20% {\n",
              "      border-color: transparent;\n",
              "      border-left-color: var(--fill-color);\n",
              "      border-top-color: var(--fill-color);\n",
              "    }\n",
              "    30% {\n",
              "      border-color: transparent;\n",
              "      border-left-color: var(--fill-color);\n",
              "      border-top-color: var(--fill-color);\n",
              "      border-right-color: var(--fill-color);\n",
              "    }\n",
              "    40% {\n",
              "      border-color: transparent;\n",
              "      border-right-color: var(--fill-color);\n",
              "      border-top-color: var(--fill-color);\n",
              "    }\n",
              "    60% {\n",
              "      border-color: transparent;\n",
              "      border-right-color: var(--fill-color);\n",
              "    }\n",
              "    80% {\n",
              "      border-color: transparent;\n",
              "      border-right-color: var(--fill-color);\n",
              "      border-bottom-color: var(--fill-color);\n",
              "    }\n",
              "    90% {\n",
              "      border-color: transparent;\n",
              "      border-bottom-color: var(--fill-color);\n",
              "    }\n",
              "  }\n",
              "</style>\n",
              "\n",
              "  <script>\n",
              "    async function quickchart(key) {\n",
              "      const quickchartButtonEl =\n",
              "        document.querySelector('#' + key + ' button');\n",
              "      quickchartButtonEl.disabled = true;  // To prevent multiple clicks.\n",
              "      quickchartButtonEl.classList.add('colab-df-spinner');\n",
              "      try {\n",
              "        const charts = await google.colab.kernel.invokeFunction(\n",
              "            'suggestCharts', [key], {});\n",
              "      } catch (error) {\n",
              "        console.error('Error during call to suggestCharts:', error);\n",
              "      }\n",
              "      quickchartButtonEl.classList.remove('colab-df-spinner');\n",
              "      quickchartButtonEl.classList.add('colab-df-quickchart-complete');\n",
              "    }\n",
              "    (() => {\n",
              "      let quickchartButtonEl =\n",
              "        document.querySelector('#df-f6e2d1e6-9ed3-4138-907f-fad93adeb78d button');\n",
              "      quickchartButtonEl.style.display =\n",
              "        google.colab.kernel.accessAllowed ? 'block' : 'none';\n",
              "    })();\n",
              "  </script>\n",
              "</div>\n",
              "\n",
              "  <div id=\"id_91176e2b-eb96-42b4-9455-9f551a254b47\">\n",
              "    <style>\n",
              "      .colab-df-generate {\n",
              "        background-color: #E8F0FE;\n",
              "        border: none;\n",
              "        border-radius: 50%;\n",
              "        cursor: pointer;\n",
              "        display: none;\n",
              "        fill: #1967D2;\n",
              "        height: 32px;\n",
              "        padding: 0 0 0 0;\n",
              "        width: 32px;\n",
              "      }\n",
              "\n",
              "      .colab-df-generate:hover {\n",
              "        background-color: #E2EBFA;\n",
              "        box-shadow: 0px 1px 2px rgba(60, 64, 67, 0.3), 0px 1px 3px 1px rgba(60, 64, 67, 0.15);\n",
              "        fill: #174EA6;\n",
              "      }\n",
              "\n",
              "      [theme=dark] .colab-df-generate {\n",
              "        background-color: #3B4455;\n",
              "        fill: #D2E3FC;\n",
              "      }\n",
              "\n",
              "      [theme=dark] .colab-df-generate:hover {\n",
              "        background-color: #434B5C;\n",
              "        box-shadow: 0px 1px 3px 1px rgba(0, 0, 0, 0.15);\n",
              "        filter: drop-shadow(0px 1px 2px rgba(0, 0, 0, 0.3));\n",
              "        fill: #FFFFFF;\n",
              "      }\n",
              "    </style>\n",
              "    <button class=\"colab-df-generate\" onclick=\"generateWithVariable('dataset_df')\"\n",
              "            title=\"Generate code using this dataframe.\"\n",
              "            style=\"display:none;\">\n",
              "\n",
              "  <svg xmlns=\"http://www.w3.org/2000/svg\" height=\"24px\"viewBox=\"0 0 24 24\"\n",
              "       width=\"24px\">\n",
              "    <path d=\"M7,19H8.4L18.45,9,17,7.55,7,17.6ZM5,21V16.75L18.45,3.32a2,2,0,0,1,2.83,0l1.4,1.43a1.91,1.91,0,0,1,.58,1.4,1.91,1.91,0,0,1-.58,1.4L9.25,21ZM18.45,9,17,7.55Zm-12,3A5.31,5.31,0,0,0,4.9,8.1,5.31,5.31,0,0,0,1,6.5,5.31,5.31,0,0,0,4.9,4.9,5.31,5.31,0,0,0,6.5,1,5.31,5.31,0,0,0,8.1,4.9,5.31,5.31,0,0,0,12,6.5,5.46,5.46,0,0,0,6.5,12Z\"/>\n",
              "  </svg>\n",
              "    </button>\n",
              "    <script>\n",
              "      (() => {\n",
              "      const buttonEl =\n",
              "        document.querySelector('#id_91176e2b-eb96-42b4-9455-9f551a254b47 button.colab-df-generate');\n",
              "      buttonEl.style.display =\n",
              "        google.colab.kernel.accessAllowed ? 'block' : 'none';\n",
              "\n",
              "      buttonEl.onclick = () => {\n",
              "        google.colab.notebook.generateWithVariable('dataset_df');\n",
              "      }\n",
              "      })();\n",
              "    </script>\n",
              "  </div>\n",
              "\n",
              "    </div>\n",
              "  </div>\n"
            ],
            "text/plain": [
              "                          Query\n",
              "0             internet explorer\n",
              "1                  windowsmedia\n",
              "2                     microsoft\n",
              "3                   outlook.com\n",
              "4                Preview window\n",
              "..                          ...\n",
              "244                        meta\n",
              "245  download internet explorer\n",
              "246                     encarta\n",
              "247           windows live mail\n",
              "248        Logging into UltiPro\n",
              "\n",
              "[249 rows x 1 columns]"
            ]
          },
          "execution_count": 5,
          "metadata": {},
          "output_type": "execute_result"
        }
      ],
      "source": [
        "dataset_df"
      ]
    },
    {
      "cell_type": "markdown",
      "metadata": {
        "id": "66blkf4O-zns"
      },
      "source": [
        "# Dataset preprocessing"
      ]
    },
    {
      "cell_type": "code",
      "execution_count": 6,
      "metadata": {
        "id": "hT-1escThcs-"
      },
      "outputs": [],
      "source": [
        "%%capture\n",
        "!pip install -U gensim"
      ]
    },
    {
      "cell_type": "code",
      "execution_count": 7,
      "metadata": {
        "id": "nq7kWwcZohR2"
      },
      "outputs": [],
      "source": [
        "from gensim.utils import tokenize\n",
        "from gensim.parsing.preprocessing import preprocess_string,strip_tags,strip_punctuation,strip_numeric,remove_stopwords,strip_short\n",
        "from gensim.corpora.dictionary import Dictionary\n",
        "from gensim import models"
      ]
    },
    {
      "cell_type": "code",
      "execution_count": 8,
      "metadata": {
        "colab": {
          "base_uri": "https://localhost:8080/"
        },
        "id": "v5Hz5QBD6PDQ",
        "outputId": "a1c77021-3ab2-4fa6-d984-4e122126965e"
      },
      "outputs": [
        {
          "name": "stdout",
          "output_type": "stream",
          "text": [
            "Help on function preprocess_string in module gensim.parsing.preprocessing:\n",
            "\n",
            "preprocess_string(s, filters=[<function <lambda> at 0x7a33170879a0>, <function strip_tags at 0x7a3317087400>, <function strip_punctuation at 0x7a3317087370>, <function strip_multiple_whitespaces at 0x7a33170876d0>, <function strip_numeric at 0x7a33170875b0>, <function remove_stopwords at 0x7a3317087250>, <function strip_short at 0x7a3317087490>, <function stem_text at 0x7a33170877f0>])\n",
            "    Apply list of chosen filters to `s`.\n",
            "    \n",
            "    Default list of filters:\n",
            "    \n",
            "    * :func:`~gensim.parsing.preprocessing.strip_tags`,\n",
            "    * :func:`~gensim.parsing.preprocessing.strip_punctuation`,\n",
            "    * :func:`~gensim.parsing.preprocessing.strip_multiple_whitespaces`,\n",
            "    * :func:`~gensim.parsing.preprocessing.strip_numeric`,\n",
            "    * :func:`~gensim.parsing.preprocessing.remove_stopwords`,\n",
            "    * :func:`~gensim.parsing.preprocessing.strip_short`,\n",
            "    * :func:`~gensim.parsing.preprocessing.stem_text`.\n",
            "    \n",
            "    Parameters\n",
            "    ----------\n",
            "    s : str\n",
            "    filters: list of functions, optional\n",
            "    \n",
            "    Returns\n",
            "    -------\n",
            "    list of str\n",
            "        Processed strings (cleaned).\n",
            "    \n",
            "    Examples\n",
            "    --------\n",
            "    .. sourcecode:: pycon\n",
            "    \n",
            "        >>> from gensim.parsing.preprocessing import preprocess_string\n",
            "        >>> preprocess_string(\"<i>Hel 9lo</i> <b>Wo9 rld</b>! Th3     weather_is really g00d today, isn't it?\")\n",
            "        [u'hel', u'rld', u'weather', u'todai', u'isn']\n",
            "        >>>\n",
            "        >>> s = \"<i>Hel 9lo</i> <b>Wo9 rld</b>! Th3     weather_is really g00d today, isn't it?\"\n",
            "        >>> CUSTOM_FILTERS = [lambda x: x.lower(), strip_tags, strip_punctuation]\n",
            "        >>> preprocess_string(s, CUSTOM_FILTERS)\n",
            "        [u'hel', u'9lo', u'wo9', u'rld', u'th3', u'weather', u'is', u'really', u'g00d', u'today', u'isn', u't', u'it']\n",
            "\n"
          ]
        }
      ],
      "source": [
        "help(preprocess_string)"
      ]
    },
    {
      "cell_type": "code",
      "execution_count": 9,
      "metadata": {
        "id": "lZD6dZKQ3mjV"
      },
      "outputs": [],
      "source": [
        "dataset_df['Clean_Queries'] = dataset_df['Query'].apply(preprocess_string)"
      ]
    },
    {
      "cell_type": "code",
      "execution_count": 10,
      "metadata": {
        "colab": {
          "base_uri": "https://localhost:8080/",
          "height": 423
        },
        "id": "OnroOmD13yS8",
        "outputId": "02121843-bb49-4ddb-f16f-f6efa067c488"
      },
      "outputs": [
        {
          "data": {
            "application/vnd.google.colaboratory.intrinsic+json": {
              "summary": "{\n  \"name\": \"dataset_df\",\n  \"rows\": 249,\n  \"fields\": [\n    {\n      \"column\": \"Query\",\n      \"properties\": {\n        \"dtype\": \"string\",\n        \"num_unique_values\": 249,\n        \"samples\": [\n          \"windows essentials\",\n          \"hotm\",\n          \"java updates for windows 7\"\n        ],\n        \"semantic_type\": \"\",\n        \"description\": \"\"\n      }\n    },\n    {\n      \"column\": \"Clean_Queries\",\n      \"properties\": {\n        \"dtype\": \"object\",\n        \"semantic_type\": \"\",\n        \"description\": \"\"\n      }\n    }\n  ]\n}",
              "type": "dataframe",
              "variable_name": "dataset_df"
            },
            "text/html": [
              "\n",
              "  <div id=\"df-362990df-c34d-4a5b-98c9-051aacf7ac4d\" class=\"colab-df-container\">\n",
              "    <div>\n",
              "<style scoped>\n",
              "    .dataframe tbody tr th:only-of-type {\n",
              "        vertical-align: middle;\n",
              "    }\n",
              "\n",
              "    .dataframe tbody tr th {\n",
              "        vertical-align: top;\n",
              "    }\n",
              "\n",
              "    .dataframe thead th {\n",
              "        text-align: right;\n",
              "    }\n",
              "</style>\n",
              "<table border=\"1\" class=\"dataframe\">\n",
              "  <thead>\n",
              "    <tr style=\"text-align: right;\">\n",
              "      <th></th>\n",
              "      <th>Query</th>\n",
              "      <th>Clean_Queries</th>\n",
              "    </tr>\n",
              "  </thead>\n",
              "  <tbody>\n",
              "    <tr>\n",
              "      <th>0</th>\n",
              "      <td>internet explorer</td>\n",
              "      <td>[internet, explor]</td>\n",
              "    </tr>\n",
              "    <tr>\n",
              "      <th>1</th>\n",
              "      <td>windowsmedia</td>\n",
              "      <td>[windowsmedia]</td>\n",
              "    </tr>\n",
              "    <tr>\n",
              "      <th>2</th>\n",
              "      <td>microsoft</td>\n",
              "      <td>[microsoft]</td>\n",
              "    </tr>\n",
              "    <tr>\n",
              "      <th>3</th>\n",
              "      <td>outlook.com</td>\n",
              "      <td>[outlook, com]</td>\n",
              "    </tr>\n",
              "    <tr>\n",
              "      <th>4</th>\n",
              "      <td>Preview window</td>\n",
              "      <td>[preview, window]</td>\n",
              "    </tr>\n",
              "    <tr>\n",
              "      <th>...</th>\n",
              "      <td>...</td>\n",
              "      <td>...</td>\n",
              "    </tr>\n",
              "    <tr>\n",
              "      <th>244</th>\n",
              "      <td>meta</td>\n",
              "      <td>[meta]</td>\n",
              "    </tr>\n",
              "    <tr>\n",
              "      <th>245</th>\n",
              "      <td>download internet explorer</td>\n",
              "      <td>[download, internet, explor]</td>\n",
              "    </tr>\n",
              "    <tr>\n",
              "      <th>246</th>\n",
              "      <td>encarta</td>\n",
              "      <td>[encarta]</td>\n",
              "    </tr>\n",
              "    <tr>\n",
              "      <th>247</th>\n",
              "      <td>windows live mail</td>\n",
              "      <td>[window, live, mail]</td>\n",
              "    </tr>\n",
              "    <tr>\n",
              "      <th>248</th>\n",
              "      <td>Logging into UltiPro</td>\n",
              "      <td>[log, ultipro]</td>\n",
              "    </tr>\n",
              "  </tbody>\n",
              "</table>\n",
              "<p>249 rows × 2 columns</p>\n",
              "</div>\n",
              "    <div class=\"colab-df-buttons\">\n",
              "\n",
              "  <div class=\"colab-df-container\">\n",
              "    <button class=\"colab-df-convert\" onclick=\"convertToInteractive('df-362990df-c34d-4a5b-98c9-051aacf7ac4d')\"\n",
              "            title=\"Convert this dataframe to an interactive table.\"\n",
              "            style=\"display:none;\">\n",
              "\n",
              "  <svg xmlns=\"http://www.w3.org/2000/svg\" height=\"24px\" viewBox=\"0 -960 960 960\">\n",
              "    <path d=\"M120-120v-720h720v720H120Zm60-500h600v-160H180v160Zm220 220h160v-160H400v160Zm0 220h160v-160H400v160ZM180-400h160v-160H180v160Zm440 0h160v-160H620v160ZM180-180h160v-160H180v160Zm440 0h160v-160H620v160Z\"/>\n",
              "  </svg>\n",
              "    </button>\n",
              "\n",
              "  <style>\n",
              "    .colab-df-container {\n",
              "      display:flex;\n",
              "      gap: 12px;\n",
              "    }\n",
              "\n",
              "    .colab-df-convert {\n",
              "      background-color: #E8F0FE;\n",
              "      border: none;\n",
              "      border-radius: 50%;\n",
              "      cursor: pointer;\n",
              "      display: none;\n",
              "      fill: #1967D2;\n",
              "      height: 32px;\n",
              "      padding: 0 0 0 0;\n",
              "      width: 32px;\n",
              "    }\n",
              "\n",
              "    .colab-df-convert:hover {\n",
              "      background-color: #E2EBFA;\n",
              "      box-shadow: 0px 1px 2px rgba(60, 64, 67, 0.3), 0px 1px 3px 1px rgba(60, 64, 67, 0.15);\n",
              "      fill: #174EA6;\n",
              "    }\n",
              "\n",
              "    .colab-df-buttons div {\n",
              "      margin-bottom: 4px;\n",
              "    }\n",
              "\n",
              "    [theme=dark] .colab-df-convert {\n",
              "      background-color: #3B4455;\n",
              "      fill: #D2E3FC;\n",
              "    }\n",
              "\n",
              "    [theme=dark] .colab-df-convert:hover {\n",
              "      background-color: #434B5C;\n",
              "      box-shadow: 0px 1px 3px 1px rgba(0, 0, 0, 0.15);\n",
              "      filter: drop-shadow(0px 1px 2px rgba(0, 0, 0, 0.3));\n",
              "      fill: #FFFFFF;\n",
              "    }\n",
              "  </style>\n",
              "\n",
              "    <script>\n",
              "      const buttonEl =\n",
              "        document.querySelector('#df-362990df-c34d-4a5b-98c9-051aacf7ac4d button.colab-df-convert');\n",
              "      buttonEl.style.display =\n",
              "        google.colab.kernel.accessAllowed ? 'block' : 'none';\n",
              "\n",
              "      async function convertToInteractive(key) {\n",
              "        const element = document.querySelector('#df-362990df-c34d-4a5b-98c9-051aacf7ac4d');\n",
              "        const dataTable =\n",
              "          await google.colab.kernel.invokeFunction('convertToInteractive',\n",
              "                                                    [key], {});\n",
              "        if (!dataTable) return;\n",
              "\n",
              "        const docLinkHtml = 'Like what you see? Visit the ' +\n",
              "          '<a target=\"_blank\" href=https://colab.research.google.com/notebooks/data_table.ipynb>data table notebook</a>'\n",
              "          + ' to learn more about interactive tables.';\n",
              "        element.innerHTML = '';\n",
              "        dataTable['output_type'] = 'display_data';\n",
              "        await google.colab.output.renderOutput(dataTable, element);\n",
              "        const docLink = document.createElement('div');\n",
              "        docLink.innerHTML = docLinkHtml;\n",
              "        element.appendChild(docLink);\n",
              "      }\n",
              "    </script>\n",
              "  </div>\n",
              "\n",
              "\n",
              "<div id=\"df-fc711a5f-4311-42c4-bd7b-03b854ad637d\">\n",
              "  <button class=\"colab-df-quickchart\" onclick=\"quickchart('df-fc711a5f-4311-42c4-bd7b-03b854ad637d')\"\n",
              "            title=\"Suggest charts\"\n",
              "            style=\"display:none;\">\n",
              "\n",
              "<svg xmlns=\"http://www.w3.org/2000/svg\" height=\"24px\"viewBox=\"0 0 24 24\"\n",
              "     width=\"24px\">\n",
              "    <g>\n",
              "        <path d=\"M19 3H5c-1.1 0-2 .9-2 2v14c0 1.1.9 2 2 2h14c1.1 0 2-.9 2-2V5c0-1.1-.9-2-2-2zM9 17H7v-7h2v7zm4 0h-2V7h2v10zm4 0h-2v-4h2v4z\"/>\n",
              "    </g>\n",
              "</svg>\n",
              "  </button>\n",
              "\n",
              "<style>\n",
              "  .colab-df-quickchart {\n",
              "      --bg-color: #E8F0FE;\n",
              "      --fill-color: #1967D2;\n",
              "      --hover-bg-color: #E2EBFA;\n",
              "      --hover-fill-color: #174EA6;\n",
              "      --disabled-fill-color: #AAA;\n",
              "      --disabled-bg-color: #DDD;\n",
              "  }\n",
              "\n",
              "  [theme=dark] .colab-df-quickchart {\n",
              "      --bg-color: #3B4455;\n",
              "      --fill-color: #D2E3FC;\n",
              "      --hover-bg-color: #434B5C;\n",
              "      --hover-fill-color: #FFFFFF;\n",
              "      --disabled-bg-color: #3B4455;\n",
              "      --disabled-fill-color: #666;\n",
              "  }\n",
              "\n",
              "  .colab-df-quickchart {\n",
              "    background-color: var(--bg-color);\n",
              "    border: none;\n",
              "    border-radius: 50%;\n",
              "    cursor: pointer;\n",
              "    display: none;\n",
              "    fill: var(--fill-color);\n",
              "    height: 32px;\n",
              "    padding: 0;\n",
              "    width: 32px;\n",
              "  }\n",
              "\n",
              "  .colab-df-quickchart:hover {\n",
              "    background-color: var(--hover-bg-color);\n",
              "    box-shadow: 0 1px 2px rgba(60, 64, 67, 0.3), 0 1px 3px 1px rgba(60, 64, 67, 0.15);\n",
              "    fill: var(--button-hover-fill-color);\n",
              "  }\n",
              "\n",
              "  .colab-df-quickchart-complete:disabled,\n",
              "  .colab-df-quickchart-complete:disabled:hover {\n",
              "    background-color: var(--disabled-bg-color);\n",
              "    fill: var(--disabled-fill-color);\n",
              "    box-shadow: none;\n",
              "  }\n",
              "\n",
              "  .colab-df-spinner {\n",
              "    border: 2px solid var(--fill-color);\n",
              "    border-color: transparent;\n",
              "    border-bottom-color: var(--fill-color);\n",
              "    animation:\n",
              "      spin 1s steps(1) infinite;\n",
              "  }\n",
              "\n",
              "  @keyframes spin {\n",
              "    0% {\n",
              "      border-color: transparent;\n",
              "      border-bottom-color: var(--fill-color);\n",
              "      border-left-color: var(--fill-color);\n",
              "    }\n",
              "    20% {\n",
              "      border-color: transparent;\n",
              "      border-left-color: var(--fill-color);\n",
              "      border-top-color: var(--fill-color);\n",
              "    }\n",
              "    30% {\n",
              "      border-color: transparent;\n",
              "      border-left-color: var(--fill-color);\n",
              "      border-top-color: var(--fill-color);\n",
              "      border-right-color: var(--fill-color);\n",
              "    }\n",
              "    40% {\n",
              "      border-color: transparent;\n",
              "      border-right-color: var(--fill-color);\n",
              "      border-top-color: var(--fill-color);\n",
              "    }\n",
              "    60% {\n",
              "      border-color: transparent;\n",
              "      border-right-color: var(--fill-color);\n",
              "    }\n",
              "    80% {\n",
              "      border-color: transparent;\n",
              "      border-right-color: var(--fill-color);\n",
              "      border-bottom-color: var(--fill-color);\n",
              "    }\n",
              "    90% {\n",
              "      border-color: transparent;\n",
              "      border-bottom-color: var(--fill-color);\n",
              "    }\n",
              "  }\n",
              "</style>\n",
              "\n",
              "  <script>\n",
              "    async function quickchart(key) {\n",
              "      const quickchartButtonEl =\n",
              "        document.querySelector('#' + key + ' button');\n",
              "      quickchartButtonEl.disabled = true;  // To prevent multiple clicks.\n",
              "      quickchartButtonEl.classList.add('colab-df-spinner');\n",
              "      try {\n",
              "        const charts = await google.colab.kernel.invokeFunction(\n",
              "            'suggestCharts', [key], {});\n",
              "      } catch (error) {\n",
              "        console.error('Error during call to suggestCharts:', error);\n",
              "      }\n",
              "      quickchartButtonEl.classList.remove('colab-df-spinner');\n",
              "      quickchartButtonEl.classList.add('colab-df-quickchart-complete');\n",
              "    }\n",
              "    (() => {\n",
              "      let quickchartButtonEl =\n",
              "        document.querySelector('#df-fc711a5f-4311-42c4-bd7b-03b854ad637d button');\n",
              "      quickchartButtonEl.style.display =\n",
              "        google.colab.kernel.accessAllowed ? 'block' : 'none';\n",
              "    })();\n",
              "  </script>\n",
              "</div>\n",
              "\n",
              "  <div id=\"id_976f8783-0d3c-46fa-ba8d-696224c50413\">\n",
              "    <style>\n",
              "      .colab-df-generate {\n",
              "        background-color: #E8F0FE;\n",
              "        border: none;\n",
              "        border-radius: 50%;\n",
              "        cursor: pointer;\n",
              "        display: none;\n",
              "        fill: #1967D2;\n",
              "        height: 32px;\n",
              "        padding: 0 0 0 0;\n",
              "        width: 32px;\n",
              "      }\n",
              "\n",
              "      .colab-df-generate:hover {\n",
              "        background-color: #E2EBFA;\n",
              "        box-shadow: 0px 1px 2px rgba(60, 64, 67, 0.3), 0px 1px 3px 1px rgba(60, 64, 67, 0.15);\n",
              "        fill: #174EA6;\n",
              "      }\n",
              "\n",
              "      [theme=dark] .colab-df-generate {\n",
              "        background-color: #3B4455;\n",
              "        fill: #D2E3FC;\n",
              "      }\n",
              "\n",
              "      [theme=dark] .colab-df-generate:hover {\n",
              "        background-color: #434B5C;\n",
              "        box-shadow: 0px 1px 3px 1px rgba(0, 0, 0, 0.15);\n",
              "        filter: drop-shadow(0px 1px 2px rgba(0, 0, 0, 0.3));\n",
              "        fill: #FFFFFF;\n",
              "      }\n",
              "    </style>\n",
              "    <button class=\"colab-df-generate\" onclick=\"generateWithVariable('dataset_df')\"\n",
              "            title=\"Generate code using this dataframe.\"\n",
              "            style=\"display:none;\">\n",
              "\n",
              "  <svg xmlns=\"http://www.w3.org/2000/svg\" height=\"24px\"viewBox=\"0 0 24 24\"\n",
              "       width=\"24px\">\n",
              "    <path d=\"M7,19H8.4L18.45,9,17,7.55,7,17.6ZM5,21V16.75L18.45,3.32a2,2,0,0,1,2.83,0l1.4,1.43a1.91,1.91,0,0,1,.58,1.4,1.91,1.91,0,0,1-.58,1.4L9.25,21ZM18.45,9,17,7.55Zm-12,3A5.31,5.31,0,0,0,4.9,8.1,5.31,5.31,0,0,0,1,6.5,5.31,5.31,0,0,0,4.9,4.9,5.31,5.31,0,0,0,6.5,1,5.31,5.31,0,0,0,8.1,4.9,5.31,5.31,0,0,0,12,6.5,5.46,5.46,0,0,0,6.5,12Z\"/>\n",
              "  </svg>\n",
              "    </button>\n",
              "    <script>\n",
              "      (() => {\n",
              "      const buttonEl =\n",
              "        document.querySelector('#id_976f8783-0d3c-46fa-ba8d-696224c50413 button.colab-df-generate');\n",
              "      buttonEl.style.display =\n",
              "        google.colab.kernel.accessAllowed ? 'block' : 'none';\n",
              "\n",
              "      buttonEl.onclick = () => {\n",
              "        google.colab.notebook.generateWithVariable('dataset_df');\n",
              "      }\n",
              "      })();\n",
              "    </script>\n",
              "  </div>\n",
              "\n",
              "    </div>\n",
              "  </div>\n"
            ],
            "text/plain": [
              "                          Query                 Clean_Queries\n",
              "0             internet explorer            [internet, explor]\n",
              "1                  windowsmedia                [windowsmedia]\n",
              "2                     microsoft                   [microsoft]\n",
              "3                   outlook.com                [outlook, com]\n",
              "4                Preview window             [preview, window]\n",
              "..                          ...                           ...\n",
              "244                        meta                        [meta]\n",
              "245  download internet explorer  [download, internet, explor]\n",
              "246                     encarta                     [encarta]\n",
              "247           windows live mail          [window, live, mail]\n",
              "248        Logging into UltiPro                [log, ultipro]\n",
              "\n",
              "[249 rows x 2 columns]"
            ]
          },
          "execution_count": 10,
          "metadata": {},
          "output_type": "execute_result"
        }
      ],
      "source": [
        "dataset_df"
      ]
    },
    {
      "cell_type": "code",
      "execution_count": 11,
      "metadata": {
        "id": "xwozLA4J36Oq"
      },
      "outputs": [],
      "source": [
        "filters=[lambda x: x.lower(),strip_tags,strip_punctuation,remove_stopwords,strip_short]\n",
        "dataset_df['Clean_Queries1'] = dataset_df['Query'].apply(lambda x: preprocess_string(x,filters))"
      ]
    },
    {
      "cell_type": "code",
      "execution_count": 12,
      "metadata": {
        "colab": {
          "base_uri": "https://localhost:8080/",
          "height": 423
        },
        "id": "Y6sc4t1w4cyR",
        "outputId": "9fc902b9-0a0c-4352-eea0-a46805ca0cd9"
      },
      "outputs": [
        {
          "data": {
            "application/vnd.google.colaboratory.intrinsic+json": {
              "summary": "{\n  \"name\": \"dataset_df\",\n  \"rows\": 249,\n  \"fields\": [\n    {\n      \"column\": \"Query\",\n      \"properties\": {\n        \"dtype\": \"string\",\n        \"num_unique_values\": 249,\n        \"samples\": [\n          \"windows essentials\",\n          \"hotm\",\n          \"java updates for windows 7\"\n        ],\n        \"semantic_type\": \"\",\n        \"description\": \"\"\n      }\n    },\n    {\n      \"column\": \"Clean_Queries\",\n      \"properties\": {\n        \"dtype\": \"object\",\n        \"semantic_type\": \"\",\n        \"description\": \"\"\n      }\n    },\n    {\n      \"column\": \"Clean_Queries1\",\n      \"properties\": {\n        \"dtype\": \"object\",\n        \"semantic_type\": \"\",\n        \"description\": \"\"\n      }\n    }\n  ]\n}",
              "type": "dataframe",
              "variable_name": "dataset_df"
            },
            "text/html": [
              "\n",
              "  <div id=\"df-7c82123a-9216-454d-a7aa-686603d90c03\" class=\"colab-df-container\">\n",
              "    <div>\n",
              "<style scoped>\n",
              "    .dataframe tbody tr th:only-of-type {\n",
              "        vertical-align: middle;\n",
              "    }\n",
              "\n",
              "    .dataframe tbody tr th {\n",
              "        vertical-align: top;\n",
              "    }\n",
              "\n",
              "    .dataframe thead th {\n",
              "        text-align: right;\n",
              "    }\n",
              "</style>\n",
              "<table border=\"1\" class=\"dataframe\">\n",
              "  <thead>\n",
              "    <tr style=\"text-align: right;\">\n",
              "      <th></th>\n",
              "      <th>Query</th>\n",
              "      <th>Clean_Queries</th>\n",
              "      <th>Clean_Queries1</th>\n",
              "    </tr>\n",
              "  </thead>\n",
              "  <tbody>\n",
              "    <tr>\n",
              "      <th>0</th>\n",
              "      <td>internet explorer</td>\n",
              "      <td>[internet, explor]</td>\n",
              "      <td>[internet, explorer]</td>\n",
              "    </tr>\n",
              "    <tr>\n",
              "      <th>1</th>\n",
              "      <td>windowsmedia</td>\n",
              "      <td>[windowsmedia]</td>\n",
              "      <td>[windowsmedia]</td>\n",
              "    </tr>\n",
              "    <tr>\n",
              "      <th>2</th>\n",
              "      <td>microsoft</td>\n",
              "      <td>[microsoft]</td>\n",
              "      <td>[microsoft]</td>\n",
              "    </tr>\n",
              "    <tr>\n",
              "      <th>3</th>\n",
              "      <td>outlook.com</td>\n",
              "      <td>[outlook, com]</td>\n",
              "      <td>[outlook, com]</td>\n",
              "    </tr>\n",
              "    <tr>\n",
              "      <th>4</th>\n",
              "      <td>Preview window</td>\n",
              "      <td>[preview, window]</td>\n",
              "      <td>[preview, window]</td>\n",
              "    </tr>\n",
              "    <tr>\n",
              "      <th>...</th>\n",
              "      <td>...</td>\n",
              "      <td>...</td>\n",
              "      <td>...</td>\n",
              "    </tr>\n",
              "    <tr>\n",
              "      <th>244</th>\n",
              "      <td>meta</td>\n",
              "      <td>[meta]</td>\n",
              "      <td>[meta]</td>\n",
              "    </tr>\n",
              "    <tr>\n",
              "      <th>245</th>\n",
              "      <td>download internet explorer</td>\n",
              "      <td>[download, internet, explor]</td>\n",
              "      <td>[download, internet, explorer]</td>\n",
              "    </tr>\n",
              "    <tr>\n",
              "      <th>246</th>\n",
              "      <td>encarta</td>\n",
              "      <td>[encarta]</td>\n",
              "      <td>[encarta]</td>\n",
              "    </tr>\n",
              "    <tr>\n",
              "      <th>247</th>\n",
              "      <td>windows live mail</td>\n",
              "      <td>[window, live, mail]</td>\n",
              "      <td>[windows, live, mail]</td>\n",
              "    </tr>\n",
              "    <tr>\n",
              "      <th>248</th>\n",
              "      <td>Logging into UltiPro</td>\n",
              "      <td>[log, ultipro]</td>\n",
              "      <td>[logging, ultipro]</td>\n",
              "    </tr>\n",
              "  </tbody>\n",
              "</table>\n",
              "<p>249 rows × 3 columns</p>\n",
              "</div>\n",
              "    <div class=\"colab-df-buttons\">\n",
              "\n",
              "  <div class=\"colab-df-container\">\n",
              "    <button class=\"colab-df-convert\" onclick=\"convertToInteractive('df-7c82123a-9216-454d-a7aa-686603d90c03')\"\n",
              "            title=\"Convert this dataframe to an interactive table.\"\n",
              "            style=\"display:none;\">\n",
              "\n",
              "  <svg xmlns=\"http://www.w3.org/2000/svg\" height=\"24px\" viewBox=\"0 -960 960 960\">\n",
              "    <path d=\"M120-120v-720h720v720H120Zm60-500h600v-160H180v160Zm220 220h160v-160H400v160Zm0 220h160v-160H400v160ZM180-400h160v-160H180v160Zm440 0h160v-160H620v160ZM180-180h160v-160H180v160Zm440 0h160v-160H620v160Z\"/>\n",
              "  </svg>\n",
              "    </button>\n",
              "\n",
              "  <style>\n",
              "    .colab-df-container {\n",
              "      display:flex;\n",
              "      gap: 12px;\n",
              "    }\n",
              "\n",
              "    .colab-df-convert {\n",
              "      background-color: #E8F0FE;\n",
              "      border: none;\n",
              "      border-radius: 50%;\n",
              "      cursor: pointer;\n",
              "      display: none;\n",
              "      fill: #1967D2;\n",
              "      height: 32px;\n",
              "      padding: 0 0 0 0;\n",
              "      width: 32px;\n",
              "    }\n",
              "\n",
              "    .colab-df-convert:hover {\n",
              "      background-color: #E2EBFA;\n",
              "      box-shadow: 0px 1px 2px rgba(60, 64, 67, 0.3), 0px 1px 3px 1px rgba(60, 64, 67, 0.15);\n",
              "      fill: #174EA6;\n",
              "    }\n",
              "\n",
              "    .colab-df-buttons div {\n",
              "      margin-bottom: 4px;\n",
              "    }\n",
              "\n",
              "    [theme=dark] .colab-df-convert {\n",
              "      background-color: #3B4455;\n",
              "      fill: #D2E3FC;\n",
              "    }\n",
              "\n",
              "    [theme=dark] .colab-df-convert:hover {\n",
              "      background-color: #434B5C;\n",
              "      box-shadow: 0px 1px 3px 1px rgba(0, 0, 0, 0.15);\n",
              "      filter: drop-shadow(0px 1px 2px rgba(0, 0, 0, 0.3));\n",
              "      fill: #FFFFFF;\n",
              "    }\n",
              "  </style>\n",
              "\n",
              "    <script>\n",
              "      const buttonEl =\n",
              "        document.querySelector('#df-7c82123a-9216-454d-a7aa-686603d90c03 button.colab-df-convert');\n",
              "      buttonEl.style.display =\n",
              "        google.colab.kernel.accessAllowed ? 'block' : 'none';\n",
              "\n",
              "      async function convertToInteractive(key) {\n",
              "        const element = document.querySelector('#df-7c82123a-9216-454d-a7aa-686603d90c03');\n",
              "        const dataTable =\n",
              "          await google.colab.kernel.invokeFunction('convertToInteractive',\n",
              "                                                    [key], {});\n",
              "        if (!dataTable) return;\n",
              "\n",
              "        const docLinkHtml = 'Like what you see? Visit the ' +\n",
              "          '<a target=\"_blank\" href=https://colab.research.google.com/notebooks/data_table.ipynb>data table notebook</a>'\n",
              "          + ' to learn more about interactive tables.';\n",
              "        element.innerHTML = '';\n",
              "        dataTable['output_type'] = 'display_data';\n",
              "        await google.colab.output.renderOutput(dataTable, element);\n",
              "        const docLink = document.createElement('div');\n",
              "        docLink.innerHTML = docLinkHtml;\n",
              "        element.appendChild(docLink);\n",
              "      }\n",
              "    </script>\n",
              "  </div>\n",
              "\n",
              "\n",
              "<div id=\"df-b3aeaa41-40dc-43de-bbfd-29fefe01675e\">\n",
              "  <button class=\"colab-df-quickchart\" onclick=\"quickchart('df-b3aeaa41-40dc-43de-bbfd-29fefe01675e')\"\n",
              "            title=\"Suggest charts\"\n",
              "            style=\"display:none;\">\n",
              "\n",
              "<svg xmlns=\"http://www.w3.org/2000/svg\" height=\"24px\"viewBox=\"0 0 24 24\"\n",
              "     width=\"24px\">\n",
              "    <g>\n",
              "        <path d=\"M19 3H5c-1.1 0-2 .9-2 2v14c0 1.1.9 2 2 2h14c1.1 0 2-.9 2-2V5c0-1.1-.9-2-2-2zM9 17H7v-7h2v7zm4 0h-2V7h2v10zm4 0h-2v-4h2v4z\"/>\n",
              "    </g>\n",
              "</svg>\n",
              "  </button>\n",
              "\n",
              "<style>\n",
              "  .colab-df-quickchart {\n",
              "      --bg-color: #E8F0FE;\n",
              "      --fill-color: #1967D2;\n",
              "      --hover-bg-color: #E2EBFA;\n",
              "      --hover-fill-color: #174EA6;\n",
              "      --disabled-fill-color: #AAA;\n",
              "      --disabled-bg-color: #DDD;\n",
              "  }\n",
              "\n",
              "  [theme=dark] .colab-df-quickchart {\n",
              "      --bg-color: #3B4455;\n",
              "      --fill-color: #D2E3FC;\n",
              "      --hover-bg-color: #434B5C;\n",
              "      --hover-fill-color: #FFFFFF;\n",
              "      --disabled-bg-color: #3B4455;\n",
              "      --disabled-fill-color: #666;\n",
              "  }\n",
              "\n",
              "  .colab-df-quickchart {\n",
              "    background-color: var(--bg-color);\n",
              "    border: none;\n",
              "    border-radius: 50%;\n",
              "    cursor: pointer;\n",
              "    display: none;\n",
              "    fill: var(--fill-color);\n",
              "    height: 32px;\n",
              "    padding: 0;\n",
              "    width: 32px;\n",
              "  }\n",
              "\n",
              "  .colab-df-quickchart:hover {\n",
              "    background-color: var(--hover-bg-color);\n",
              "    box-shadow: 0 1px 2px rgba(60, 64, 67, 0.3), 0 1px 3px 1px rgba(60, 64, 67, 0.15);\n",
              "    fill: var(--button-hover-fill-color);\n",
              "  }\n",
              "\n",
              "  .colab-df-quickchart-complete:disabled,\n",
              "  .colab-df-quickchart-complete:disabled:hover {\n",
              "    background-color: var(--disabled-bg-color);\n",
              "    fill: var(--disabled-fill-color);\n",
              "    box-shadow: none;\n",
              "  }\n",
              "\n",
              "  .colab-df-spinner {\n",
              "    border: 2px solid var(--fill-color);\n",
              "    border-color: transparent;\n",
              "    border-bottom-color: var(--fill-color);\n",
              "    animation:\n",
              "      spin 1s steps(1) infinite;\n",
              "  }\n",
              "\n",
              "  @keyframes spin {\n",
              "    0% {\n",
              "      border-color: transparent;\n",
              "      border-bottom-color: var(--fill-color);\n",
              "      border-left-color: var(--fill-color);\n",
              "    }\n",
              "    20% {\n",
              "      border-color: transparent;\n",
              "      border-left-color: var(--fill-color);\n",
              "      border-top-color: var(--fill-color);\n",
              "    }\n",
              "    30% {\n",
              "      border-color: transparent;\n",
              "      border-left-color: var(--fill-color);\n",
              "      border-top-color: var(--fill-color);\n",
              "      border-right-color: var(--fill-color);\n",
              "    }\n",
              "    40% {\n",
              "      border-color: transparent;\n",
              "      border-right-color: var(--fill-color);\n",
              "      border-top-color: var(--fill-color);\n",
              "    }\n",
              "    60% {\n",
              "      border-color: transparent;\n",
              "      border-right-color: var(--fill-color);\n",
              "    }\n",
              "    80% {\n",
              "      border-color: transparent;\n",
              "      border-right-color: var(--fill-color);\n",
              "      border-bottom-color: var(--fill-color);\n",
              "    }\n",
              "    90% {\n",
              "      border-color: transparent;\n",
              "      border-bottom-color: var(--fill-color);\n",
              "    }\n",
              "  }\n",
              "</style>\n",
              "\n",
              "  <script>\n",
              "    async function quickchart(key) {\n",
              "      const quickchartButtonEl =\n",
              "        document.querySelector('#' + key + ' button');\n",
              "      quickchartButtonEl.disabled = true;  // To prevent multiple clicks.\n",
              "      quickchartButtonEl.classList.add('colab-df-spinner');\n",
              "      try {\n",
              "        const charts = await google.colab.kernel.invokeFunction(\n",
              "            'suggestCharts', [key], {});\n",
              "      } catch (error) {\n",
              "        console.error('Error during call to suggestCharts:', error);\n",
              "      }\n",
              "      quickchartButtonEl.classList.remove('colab-df-spinner');\n",
              "      quickchartButtonEl.classList.add('colab-df-quickchart-complete');\n",
              "    }\n",
              "    (() => {\n",
              "      let quickchartButtonEl =\n",
              "        document.querySelector('#df-b3aeaa41-40dc-43de-bbfd-29fefe01675e button');\n",
              "      quickchartButtonEl.style.display =\n",
              "        google.colab.kernel.accessAllowed ? 'block' : 'none';\n",
              "    })();\n",
              "  </script>\n",
              "</div>\n",
              "\n",
              "  <div id=\"id_24c2763a-43e8-4e39-b6ad-466564c785f7\">\n",
              "    <style>\n",
              "      .colab-df-generate {\n",
              "        background-color: #E8F0FE;\n",
              "        border: none;\n",
              "        border-radius: 50%;\n",
              "        cursor: pointer;\n",
              "        display: none;\n",
              "        fill: #1967D2;\n",
              "        height: 32px;\n",
              "        padding: 0 0 0 0;\n",
              "        width: 32px;\n",
              "      }\n",
              "\n",
              "      .colab-df-generate:hover {\n",
              "        background-color: #E2EBFA;\n",
              "        box-shadow: 0px 1px 2px rgba(60, 64, 67, 0.3), 0px 1px 3px 1px rgba(60, 64, 67, 0.15);\n",
              "        fill: #174EA6;\n",
              "      }\n",
              "\n",
              "      [theme=dark] .colab-df-generate {\n",
              "        background-color: #3B4455;\n",
              "        fill: #D2E3FC;\n",
              "      }\n",
              "\n",
              "      [theme=dark] .colab-df-generate:hover {\n",
              "        background-color: #434B5C;\n",
              "        box-shadow: 0px 1px 3px 1px rgba(0, 0, 0, 0.15);\n",
              "        filter: drop-shadow(0px 1px 2px rgba(0, 0, 0, 0.3));\n",
              "        fill: #FFFFFF;\n",
              "      }\n",
              "    </style>\n",
              "    <button class=\"colab-df-generate\" onclick=\"generateWithVariable('dataset_df')\"\n",
              "            title=\"Generate code using this dataframe.\"\n",
              "            style=\"display:none;\">\n",
              "\n",
              "  <svg xmlns=\"http://www.w3.org/2000/svg\" height=\"24px\"viewBox=\"0 0 24 24\"\n",
              "       width=\"24px\">\n",
              "    <path d=\"M7,19H8.4L18.45,9,17,7.55,7,17.6ZM5,21V16.75L18.45,3.32a2,2,0,0,1,2.83,0l1.4,1.43a1.91,1.91,0,0,1,.58,1.4,1.91,1.91,0,0,1-.58,1.4L9.25,21ZM18.45,9,17,7.55Zm-12,3A5.31,5.31,0,0,0,4.9,8.1,5.31,5.31,0,0,0,1,6.5,5.31,5.31,0,0,0,4.9,4.9,5.31,5.31,0,0,0,6.5,1,5.31,5.31,0,0,0,8.1,4.9,5.31,5.31,0,0,0,12,6.5,5.46,5.46,0,0,0,6.5,12Z\"/>\n",
              "  </svg>\n",
              "    </button>\n",
              "    <script>\n",
              "      (() => {\n",
              "      const buttonEl =\n",
              "        document.querySelector('#id_24c2763a-43e8-4e39-b6ad-466564c785f7 button.colab-df-generate');\n",
              "      buttonEl.style.display =\n",
              "        google.colab.kernel.accessAllowed ? 'block' : 'none';\n",
              "\n",
              "      buttonEl.onclick = () => {\n",
              "        google.colab.notebook.generateWithVariable('dataset_df');\n",
              "      }\n",
              "      })();\n",
              "    </script>\n",
              "  </div>\n",
              "\n",
              "    </div>\n",
              "  </div>\n"
            ],
            "text/plain": [
              "                          Query                 Clean_Queries  \\\n",
              "0             internet explorer            [internet, explor]   \n",
              "1                  windowsmedia                [windowsmedia]   \n",
              "2                     microsoft                   [microsoft]   \n",
              "3                   outlook.com                [outlook, com]   \n",
              "4                Preview window             [preview, window]   \n",
              "..                          ...                           ...   \n",
              "244                        meta                        [meta]   \n",
              "245  download internet explorer  [download, internet, explor]   \n",
              "246                     encarta                     [encarta]   \n",
              "247           windows live mail          [window, live, mail]   \n",
              "248        Logging into UltiPro                [log, ultipro]   \n",
              "\n",
              "                     Clean_Queries1  \n",
              "0              [internet, explorer]  \n",
              "1                    [windowsmedia]  \n",
              "2                       [microsoft]  \n",
              "3                    [outlook, com]  \n",
              "4                 [preview, window]  \n",
              "..                              ...  \n",
              "244                          [meta]  \n",
              "245  [download, internet, explorer]  \n",
              "246                       [encarta]  \n",
              "247           [windows, live, mail]  \n",
              "248              [logging, ultipro]  \n",
              "\n",
              "[249 rows x 3 columns]"
            ]
          },
          "execution_count": 12,
          "metadata": {},
          "output_type": "execute_result"
        }
      ],
      "source": [
        "dataset_df"
      ]
    },
    {
      "cell_type": "code",
      "execution_count": 13,
      "metadata": {
        "id": "sGtbOrcq4fi5"
      },
      "outputs": [],
      "source": [
        "dataset_dictionary = Dictionary(dataset_df['Clean_Queries1'])"
      ]
    },
    {
      "cell_type": "code",
      "execution_count": 14,
      "metadata": {
        "colab": {
          "base_uri": "https://localhost:8080/"
        },
        "id": "X9ay7VSe-koS",
        "outputId": "3f9d2c7e-a401-4f7b-ce4c-d619ff360e95"
      },
      "outputs": [
        {
          "data": {
            "text/plain": [
              "201"
            ]
          },
          "execution_count": 14,
          "metadata": {},
          "output_type": "execute_result"
        }
      ],
      "source": [
        "len(dataset_dictionary)"
      ]
    },
    {
      "cell_type": "code",
      "execution_count": 15,
      "metadata": {
        "colab": {
          "base_uri": "https://localhost:8080/"
        },
        "id": "9stsPnPO8G1c",
        "outputId": "e18462ce-5b9c-4b48-e8b0-595f38b298e8"
      },
      "outputs": [
        {
          "name": "stdout",
          "output_type": "stream",
          "text": [
            "{'explorer': 0, 'internet': 1, 'windowsmedia': 2, 'microsoft': 3, 'com': 4, 'outlook': 5, 'preview': 6, 'window': 7, 'homepage': 8, 'msn': 9, 'hotm': 10, 'skype': 11, 'account': 12, 'google': 13, 'toolbar': 14, 'history': 15, 'manage': 16, 'flash': 17, 'object': 18, 'ocx': 19, 'shockwave': 20, 'windows': 21, 'java': 22, 'office': 23, 'setup': 24, 'www': 25, 'media': 26, 'player': 27, 'update': 28, 'settings': 29, 'download': 30, 'free': 31, 'app': 32, 'store': 33, 'sharepoint': 34, 'marinenet': 35, 'mil': 36, 'usmc': 37, 'essentials': 38, 'security': 39, 'login': 40, 'downloads': 41, 'office365': 42, 'defender': 43, 'backgrounds': 44, 'desktop': 45, 'menu': 46, 'w2express': 47, 'support': 48, 'firefox': 49, 'mozilla': 50, 'live': 51, 'password': 52, 'reset': 53, 'background': 54, 'xbox': 55, 'maker': 56, 'movie': 57, 'help': 58, 'word': 59, 'mail': 60, '360': 61, 'email': 62, 'express': 63, 'proxy': 64, 'server': 65, 'onedrive': 66, 'device': 67, 'manager': 68, 'apk': 69, 'extension': 70, 'file': 71, 'wallpaper': 72, 'messenger': 73, 'home': 74, 'page': 75, 'wallpapers': 76, 'hormail': 77, 'myaccount': 78, '365': 79, 'control': 80, 'panel': 81, 'bing': 82, 'search': 83, 'apps': 84, 'intranet': 85, 'cmd': 86, 'adblock': 87, 'plus': 88, 'javascript': 89, 'music': 90, 'directx': 91, 'bluetooth': 92, 'skydrive': 93, 'framework': 94, 'net': 95, 'website': 96, 'iexplorer': 97, 'delete': 98, 'updates': 99, 'ie9': 100, 'direct': 101, 'wot': 102, 'favorites': 103, 'missing': 104, 'screenshot': 105, 'banking': 106, 'online': 107, 'pnc': 108, 'games': 109, 'latest': 110, 'screen': 111, 'shot': 112, 'screensavers': 113, 'outlook365': 114, 'mse': 115, 'emz': 116, 'miracast': 117, 'sign': 118, 'list': 119, 'log': 120, 'changer': 121, 'daily': 122, 'troubleshooter': 123, 'exe': 124, 'sp1': 125, 'notepad': 126, 'explore': 127, 'drive': 128, 'hotmil': 129, 'windowsupgradeoffer': 130, 'inbox': 131, 'open': 132, 'openoffice': 133, 'lnk': 134, 'activex': 135, 'msconfig': 136, 'theme': 137, 'cookies': 138, 'enable': 139, 'honda': 140, 'authorize': 141, 'itunes': 142, 'xboxie': 143, 'browser': 144, 'tutorial': 145, 'antivirus': 146, 'otmail': 147, 'speakers': 148, 'acsm': 149, 'windowsonecare': 150, 'verify': 151, 'keyboard': 152, 'shortcuts': 153, 'nslookup': 154, 'ask': 155, 'zune': 156, 'pof': 157, 'rewards': 158, 'wordpad': 159, 'event': 160, 'paint': 161, '2013': 162, 'dead': 163, 'rising': 164, 'change': 165, 'engine': 166, 'studio': 167, 'visual': 168, 'version': 169, 'ie11': 170, 'checker': 171, 'homail': 172, 'csrss': 173, 'browsing': 174, 'private': 175, 'rtc': 176, 'hotail': 177, 'adobe': 178, 'release': 179, 'dmp': 180, 'enternet': 181, 'trovi': 182, 'clone': 183, 'virtual': 184, 'business': 185, 'dll': 186, 'helper': 187, 'plug': 188, 'ssv': 189, 'access': 190, 'web': 191, '2014': 192, 'chrome': 193, 'deskthemepack': 194, 'remote': 195, 'bar': 196, 'meta': 197, 'encarta': 198, 'logging': 199, 'ultipro': 200}\n"
          ]
        }
      ],
      "source": [
        "print(dataset_dictionary.token2id)"
      ]
    },
    {
      "cell_type": "code",
      "execution_count": 16,
      "metadata": {
        "id": "jAgbfgda9Oc-"
      },
      "outputs": [],
      "source": [
        "dataset_corpus_bow = [dataset_dictionary.doc2bow(text) for text in dataset_df['Clean_Queries1']] #create a dataset corpus with bag of word vectorization"
      ]
    },
    {
      "cell_type": "code",
      "execution_count": 17,
      "metadata": {
        "colab": {
          "base_uri": "https://localhost:8080/"
        },
        "id": "zDDxdYRP-gd3",
        "outputId": "1d424854-0079-4c7d-9067-a1143a4d522e"
      },
      "outputs": [
        {
          "data": {
            "text/plain": [
              "249"
            ]
          },
          "execution_count": 17,
          "metadata": {},
          "output_type": "execute_result"
        }
      ],
      "source": [
        "len(dataset_corpus_bow)"
      ]
    },
    {
      "cell_type": "code",
      "execution_count": 18,
      "metadata": {
        "colab": {
          "base_uri": "https://localhost:8080/"
        },
        "id": "nB_HWKtx-A-g",
        "outputId": "fb563a26-0262-4fc1-e925-f5f8bde28971"
      },
      "outputs": [
        {
          "name": "stdout",
          "output_type": "stream",
          "text": [
            "[(6, 1), (7, 1)]\n"
          ]
        }
      ],
      "source": [
        "#Preview window\n",
        "print(dataset_corpus_bow[4])"
      ]
    },
    {
      "cell_type": "code",
      "execution_count": 19,
      "metadata": {
        "id": "2Q833qU5-6E_"
      },
      "outputs": [],
      "source": [
        "tfidf = models.TfidfModel(dataset_corpus_bow)\n",
        "dataset_corpus_tfidf = tfidf[dataset_corpus_bow]"
      ]
    },
    {
      "cell_type": "code",
      "execution_count": 20,
      "metadata": {
        "colab": {
          "base_uri": "https://localhost:8080/"
        },
        "id": "YGduDCYl5nlS",
        "outputId": "755efb46-1f4a-4825-a55d-0fb979094f80"
      },
      "outputs": [
        {
          "data": {
            "text/plain": [
              "249"
            ]
          },
          "execution_count": 20,
          "metadata": {},
          "output_type": "execute_result"
        }
      ],
      "source": [
        "len(dataset_corpus_tfidf)"
      ]
    },
    {
      "cell_type": "code",
      "execution_count": 21,
      "metadata": {
        "colab": {
          "base_uri": "https://localhost:8080/"
        },
        "id": "sCcCn4LN5rAA",
        "outputId": "a1dd3ebd-e0ed-45c9-fb26-0cb18e419a4e"
      },
      "outputs": [
        {
          "name": "stdout",
          "output_type": "stream",
          "text": [
            "[(6, 0.7071067811865475), (7, 0.7071067811865475)]\n"
          ]
        }
      ],
      "source": [
        "print(dataset_corpus_tfidf[4])"
      ]
    },
    {
      "cell_type": "markdown",
      "metadata": {
        "id": "D28OHRECCPi3"
      },
      "source": [
        "# Topic Modelling with Latent Dirichlet Allocation(LDA)\n"
      ]
    },
    {
      "cell_type": "code",
      "execution_count": 22,
      "metadata": {
        "id": "EAPMxwa6_VsI"
      },
      "outputs": [],
      "source": [
        "from gensim.models.ldamodel import LdaModel"
      ]
    },
    {
      "cell_type": "code",
      "execution_count": 23,
      "metadata": {
        "colab": {
          "base_uri": "https://localhost:8080/"
        },
        "id": "X3Ud1VzM_-1E",
        "outputId": "0e2bec4a-00fe-4209-c15e-72f53d1b44f6"
      },
      "outputs": [
        {
          "name": "stderr",
          "output_type": "stream",
          "text": [
            "WARNING:gensim.models.ldamodel:too few updates, training might not converge; consider increasing the number of passes or iterations to improve accuracy\n"
          ]
        }
      ],
      "source": [
        "lda_bow = LdaModel(dataset_corpus_bow,num_topics=20,id2word=dataset_dictionary,random_state=0)"
      ]
    },
    {
      "cell_type": "code",
      "execution_count": 24,
      "metadata": {
        "colab": {
          "base_uri": "https://localhost:8080/"
        },
        "id": "6-7CEcC1AIMt",
        "outputId": "7c235b94-6bc1-4159-ed18-cb1fae4d2220"
      },
      "outputs": [
        {
          "name": "stdout",
          "output_type": "stream",
          "text": [
            "(0, '0.101*\"windows\" + 0.076*\"explorer\" + 0.076*\"internet\" + 0.051*\"toolbar\" + 0.051*\"mail\" + 0.051*\"outlook\" + 0.051*\"google\" + 0.026*\"flash\"')\n",
            "(1, '0.087*\"windows\" + 0.058*\"extension\" + 0.058*\"file\" + 0.058*\"download\" + 0.058*\"desktop\" + 0.030*\"365\" + 0.030*\"2014\" + 0.030*\"chrome\"')\n",
            "(2, '0.071*\"homepage\" + 0.071*\"xbox\" + 0.071*\"com\" + 0.036*\"setup\" + 0.036*\"firefox\" + 0.036*\"browser\" + 0.036*\"support\" + 0.036*\"explorer\"')\n",
            "(3, '0.044*\"changer\" + 0.044*\"bing\" + 0.044*\"explorer\" + 0.044*\"daily\" + 0.044*\"browsing\" + 0.044*\"background\" + 0.044*\"desktop\" + 0.044*\"office\"')\n",
            "(4, '0.046*\"updates\" + 0.046*\"internet\" + 0.046*\"download\" + 0.046*\"outlook\" + 0.046*\"access\" + 0.046*\"explorer\" + 0.046*\"java\" + 0.046*\"web\"')\n",
            "(5, '0.073*\"email\" + 0.073*\"com\" + 0.037*\"ask\" + 0.037*\"account\" + 0.037*\"page\" + 0.037*\"inbox\" + 0.037*\"home\" + 0.037*\"open\"')\n",
            "(6, '0.152*\"windows\" + 0.048*\"password\" + 0.024*\"change\" + 0.024*\"skype\" + 0.024*\"bing\" + 0.024*\"google\" + 0.024*\"w2express\" + 0.024*\"reset\"')\n",
            "(7, '0.082*\"com\" + 0.082*\"skype\" + 0.042*\"drive\" + 0.042*\"login\" + 0.042*\"clone\" + 0.042*\"virtual\" + 0.042*\"screensavers\" + 0.042*\"proxy\"')\n",
            "(8, '0.082*\"com\" + 0.055*\"msn\" + 0.055*\"download\" + 0.055*\"directx\" + 0.028*\"online\" + 0.028*\"homepage\" + 0.028*\"adblock\" + 0.028*\"page\"')\n",
            "(9, '0.076*\"flash\" + 0.076*\"com\" + 0.076*\"microsoft\" + 0.039*\"shockwave\" + 0.039*\"object\" + 0.039*\"csrss\" + 0.039*\"ocx\" + 0.039*\"exe\"')\n",
            "(10, '0.039*\"email\" + 0.039*\"outlook\" + 0.039*\"shortcuts\" + 0.039*\"page\" + 0.039*\"intranet\" + 0.039*\"msn\" + 0.039*\"explorer\" + 0.039*\"microsoft\"')\n",
            "(11, '0.116*\"com\" + 0.067*\"java\" + 0.067*\"www\" + 0.034*\"outlook\" + 0.034*\"ssv\" + 0.034*\"update\" + 0.034*\"office365\" + 0.034*\"microsoft\"')\n",
            "(12, '0.075*\"microsoft\" + 0.060*\"com\" + 0.053*\"windows\" + 0.045*\"office\" + 0.045*\"www\" + 0.045*\"update\" + 0.045*\"essentials\" + 0.031*\"internet\"')\n",
            "(13, '0.052*\"reset\" + 0.052*\"marinenet\" + 0.052*\"password\" + 0.052*\"usmc\" + 0.052*\"login\" + 0.052*\"account\" + 0.052*\"microsoft\" + 0.052*\"mil\"')\n",
            "(14, '0.096*\"xbox\" + 0.077*\"windows\" + 0.077*\"live\" + 0.039*\"latest\" + 0.039*\"games\" + 0.020*\"file\" + 0.020*\"login\" + 0.020*\"free\"')\n",
            "(15, '0.046*\"control\" + 0.046*\"panel\" + 0.046*\"store\" + 0.046*\"settings\" + 0.046*\"skype\" + 0.046*\"history\" + 0.023*\"security\" + 0.023*\"log\"')\n",
            "(16, '0.089*\"support\" + 0.046*\"player\" + 0.046*\"media\" + 0.046*\"free\" + 0.046*\"microsoft\" + 0.046*\"apps\" + 0.046*\"365\" + 0.046*\"mail\"')\n",
            "(17, '0.112*\"microsoft\" + 0.056*\"file\" + 0.056*\"extension\" + 0.047*\"downloads\" + 0.047*\"windows\" + 0.038*\"msn\" + 0.038*\"bluetooth\" + 0.038*\"xbox\"')\n",
            "(18, '0.112*\"download\" + 0.112*\"windows\" + 0.068*\"free\" + 0.046*\"update\" + 0.046*\"microsoft\" + 0.023*\"version\" + 0.023*\"www\" + 0.023*\"troubleshooter\"')\n",
            "(19, '0.068*\"microsoft\" + 0.068*\"windows\" + 0.035*\"player\" + 0.035*\"internet\" + 0.035*\"xbox\" + 0.035*\"online\" + 0.035*\"media\" + 0.035*\"360\"')\n"
          ]
        }
      ],
      "source": [
        "lda_topics_bow = lda_bow.print_topics(num_words=8)\n",
        "for topic in lda_topics_bow:\n",
        "  print(topic)"
      ]
    },
    {
      "cell_type": "code",
      "execution_count": 25,
      "metadata": {
        "colab": {
          "base_uri": "https://localhost:8080/"
        },
        "id": "HRib2B5BHLTt",
        "outputId": "c39d4e18-e2cc-49af-f85a-ba7d61af6c67"
      },
      "outputs": [
        {
          "name": "stderr",
          "output_type": "stream",
          "text": [
            "WARNING:gensim.models.ldamodel:too few updates, training might not converge; consider increasing the number of passes or iterations to improve accuracy\n"
          ]
        }
      ],
      "source": [
        "lda_tfidf = LdaModel(dataset_corpus_tfidf, id2word=dataset_dictionary, num_topics=20)"
      ]
    },
    {
      "cell_type": "code",
      "execution_count": 26,
      "metadata": {
        "colab": {
          "base_uri": "https://localhost:8080/"
        },
        "id": "RuBeUzjaHXxa",
        "outputId": "7ad54cbd-542f-47c8-910f-f1d3afa50332"
      },
      "outputs": [
        {
          "name": "stdout",
          "output_type": "stream",
          "text": [
            "(0, '0.056*\"log\" + 0.053*\"account\" + 0.043*\"app\" + 0.043*\"iexplorer\" + 0.043*\"theme\" + 0.043*\"java\" + 0.043*\"miracast\" + 0.034*\"menu\"')\n",
            "(1, '0.075*\"update\" + 0.045*\"windows\" + 0.045*\"download\" + 0.034*\"desktop\" + 0.032*\"explorer\" + 0.032*\"internet\" + 0.030*\"bing\" + 0.029*\"w2express\"')\n",
            "(2, '0.052*\"desktop\" + 0.052*\"net\" + 0.046*\"downloads\" + 0.043*\"microsoft\" + 0.040*\"speakers\" + 0.039*\"help\" + 0.035*\"inbox\" + 0.035*\"bluetooth\"')\n",
            "(3, '0.055*\"msn\" + 0.055*\"homepage\" + 0.041*\"drive\" + 0.033*\"antivirus\" + 0.032*\"acsm\" + 0.031*\"ssv\" + 0.031*\"email\" + 0.025*\"2014\"')\n",
            "(4, '0.054*\"zune\" + 0.054*\"hotmil\" + 0.054*\"settings\" + 0.054*\"mse\" + 0.054*\"msconfig\" + 0.054*\"internet\" + 0.039*\"app\" + 0.039*\"security\"')\n",
            "(5, '0.067*\"java\" + 0.061*\"history\" + 0.057*\"download\" + 0.048*\"wallpaper\" + 0.048*\"nslookup\" + 0.048*\"cookies\" + 0.041*\"directx\" + 0.039*\"delete\"')\n",
            "(6, '0.063*\"msn\" + 0.051*\"xbox\" + 0.045*\"download\" + 0.042*\"microsoft\" + 0.041*\"account\" + 0.031*\"onedrive\" + 0.031*\"trovi\" + 0.027*\"music\"')\n",
            "(7, '0.066*\"microsoft\" + 0.054*\"windows\" + 0.042*\"latest\" + 0.042*\"games\" + 0.036*\"ie11\" + 0.034*\"sp1\" + 0.034*\"defender\" + 0.033*\"screenshot\"')\n",
            "(8, '0.064*\"google\" + 0.055*\"live\" + 0.051*\"toolbar\" + 0.035*\"hotail\" + 0.033*\"event\" + 0.033*\"windows\" + 0.028*\"list\" + 0.026*\"version\"')\n",
            "(9, '0.067*\"com\" + 0.063*\"outlook\" + 0.052*\"microsoft\" + 0.045*\"desktop\" + 0.035*\"javascript\" + 0.035*\"wallpapers\" + 0.035*\"direct\" + 0.033*\"tutorial\"')\n",
            "(10, '0.066*\"microsoft\" + 0.065*\"login\" + 0.056*\"internet\" + 0.056*\"explorer\" + 0.048*\"download\" + 0.044*\"notepad\" + 0.044*\"cmd\" + 0.034*\"onedrive\"')\n",
            "(11, '0.047*\"screenshot\" + 0.047*\"enternet\" + 0.044*\"xboxie\" + 0.043*\"messenger\" + 0.041*\"rewards\" + 0.037*\"updates\" + 0.036*\"dmp\" + 0.034*\"screen\"')\n",
            "(12, '0.066*\"essentials\" + 0.051*\"com\" + 0.047*\"explorer\" + 0.039*\"microsoft\" + 0.028*\"wot\" + 0.028*\"wordpad\" + 0.028*\"bluetooth\" + 0.026*\"www\"')\n",
            "(13, '0.050*\"backgrounds\" + 0.050*\"skydrive\" + 0.040*\"2013\" + 0.039*\"business\" + 0.036*\"msn\" + 0.036*\"java\" + 0.036*\"internet\" + 0.036*\"update\"')\n",
            "(14, '0.093*\"xbox\" + 0.064*\"com\" + 0.049*\"honda\" + 0.048*\"updates\" + 0.040*\"plus\" + 0.035*\"adblock\" + 0.035*\"setup\" + 0.033*\"search\"')\n",
            "(15, '0.034*\"apps\" + 0.034*\"hotm\" + 0.034*\"directx\" + 0.034*\"hormail\" + 0.029*\"support\" + 0.028*\"troubleshooter\" + 0.027*\"screensavers\" + 0.026*\"apk\"')\n",
            "(16, '0.067*\"xbox\" + 0.053*\"live\" + 0.040*\"windowsmedia\" + 0.040*\"outlook365\" + 0.040*\"activex\" + 0.040*\"otmail\" + 0.040*\"background\" + 0.040*\"windowsonecare\"')\n",
            "(17, '0.092*\"outlook\" + 0.057*\"com\" + 0.045*\"www\" + 0.035*\"ie9\" + 0.035*\"skype\" + 0.035*\"favorites\" + 0.035*\"windowsupgradeoffer\" + 0.030*\"express\"')\n",
            "(18, '0.043*\"extension\" + 0.043*\"file\" + 0.037*\"encarta\" + 0.037*\"paint\" + 0.037*\"meta\" + 0.036*\"live\" + 0.035*\"com\" + 0.033*\"online\"')\n",
            "(19, '0.174*\"windows\" + 0.052*\"support\" + 0.045*\"store\" + 0.041*\"live\" + 0.041*\"skype\" + 0.035*\"www\" + 0.030*\"explorer\" + 0.030*\"internet\"')\n"
          ]
        }
      ],
      "source": [
        "lda_topics_tfidf = lda_tfidf.print_topics(num_words=8)\n",
        "for topic in lda_topics_tfidf:\n",
        "  print(topic)"
      ]
    },
    {
      "cell_type": "markdown",
      "metadata": {
        "id": "x2uWZ_CQBqBu"
      },
      "source": [
        "# Topic Modelling with Latent Semantic Analysis/Indexing(LSA/LSI)\n",
        "\n"
      ]
    },
    {
      "cell_type": "code",
      "execution_count": 27,
      "metadata": {
        "id": "hLTGjxNFCMQy"
      },
      "outputs": [],
      "source": [
        "from gensim.models.lsimodel import LsiModel"
      ]
    },
    {
      "cell_type": "code",
      "execution_count": 28,
      "metadata": {
        "id": "16pT1REVCNNE"
      },
      "outputs": [],
      "source": [
        "lsi_bow = LsiModel(corpus=dataset_corpus_bow,id2word=dataset_dictionary,num_topics=20)"
      ]
    },
    {
      "cell_type": "code",
      "execution_count": 29,
      "metadata": {
        "colab": {
          "base_uri": "https://localhost:8080/"
        },
        "id": "SDT7nQnJDBjm",
        "outputId": "3bd28eaa-0d5d-4b5d-b296-bfafc8a868ae"
      },
      "outputs": [
        {
          "name": "stdout",
          "output_type": "stream",
          "text": [
            "(0, '0.760*\"com\" + 0.366*\"www\" + 0.353*\"microsoft\" + 0.175*\"windows\" + 0.156*\"outlook\" + 0.135*\"office\" + 0.110*\"java\" + 0.108*\"download\"')\n",
            "(1, '-0.886*\"windows\" + -0.204*\"download\" + 0.184*\"com\" + -0.168*\"internet\" + -0.168*\"explorer\" + -0.124*\"update\" + 0.088*\"www\" + -0.081*\"free\"')\n",
            "(2, '0.650*\"internet\" + 0.649*\"explorer\" + -0.293*\"windows\" + 0.194*\"download\" + 0.096*\"update\" + 0.061*\"homepage\" + 0.052*\"adblock\" + 0.052*\"browsing\"')\n",
            "(3, '-0.861*\"microsoft\" + 0.313*\"com\" + -0.165*\"login\" + 0.160*\"www\" + 0.135*\"outlook\" + -0.114*\"365\" + -0.095*\"essentials\" + -0.088*\"downloads\"')\n",
            "(4, '-0.690*\"extension\" + -0.690*\"file\" + -0.082*\"exe\" + -0.077*\"rtc\" + -0.077*\"lnk\" + -0.077*\"dmp\" + -0.077*\"acsm\" + -0.077*\"emz\"')\n",
            "(5, '-0.698*\"download\" + 0.312*\"live\" + -0.292*\"skype\" + -0.259*\"java\" + -0.201*\"free\" + 0.163*\"xbox\" + 0.145*\"internet\" + 0.144*\"explorer\"')\n",
            "(6, '0.544*\"live\" + 0.541*\"xbox\" + 0.296*\"download\" + 0.283*\"free\" + 0.187*\"games\" + 0.187*\"latest\" + -0.169*\"www\" + 0.166*\"account\"')\n",
            "(7, '-0.611*\"java\" + -0.450*\"update\" + 0.349*\"outlook\" + -0.259*\"ssv\" + -0.164*\"xbox\" + 0.163*\"download\" + 0.135*\"skype\" + -0.130*\"helper\"')\n",
            "(8, '0.488*\"office\" + 0.312*\"login\" + 0.309*\"365\" + -0.299*\"msn\" + -0.278*\"bing\" + -0.258*\"homepage\" + 0.241*\"www\" + -0.217*\"desktop\"')\n",
            "(9, '0.428*\"bing\" + 0.409*\"office\" + 0.364*\"desktop\" + -0.363*\"outlook\" + 0.205*\"google\" + 0.185*\"search\" + 0.184*\"homepage\" + 0.178*\"login\"')\n",
            "(10, '0.594*\"outlook\" + 0.279*\"java\" + 0.274*\"bing\" + 0.274*\"desktop\" + 0.213*\"update\" + 0.213*\"365\" + 0.170*\"mail\" + 0.166*\"access\"')\n",
            "(11, '0.562*\"xbox\" + -0.415*\"account\" + -0.374*\"live\" + 0.249*\"outlook\" + -0.205*\"password\" + -0.185*\"reset\" + -0.174*\"office\" + 0.156*\"support\"')\n",
            "(12, '-0.491*\"msn\" + -0.427*\"homepage\" + 0.293*\"desktop\" + -0.269*\"login\" + 0.267*\"www\" + -0.243*\"365\" + -0.177*\"home\" + -0.177*\"page\"')\n",
            "(13, '-0.416*\"update\" + -0.372*\"desktop\" + 0.325*\"google\" + -0.260*\"skype\" + 0.213*\"ssv\" + -0.200*\"login\" + 0.193*\"www\" + -0.178*\"wallpaper\"')\n",
            "(14, '0.524*\"flash\" + -0.421*\"update\" + 0.242*\"ssv\" + 0.231*\"desktop\" + -0.205*\"google\" + 0.203*\"object\" + 0.203*\"ocx\" + 0.203*\"shockwave\"')\n",
            "(15, '-0.560*\"flash\" + -0.418*\"update\" + -0.227*\"object\" + -0.227*\"ocx\" + -0.227*\"shockwave\" + 0.222*\"ssv\" + 0.184*\"desktop\" + -0.139*\"player\"')\n",
            "(16, '0.304*\"homepage\" + 0.292*\"msn\" + -0.272*\"search\" + 0.269*\"desktop\" + -0.246*\"login\" + 0.239*\"account\" + -0.235*\"history\" + 0.225*\"www\"')\n",
            "(17, '0.702*\"essentials\" + 0.514*\"security\" + -0.329*\"store\" + -0.182*\"app\" + 0.128*\"skype\" + 0.101*\"live\" + -0.094*\"apps\" + -0.080*\"support\"')\n",
            "(18, '-0.415*\"account\" + 0.397*\"live\" + 0.280*\"homepage\" + 0.270*\"mail\" + -0.250*\"xbox\" + -0.247*\"home\" + -0.247*\"page\" + -0.196*\"email\"')\n",
            "(19, '0.553*\"skype\" + -0.273*\"home\" + -0.273*\"page\" + 0.241*\"store\" + -0.230*\"google\" + 0.188*\"email\" + 0.181*\"login\" + -0.168*\"office\"')\n"
          ]
        }
      ],
      "source": [
        "lsi_topics_bow = lsi_bow.print_topics(num_words=8)\n",
        "for topic in lsi_topics_bow:\n",
        "  print(topic)"
      ]
    },
    {
      "cell_type": "code",
      "execution_count": 30,
      "metadata": {
        "id": "Ma7Pfxzf-_as"
      },
      "outputs": [],
      "source": [
        "lsi_tfidf = LsiModel(dataset_corpus_tfidf, id2word=dataset_dictionary, num_topics=20)"
      ]
    },
    {
      "cell_type": "code",
      "execution_count": 31,
      "metadata": {
        "colab": {
          "base_uri": "https://localhost:8080/"
        },
        "id": "kM-cOaU4_Cz4",
        "outputId": "ca84804c-693c-45f4-df5a-49e33915d98a"
      },
      "outputs": [
        {
          "name": "stdout",
          "output_type": "stream",
          "text": [
            "(0, '-0.614*\"explorer\" + -0.565*\"internet\" + -0.367*\"windows\" + -0.267*\"download\" + -0.207*\"update\" + -0.093*\"com\" + -0.086*\"java\" + -0.082*\"skype\"')\n",
            "(1, '-0.546*\"microsoft\" + -0.495*\"com\" + -0.309*\"www\" + 0.233*\"explorer\" + 0.211*\"internet\" + -0.204*\"windows\" + -0.177*\"outlook\" + -0.152*\"java\"')\n",
            "(2, '-0.815*\"windows\" + 0.270*\"explorer\" + 0.242*\"internet\" + 0.237*\"microsoft\" + 0.189*\"com\" + -0.130*\"update\" + 0.125*\"www\" + -0.095*\"live\"')\n",
            "(3, '-0.655*\"microsoft\" + 0.384*\"com\" + 0.271*\"outlook\" + 0.264*\"java\" + 0.263*\"www\" + 0.180*\"skype\" + -0.154*\"essentials\" + -0.152*\"login\"')\n",
            "(4, '-0.581*\"xbox\" + -0.520*\"live\" + 0.327*\"download\" + 0.318*\"skype\" + 0.232*\"java\" + -0.141*\"mail\" + -0.121*\"account\" + 0.115*\"www\"')\n",
            "(5, '0.503*\"skype\" + 0.469*\"download\" + -0.425*\"update\" + 0.339*\"xbox\" + -0.222*\"outlook\" + 0.193*\"free\" + 0.149*\"live\" + -0.148*\"java\"')\n",
            "(6, '0.672*\"extension\" + 0.672*\"file\" + 0.122*\"exe\" + 0.111*\"rtc\" + 0.109*\"acsm\" + 0.109*\"deskthemepack\" + 0.109*\"apk\" + 0.109*\"lnk\"')\n",
            "(7, '-0.539*\"update\" + -0.457*\"java\" + -0.421*\"xbox\" + 0.332*\"outlook\" + 0.157*\"windows\" + -0.152*\"support\" + 0.138*\"homepage\" + 0.133*\"msn\"')\n",
            "(8, '-0.498*\"msn\" + -0.486*\"homepage\" + 0.342*\"live\" + -0.252*\"xbox\" + 0.186*\"login\" + -0.185*\"desktop\" + 0.182*\"mail\" + 0.182*\"365\"')\n",
            "(9, '0.445*\"live\" + 0.354*\"msn\" + 0.319*\"homepage\" + -0.291*\"xbox\" + -0.252*\"outlook\" + -0.221*\"support\" + 0.220*\"update\" + 0.217*\"account\"')\n",
            "(10, '0.703*\"desktop\" + 0.453*\"wallpaper\" + 0.205*\"bing\" + 0.195*\"login\" + -0.184*\"msn\" + 0.155*\"365\" + 0.149*\"outlook\" + 0.137*\"backgrounds\"')\n",
            "(11, '-0.418*\"login\" + -0.328*\"update\" + -0.291*\"365\" + -0.289*\"skype\" + 0.288*\"java\" + 0.266*\"desktop\" + -0.224*\"office\" + 0.218*\"live\"')\n",
            "(12, '-0.450*\"office\" + 0.413*\"outlook\" + 0.331*\"update\" + -0.267*\"www\" + -0.230*\"login\" + 0.230*\"skype\" + -0.213*\"setup\" + -0.208*\"java\"')\n",
            "(13, '0.551*\"essentials\" + -0.505*\"store\" + 0.362*\"security\" + -0.310*\"app\" + 0.201*\"java\" + -0.190*\"apps\" + 0.133*\"365\" + -0.127*\"downloads\"')\n",
            "(14, '-0.393*\"java\" + -0.369*\"outlook\" + 0.337*\"skype\" + -0.324*\"store\" + -0.247*\"download\" + -0.236*\"365\" + 0.210*\"www\" + -0.194*\"app\"')\n",
            "(15, '0.481*\"essentials\" + 0.473*\"store\" + 0.333*\"security\" + 0.321*\"app\" + -0.291*\"support\" + 0.202*\"skype\" + -0.187*\"download\" + 0.179*\"apps\"')\n",
            "(16, '0.772*\"support\" + -0.387*\"downloads\" + -0.192*\"xbox\" + -0.160*\"com\" + 0.156*\"essentials\" + 0.122*\"store\" + 0.116*\"www\" + 0.114*\"security\"')\n",
            "(17, '0.506*\"account\" + 0.334*\"office\" + 0.241*\"download\" + 0.229*\"password\" + -0.222*\"mail\" + -0.216*\"login\" + -0.212*\"live\" + -0.202*\"support\"')\n",
            "(18, '0.399*\"bing\" + 0.347*\"history\" + 0.319*\"search\" + 0.279*\"google\" + -0.235*\"wallpaper\" + 0.226*\"downloads\" + -0.222*\"account\" + -0.214*\"email\"')\n",
            "(19, '-0.309*\"history\" + -0.289*\"account\" + -0.281*\"bing\" + -0.261*\"search\" + 0.238*\"free\" + -0.236*\"skype\" + 0.224*\"download\" + -0.215*\"java\"')\n"
          ]
        }
      ],
      "source": [
        "lsi_topics_tfidf = lsi_tfidf.print_topics(num_words=8)\n",
        "for topic in lsi_topics_tfidf:\n",
        "  print(topic)"
      ]
    },
    {
      "cell_type": "markdown",
      "metadata": {
        "id": "ltrFWWoFKnim"
      },
      "source": [
        "# Topic Modelling Visualization with pyLDAvis"
      ]
    },
    {
      "cell_type": "code",
      "execution_count": 32,
      "metadata": {
        "id": "u1Vry5QAlAw4"
      },
      "outputs": [],
      "source": [
        "%%capture\n",
        "!pip install pyLDAvis"
      ]
    },
    {
      "cell_type": "code",
      "execution_count": 33,
      "metadata": {
        "id": "KfbqbQT_Thmc"
      },
      "outputs": [],
      "source": [
        "import pyLDAvis\n",
        "import pyLDAvis.gensim_models"
      ]
    },
    {
      "cell_type": "code",
      "execution_count": 34,
      "metadata": {
        "colab": {
          "base_uri": "https://localhost:8080/"
        },
        "id": "V6ewnz_JlLRo",
        "outputId": "202d63e1-0b09-47d3-c4f9-3c96b721021e"
      },
      "outputs": [
        {
          "name": "stderr",
          "output_type": "stream",
          "text": [
            "/usr/local/lib/python3.10/dist-packages/ipykernel/ipkernel.py:283: DeprecationWarning: `should_run_async` will not call `transform_cell` automatically in the future. Please pass the result to `transformed_cell` argument and any exception that happen during thetransform in `preprocessing_exc_tuple` in IPython 7.17 and above.\n",
            "  and should_run_async(code)\n"
          ]
        }
      ],
      "source": [
        "pyLDAvis.enable_notebook()"
      ]
    },
    {
      "cell_type": "code",
      "execution_count": 35,
      "metadata": {
        "colab": {
          "base_uri": "https://localhost:8080/",
          "height": 916
        },
        "id": "VYSuzO2VlP5Z",
        "outputId": "a7707e7e-4125-454b-eef4-524cb2802204"
      },
      "outputs": [
        {
          "name": "stderr",
          "output_type": "stream",
          "text": [
            "/usr/local/lib/python3.10/dist-packages/ipykernel/ipkernel.py:283: DeprecationWarning: `should_run_async` will not call `transform_cell` automatically in the future. Please pass the result to `transformed_cell` argument and any exception that happen during thetransform in `preprocessing_exc_tuple` in IPython 7.17 and above.\n",
            "  and should_run_async(code)\n"
          ]
        },
        {
          "data": {
            "text/html": [
              "\n",
              "<link rel=\"stylesheet\" type=\"text/css\" href=\"https://cdn.jsdelivr.net/gh/bmabey/pyLDAvis@3.4.0/pyLDAvis/js/ldavis.v1.0.0.css\">\n",
              "\n",
              "\n",
              "<div id=\"ldavis_el7711343597147239047611434836\" style=\"background-color:white;\"></div>\n",
              "<script type=\"text/javascript\">\n",
              "\n",
              "var ldavis_el7711343597147239047611434836_data = {\"mdsDat\": {\"x\": [-0.10828200949446799, 0.012319635944147807, 0.16170497747328189, 0.05424863025973745, 0.05061386553889588, 0.09616347355853695, 0.11126827380208527, -0.14030493221839124, -0.1163762855813849, 0.13694329787968518, -0.12904391159560566, -0.1342696710908001, -0.02159706180622085, 0.03327551661522781, 0.08608817781810377, -0.06947440027041035, 0.002272671896957058, 0.021717489818439604, 0.04262032622963269, -0.08988806477745033], \"y\": [-0.11959383804396154, -0.1423572281324861, -0.05580365107737624, -0.04698515924307997, -0.038836761295348896, 0.11724398762862971, 0.08060832795730119, -0.03844476450919129, 0.17862001718150516, -0.031104719162500502, 0.0019234023214505526, 0.04515771037388385, 0.03166402041636291, 0.08235310352500731, 0.011517070874539001, -0.021734747932118006, 0.10940693490233735, -0.06141600765166578, -0.034701667705421525, -0.06751603042786673], \"topics\": [1, 2, 3, 4, 5, 6, 7, 8, 9, 10, 11, 12, 13, 14, 15, 16, 17, 18, 19, 20], \"cluster\": [1, 1, 1, 1, 1, 1, 1, 1, 1, 1, 1, 1, 1, 1, 1, 1, 1, 1, 1, 1], \"Freq\": [9.974735916472932, 7.969372400263176, 7.932312626157724, 7.19628877178033, 6.6079203062791025, 6.298318548530897, 5.451353847162113, 5.1006898411949, 4.971589544180381, 4.914340331065704, 4.322865885505979, 4.206609804848097, 3.9947738724837687, 3.2737870579743484, 3.1941510754342386, 3.1941499557582196, 3.099372692069809, 3.077284955521498, 2.773592885925525, 2.4464896813912547]}, \"tinfo\": {\"Term\": [\"windows\", \"microsoft\", \"com\", \"download\", \"xbox\", \"explorer\", \"java\", \"internet\", \"outlook\", \"skype\", \"live\", \"support\", \"free\", \"www\", \"file\", \"extension\", \"login\", \"email\", \"homepage\", \"account\", \"msn\", \"desktop\", \"flash\", \"office\", \"google\", \"mail\", \"bing\", \"password\", \"update\", \"onedrive\", \"ssv\", \"office365\", \"helper\", \"verify\", \"ultipro\", \"plug\", \"dll\", \"checker\", \"logging\", \"framework\", \"explore\", \"wallpapers\", \"java\", \"net\", \"www\", \"settings\", \"com\", \"sign\", \"office\", \"wallpaper\", \"update\", \"live\", \"outlook\", \"365\", \"app\", \"login\", \"account\", \"desktop\", \"internet\", \"microsoft\", \"download\", \"essentials\", \"security\", \"myaccount\", \"help\", \"express\", \"acsm\", \"studio\", \"2013\", \"visual\", \"activex\", \"hotmil\", \"exe\", \"word\", \"office\", \"homepage\", \"update\", \"setup\", \"event\", \"favorites\", \"downloads\", \"sign\", \"www\", \"microsoft\", \"extension\", \"file\", \"wallpaper\", \"support\", \"msn\", \"bing\", \"com\", \"explorer\", \"internet\", \"windows\", \"outlook\", \"toolbar\", \"release\", \"deskthemepack\", \"adobe\", \"outlook365\", \"mail\", \"access\", \"google\", \"flash\", \"player\", \"sign\", \"explorer\", \"internet\", \"outlook\", \"365\", \"windows\", \"file\", \"extension\", \"live\", \"windowsonecare\", \"windowsmedia\", \"msconfig\", \"keyboard\", \"intranet\", \"shortcuts\", \"zune\", \"enternet\", \"rising\", \"wot\", \"otmail\", \"microsoft\", \"com\", \"homepage\", \"msn\", \"hotm\", \"skype\", \"account\", \"history\", \"java\", \"office\", \"version\", \"troubleshooter\", \"manage\", \"sp1\", \"javascript\", \"hormail\", \"notepad\", \"theme\", \"ie9\", \"hotail\", \"free\", \"word\", \"download\", \"history\", \"update\", \"windows\", \"skype\", \"java\", \"microsoft\", \"www\", \"explorer\", \"internet\", \"com\", \"windowsonecare\", \"windowsmedia\", \"msconfig\", \"keyboard\", \"intranet\", \"shortcuts\", \"zune\", \"outlook\", \"homepage\", \"msn\", \"account\", \"google\", \"office\", \"bluetooth\", \"downloads\", \"rtc\", \"rewards\", \"music\", \"emz\", \"honda\", \"speakers\", \"messenger\", \"msn\", \"extension\", \"file\", \"event\", \"setup\", \"microsoft\", \"xbox\", \"wallpaper\", \"store\", \"email\", \"mail\", \"homepage\", \"app\", \"account\", \"desktop\", \"office\", \"update\", \"live\", \"windows\", \"com\", \"windowsonecare\", \"msconfig\", \"explorer\", \"change\", \"tutorial\", \"website\", \"engine\", \"defender\", \"enable\", \"mozilla\", \"homail\", \"iexplorer\", \"password\", \"movie\", \"maker\", \"w2express\", \"firefox\", \"cookies\", \"updates\", \"reset\", \"search\", \"windows\", \"google\", \"bing\", \"account\", \"skype\", \"live\", \"store\", \"download\", \"com\", \"windowsonecare\", \"windowsmedia\", \"msconfig\", \"explorer\", \"internet\", \"microsoft\", \"latest\", \"games\", \"dead\", \"dmp\", \"otmail\", \"wot\", \"rising\", \"enternet\", \"zune\", \"xbox\", \"screenshot\", \"live\", \"maker\", \"movie\", \"app\", \"search\", \"history\", \"store\", \"support\", \"email\", \"365\", \"bing\", \"login\", \"free\", \"downloads\", \"windows\", \"file\", \"extension\", \"www\", \"microsoft\", \"com\", \"directx\", \"pnc\", \"banking\", \"windowsupgradeoffer\", \"plus\", \"device\", \"manager\", \"online\", \"adblock\", \"msn\", \"page\", \"home\", \"apps\", \"homepage\", \"bing\", \"download\", \"desktop\", \"skype\", \"update\", \"java\", \"com\", \"www\", \"windowsonecare\", \"windowsmedia\", \"msconfig\", \"keyboard\", \"intranet\", \"shortcuts\", \"zune\", \"enternet\", \"windows\", \"microsoft\", \"explorer\", \"internet\", \"outlook\", \"live\", \"xbox\", \"control\", \"panel\", \"delete\", \"screen\", \"menu\", \"authorize\", \"pof\", \"missing\", \"itunes\", \"shot\", \"meta\", \"settings\", \"history\", \"store\", \"log\", \"open\", \"backgrounds\", \"background\", \"security\", \"app\", \"search\", \"favorites\", \"apps\", \"skype\", \"toolbar\", \"essentials\", \"desktop\", \"microsoft\", \"com\", \"windowsonecare\", \"windows\", \"2014\", \"chrome\", \"apk\", \"lnk\", \"antivirus\", \"remote\", \"adblock\", \"desktop\", \"extension\", \"file\", \"365\", \"google\", \"login\", \"free\", \"download\", \"office\", \"windows\", \"explorer\", \"internet\", \"windowsonecare\", \"windowsmedia\", \"msconfig\", \"keyboard\", \"intranet\", \"shortcuts\", \"zune\", \"enternet\", \"rising\", \"wot\", \"otmail\", \"microsoft\", \"com\", \"outlook\", \"java\", \"www\", \"live\", \"xbox\", \"preview\", \"window\", \"homepage\", \"ask\", \"inbox\", \"list\", \"business\", \"email\", \"open\", \"log\", \"home\", \"page\", \"favorites\", \"onedrive\", \"account\", \"outlook\", \"www\", \"com\", \"explorer\", \"windowsonecare\", \"windowsmedia\", \"msconfig\", \"keyboard\", \"intranet\", \"shortcuts\", \"zune\", \"enternet\", \"rising\", \"wot\", \"otmail\", \"dmp\", \"dead\", \"hotm\", \"windows\", \"microsoft\", \"internet\", \"skype\", \"download\", \"live\", \"xbox\", \"homepage\", \"msn\", \"google\", \"history\", \"java\", \"office\", \"clone\", \"virtual\", \"screensavers\", \"proxy\", \"server\", \"xboxie\", \"direct\", \"drive\", \"skype\", \"wallpaper\", \"login\", \"www\", \"com\", \"windowsonecare\", \"windowsmedia\", \"msconfig\", \"keyboard\", \"intranet\", \"shortcuts\", \"zune\", \"enternet\", \"rising\", \"wot\", \"otmail\", \"dmp\", \"dead\", \"hotm\", \"miracast\", \"browser\", \"encarta\", \"windows\", \"microsoft\", \"explorer\", \"internet\", \"outlook\", \"update\", \"xbox\", \"homepage\", \"msn\", \"account\", \"google\", \"history\", \"java\", \"office\", \"settings\", \"download\", \"changer\", \"daily\", \"browsing\", \"private\", \"mse\", \"paint\", \"background\", \"backgrounds\", \"bing\", \"account\", \"desktop\", \"office\", \"explorer\", \"internet\", \"windowsonecare\", \"windowsmedia\", \"msconfig\", \"keyboard\", \"intranet\", \"shortcuts\", \"zune\", \"enternet\", \"rising\", \"wot\", \"otmail\", \"dmp\", \"dead\", \"hotm\", \"miracast\", \"browser\", \"windows\", \"microsoft\", \"com\", \"outlook\", \"homepage\", \"msn\", \"skype\", \"history\", \"java\", \"www\", \"update\", \"settings\", \"download\", \"free\", \"app\", \"store\", \"cmd\", \"trovi\", \"screenshot\", \"support\", \"media\", \"apps\", \"player\", \"mail\", \"365\", \"free\", \"live\", \"microsoft\", \"windowsonecare\", \"windowsmedia\", \"msconfig\", \"keyboard\", \"intranet\", \"shortcuts\", \"zune\", \"enternet\", \"rising\", \"wot\", \"otmail\", \"dmp\", \"dead\", \"hotm\", \"miracast\", \"browser\", \"encarta\", \"nslookup\", \"windows\", \"explorer\", \"internet\", \"com\", \"java\", \"update\", \"desktop\", \"xbox\", \"outlook\", \"homepage\", \"msn\", \"skype\", \"account\", \"google\", \"history\", \"office\", \"www\", \"360\", \"openoffice\", \"window\", \"preview\", \"sharepoint\", \"nslookup\", \"encarta\", \"online\", \"media\", \"onedrive\", \"player\", \"essentials\", \"xbox\", \"microsoft\", \"download\", \"explorer\", \"internet\", \"windows\", \"windowsonecare\", \"windowsmedia\", \"msconfig\", \"keyboard\", \"intranet\", \"shortcuts\", \"zune\", \"enternet\", \"rising\", \"wot\", \"otmail\", \"dmp\", \"com\", \"outlook\", \"skype\", \"desktop\", \"homepage\", \"msn\", \"hotm\", \"account\", \"google\", \"history\", \"java\", \"office\", \"shockwave\", \"object\", \"csrss\", \"ocx\", \"wordpad\", \"flash\", \"exe\", \"cookies\", \"net\", \"login\", \"outlook\", \"microsoft\", \"com\", \"explorer\", \"windowsonecare\", \"windowsmedia\", \"msconfig\", \"keyboard\", \"intranet\", \"shortcuts\", \"zune\", \"enternet\", \"rising\", \"wot\", \"otmail\", \"dmp\", \"dead\", \"hotm\", \"miracast\", \"browser\", \"windows\", \"internet\", \"download\", \"desktop\", \"live\", \"xbox\", \"homepage\", \"msn\", \"skype\", \"account\", \"google\", \"history\", \"java\", \"office\", \"www\", \"marinenet\", \"usmc\", \"mil\", \"reset\", \"onedrive\", \"password\", \"login\", \"account\", \"store\", \"microsoft\", \"windowsonecare\", \"windowsmedia\", \"msconfig\", \"keyboard\", \"intranet\", \"shortcuts\", \"zune\", \"enternet\", \"rising\", \"wot\", \"otmail\", \"dmp\", \"dead\", \"hotm\", \"miracast\", \"browser\", \"encarta\", \"nslookup\", \"sharepoint\", \"preview\", \"windows\", \"com\", \"explorer\", \"internet\", \"outlook\", \"update\", \"download\", \"live\", \"xbox\", \"window\", \"homepage\", \"msn\", \"skype\", \"google\", \"toolbar\", \"history\", \"manage\", \"browser\", \"miracast\", \"hotm\", \"firefox\", \"w2express\", \"homepage\", \"setup\", \"xbox\", \"support\", \"google\", \"java\", \"outlook\", \"com\", \"explorer\", \"internet\", \"windows\", \"windowsonecare\", \"windowsmedia\", \"msconfig\", \"keyboard\", \"intranet\", \"shortcuts\", \"zune\", \"enternet\", \"rising\", \"wot\", \"otmail\", \"dmp\", \"dead\", \"encarta\", \"sharepoint\", \"microsoft\", \"download\", \"live\", \"msn\", \"skype\", \"account\", \"history\", \"office\", \"www\", \"update\", \"settings\", \"free\", \"app\", \"store\", \"web\", \"bar\", \"skydrive\", \"ie11\", \"updates\", \"access\", \"bing\", \"java\", \"outlook\", \"download\", \"explorer\", \"internet\", \"windows\", \"windowsonecare\", \"windowsmedia\", \"msconfig\", \"keyboard\", \"intranet\", \"shortcuts\", \"zune\", \"enternet\", \"rising\", \"wot\", \"otmail\", \"dmp\", \"dead\", \"hotm\", \"miracast\", \"browser\", \"encarta\", \"microsoft\", \"com\", \"homepage\", \"msn\", \"skype\", \"account\", \"google\", \"history\", \"office\", \"www\", \"update\", \"settings\", \"free\", \"app\", \"store\", \"shortcuts\", \"intranet\", \"keyboard\", \"msconfig\", \"windowsmedia\", \"windowsonecare\", \"drive\", \"page\", \"home\", \"email\", \"msn\", \"java\", \"outlook\", \"explorer\", \"internet\", \"microsoft\", \"com\", \"zune\", \"enternet\", \"rising\", \"wot\", \"otmail\", \"dmp\", \"dead\", \"hotm\", \"miracast\", \"browser\", \"encarta\", \"nslookup\", \"sharepoint\", \"windows\", \"update\", \"download\", \"live\", \"xbox\", \"homepage\", \"skype\", \"account\", \"google\", \"history\", \"office\", \"www\", \"settings\"], \"Freq\": [25.0, 16.0, 22.0, 10.0, 6.0, 11.0, 7.0, 11.0, 8.0, 6.0, 7.0, 4.0, 5.0, 10.0, 7.0, 7.0, 5.0, 4.0, 4.0, 5.0, 4.0, 5.0, 3.0, 6.0, 4.0, 4.0, 4.0, 3.0, 7.0, 2.0, 1.8056287856596853, 1.8056190444835305, 0.9248367071221316, 0.9248321347333243, 0.9248288545413537, 0.9248277611440302, 0.9248267671464634, 0.9248262701476799, 0.9248242821525463, 0.924819709763739, 0.9248163301720117, 0.924804004602183, 3.5671888879936753, 0.9247967484199453, 3.5671590680666707, 0.9248175229690919, 6.209581126967162, 0.9248228905559528, 1.805604134520028, 0.924811857182961, 1.805620436080124, 1.8056005561287876, 1.8056301772562788, 0.9248260713481666, 0.517353666786689, 0.9248275623445168, 0.9248165289715251, 0.9248191133651988, 1.8055786881823173, 1.8056174540874235, 0.9248059925973168, 1.9392438607599731, 1.3034328125513497, 0.6676235114948365, 0.6676202554386311, 0.6676185082865209, 0.6676163640543857, 0.6676139815742355, 0.6676119961741103, 0.6675977807092137, 0.6675899979407229, 0.6675887272846428, 0.6676111225980551, 0.667599924941349, 1.9392576791448446, 1.3034326537193397, 1.9392460844081134, 0.6676162052223756, 0.3389730416209082, 0.6675862653884875, 0.667610328438005, 0.667609534277955, 1.9392535495125842, 3.2108989942353037, 1.3034345597034598, 1.3034328919673548, 0.6675933334129333, 0.6676064370537597, 0.6676093754459449, 0.6676062782217497, 2.575077939610049, 1.3034239973747939, 1.3034385305037104, 2.2720787202297847, 0.6676007191013991, 2.1722184582573396, 1.1126022835372473, 1.1125961178947459, 1.112592481746604, 1.112552800303838, 2.1722130830818256, 1.1125935884003864, 2.172192847126949, 1.1126049711250043, 1.1125916912796165, 1.112589161785257, 3.231821432178743, 3.2317850706973243, 2.172197431835476, 1.112592481746604, 4.2914019568377055, 1.1126018092570549, 1.1125815733021782, 1.1125887665517633, 0.05298326313600041, 0.05298326807641907, 0.05298326313600041, 0.05298326313600041, 0.05298326313600041, 0.05298326313600041, 0.05298326807641907, 0.05298326807641907, 0.05298326313600041, 0.05298326313600041, 0.05298326313600041, 0.052983277957256415, 0.052983277957256415, 0.05298326807641907, 0.05298326807641907, 0.05298326807641907, 0.05298326807641907, 0.05298326807641907, 0.05298326807641907, 0.05298326807641907, 0.05298326807641907, 0.897346174107437, 0.8973397200175941, 0.8973359909879071, 0.8973243019140805, 0.8973176326879095, 0.8973105331890824, 0.8973105331890824, 0.8973078798410359, 0.8973069475836142, 0.897305943614083, 2.6065458554607996, 0.8973384291996255, 4.315762962856738, 0.8973263815652521, 1.751936441217518, 4.315734851709867, 0.8973382140632974, 0.8973372100937663, 1.7519028799503351, 0.8973447398652497, 0.8973227242476745, 0.8973355607152509, 0.897333624488298, 0.042732470583614006, 0.04273247506562084, 0.042732470583614006, 0.042732470583614006, 0.042732470583614006, 0.042732470583614006, 0.04273247506562084, 0.04273247506562084, 0.04273247506562084, 0.04273247506562084, 0.04273247506562084, 0.04273247506562084, 0.04273247506562084, 1.3421287748895327, 1.6639924102352146, 0.6874425304494625, 0.6874383819669767, 0.6874358797076996, 0.6874358797076996, 0.6874339042398493, 0.6874322580166407, 0.6874300191530769, 1.342143129955912, 1.9968395151309473, 1.9968413589009408, 0.37111685582650406, 0.6874335749952075, 3.9609091793732634, 1.342124823953832, 0.6874341017866343, 0.6874267267066597, 0.6874318629230706, 0.6874300191530769, 0.687424882936666, 0.3355562615056932, 0.6874380527223349, 0.68742870217451, 0.6874271876491581, 0.6874162567270529, 0.687440554981612, 1.654099398938553, 1.3421177122695709, 0.03273674945546388, 0.03273675151324289, 0.0327367535710219, 0.8233236704472972, 0.8233151345841163, 0.8233133144368204, 0.8233094858511291, 0.8233061593750365, 0.8233055945017378, 0.8233044019914404, 0.8232856984088825, 0.8232825602238896, 1.6074033333386277, 0.8233104900703268, 0.8233064731935358, 0.8233182727691093, 0.823311305998425, 0.8233049668647392, 0.8233049041010393, 0.8233180844780097, 0.8233104900703268, 5.121347693331123, 0.8233208460808035, 0.8233211598993028, 0.8233177706595104, 0.8233224779369998, 0.8233150718204164, 0.38574080376412756, 0.8233018914434461, 0.8233027073715442, 0.03920737316890516, 0.03920737316890516, 0.03920737316890516, 0.03920738101436764, 0.03920738101436764, 0.03920738101436764, 1.1375552901294461, 1.1375455118871851, 0.582648624947482, 0.582645311209827, 0.5826315130235256, 0.5826309697878443, 0.582622821252627, 0.5826227126054907, 0.582610652773369, 2.802227154993987, 0.5826440074441922, 2.2473499331859417, 0.5826430296199662, 0.5826430296199662, 0.5826439531206241, 0.5826418345014676, 0.5826479187410966, 0.582648624947482, 0.582641073971514, 0.5826468322697342, 0.5826493311538676, 0.5826412912657865, 0.5826528078622271, 0.5826525905679546, 0.3097961726345232, 2.247353409894301, 0.5826535140686125, 0.5826400961472878, 0.5826403134415603, 0.582623799076853, 0.5826435728556473, 1.5098711016110686, 0.7733556274427409, 0.7733553732970004, 0.7733505445279312, 0.7733501887238945, 0.7733480030705263, 0.7733466815126758, 0.7733682839006171, 0.773357304804628, 1.509899565934003, 0.7733563390508142, 0.7733516119400412, 0.7733261465368445, 0.7733593887997001, 0.773353085985336, 1.5098725248272153, 0.773348867166044, 0.7733476472664896, 0.7733521202315222, 0.7733548141763713, 2.2464336435705343, 0.773350951161116, 0.03682838950345034, 0.03682838950345034, 0.03682838950345034, 0.03682838950345034, 0.03682838950345034, 0.03682838950345034, 0.03682838950345034, 0.03682838950345034, 0.03682840221073736, 0.03682839585709385, 0.0368283926802721, 0.0368283926802721, 0.0368283926802721, 0.0368283926802721, 0.0368283926802721, 1.2103424496524609, 1.2103421523965965, 0.619929383977429, 0.6199281949539718, 0.619927451814311, 0.619927402271667, 0.61992646096143, 0.6199226957204821, 0.6199202681309235, 0.6199168496884839, 0.6199153634091624, 1.2103266950916525, 1.2103189664391805, 1.2103336310618198, 0.6199302262023779, 0.619924528798312, 0.6199295821480052, 0.6199039686010306, 0.619933297846309, 0.6199268573025823, 0.6199270554731586, 0.6199253710232608, 0.6199260150776335, 1.2103236234477213, 0.6199237856586511, 0.619928442667192, 0.6199215066970248, 0.6199280958686837, 0.6199056035082843, 0.02952192900683592, 0.02952193829608168, 0.7876244264526819, 0.7876235939261836, 0.7876182559621653, 0.7876158563269644, 0.7876154645497887, 0.7875994506577336, 0.7876189415722227, 1.5376924072365845, 1.53773207467562, 1.5377301157897416, 0.7876276586143811, 0.787623153176861, 0.7876170806306383, 0.7876184518507531, 1.5377218884690529, 0.7876105673350929, 2.2878521618238854, 0.7876142402461148, 0.787607139284806, 0.037507461278785244, 0.037507461278785244, 0.037507461278785244, 0.037507461278785244, 0.037507461278785244, 0.037507461278785244, 0.037507461278785244, 0.037507461278785244, 0.037507461278785244, 0.037507461278785244, 0.037507461278785244, 0.0375074704610628, 0.03750746740030361, 0.03750746433954443, 0.03750746433954443, 0.03750746433954443, 0.03750746433954443, 0.03750746433954443, 0.037507461278785244, 0.037507461278785244, 0.037507461278785244, 0.865730066967234, 0.8657158512224904, 0.8657130942295704, 0.865712921917513, 1.690218104532712, 0.8657137834778005, 0.8657080110238743, 0.8657145588820592, 0.8657174881870366, 0.8657116295770817, 0.8657102510806218, 0.8657205036480429, 0.8657075802437305, 0.8657107680167943, 1.6902132797951022, 0.8656922444706133, 0.041226620934489366, 0.04122661824211347, 0.04122661824211347, 0.04122661824211347, 0.04122661824211347, 0.04122661824211347, 0.041226620934489366, 0.04122661824211347, 0.04122661824211347, 0.041226620934489366, 0.04122661824211347, 0.04122661824211347, 0.04122661824211347, 0.041226620934489366, 0.04122663439636886, 0.041226626319241164, 0.041226623626865265, 0.041226623626865265, 0.041226623626865265, 0.041226623626865265, 0.041226623626865265, 0.041226620934489366, 0.041226620934489366, 0.041226620934489366, 0.041226620934489366, 0.041226620934489366, 0.041226620934489366, 0.9433266075931586, 0.9433265237541487, 0.9433196489553463, 0.9433167984290135, 0.9433152893268373, 0.9433133610296123, 0.943295000286469, 0.9433289550854326, 1.8417071220396812, 0.9433122711224851, 0.9433282005343445, 0.9433161277169352, 1.8417191948570906, 0.044922555344638154, 0.044922550104700046, 0.044922550104700046, 0.044922550104700046, 0.044922550104700046, 0.044922550104700046, 0.044922555344638154, 0.044922550104700046, 0.044922550104700046, 0.044922550104700046, 0.044922550104700046, 0.044922550104700046, 0.044922550104700046, 0.044922555344638154, 0.044922550104700046, 0.044922550104700046, 0.044922550104700046, 0.0449225763043906, 0.04492256582451438, 0.04492256058457627, 0.04492256058457627, 0.04492256058457627, 0.04492256058457627, 0.04492256058457627, 0.044922555344638154, 0.044922555344638154, 0.044922555344638154, 0.044922555344638154, 0.044922555344638154, 0.044922555344638154, 0.044922555344638154, 0.044922555344638154, 0.044922555344638154, 0.9330769371553479, 0.9330739913242989, 0.9330737524731327, 0.9330641188094319, 0.9330418260339257, 0.9330286892197882, 0.9330715231955821, 0.9330286096027328, 0.9330763002189049, 0.9330548832310079, 0.9330708066420836, 0.9330668257893148, 0.9330749467289634, 0.9330605360419398, 0.04443412434901221, 0.04443411937294625, 0.04443411937294625, 0.04443411937294625, 0.04443411937294625, 0.04443411937294625, 0.04443412434901221, 0.04443411937294625, 0.04443411937294625, 0.04443411937294625, 0.04443411937294625, 0.04443411937294625, 0.04443411937294625, 0.04443411937294625, 0.04443411937294625, 0.04443411937294625, 0.0444341392772101, 0.04443413430114414, 0.044434129325078175, 0.04443412434901221, 0.04443412434901221, 0.04443412434901221, 0.04443412434901221, 0.04443412434901221, 0.04443412434901221, 0.04443412434901221, 0.04443412434901221, 0.04443412434901221, 0.04443412434901221, 0.04443412434901221, 0.04443412434901221, 0.04443412434901221, 0.797817721510452, 0.7978157640833698, 0.7978119144767751, 1.557673754666568, 0.7978409496451595, 0.7978362518201625, 0.7978414063781453, 0.7978318149854431, 0.7978329894416922, 0.7978391879607856, 0.7978192222045483, 0.7978376220191199, 0.03799451195971877, 0.03799451603769186, 0.03799451195971877, 0.03799451195971877, 0.03799451195971877, 0.03799451195971877, 0.03799451603769186, 0.03799451603769186, 0.03799451195971877, 0.03799451195971877, 0.03799451195971877, 0.03799451195971877, 0.03799451195971877, 0.03799451195971877, 0.03799451195971877, 0.03799451195971877, 0.03799451603769186, 0.03799451195971877, 0.03799452827161112, 0.037994520115664954, 0.037994520115664954, 0.037994520115664954, 0.037994520115664954, 0.037994520115664954, 0.037994520115664954, 0.037994520115664954, 0.03799451603769186, 0.03799451603769186, 0.03799451603769186, 0.03799451603769186, 0.03799451603769186, 0.03799451603769186, 0.03799451603769186, 0.03799451603769186, 0.03799451603769186, 0.5971041869990218, 0.5971029774514198, 0.5971016405830175, 0.5971003673750154, 0.5970868713701926, 0.5970863620869916, 0.597082415142185, 0.597107242698227, 0.5971053965466239, 0.597082415142185, 0.5971082612646287, 0.5970943832974053, 0.5971074973398274, 1.1657645252675395, 0.5971020862058183, 0.5970986485442125, 0.5971075610002275, 1.1657512839043171, 0.02843506956345185, 0.02843506956345185, 0.02843506956345185, 0.02843506956345185, 0.02843506956345185, 0.02843506956345185, 0.02843506956345185, 0.02843506956345185, 0.02843506956345185, 0.02843506956345185, 0.02843506956345185, 0.02843506956345185, 0.028435079510389368, 0.02843507354222686, 0.02843507354222686, 0.02843507354222686, 0.028435071552839357, 0.028435071552839357, 0.028435071552839357, 0.028435071552839357, 0.028435071552839357, 0.028435071552839357, 0.028435071552839357, 0.028435071552839357, 0.6633333063680429, 0.6633254124811967, 0.6633232480283517, 0.6633229933868405, 0.6633076512357926, 1.2950676383321371, 0.663322229462307, 0.6633036406319918, 0.6633028767074582, 0.6633220384811737, 0.6633135716509273, 1.295043192747065, 1.2950639460302251, 0.6632986114621462, 0.031588528133830264, 0.031588528133830264, 0.031588528133830264, 0.031588526144443456, 0.031588526144443456, 0.031588526144443456, 0.031588528133830264, 0.031588526144443456, 0.031588526144443456, 0.031588526144443456, 0.031588526144443456, 0.031588526144443456, 0.031588526144443456, 0.031588526144443456, 0.031588526144443456, 0.031588526144443456, 0.03158853609137749, 0.03158853012321707, 0.03158853012321707, 0.03158853012321707, 0.03158853012321707, 0.03158853012321707, 0.031588528133830264, 0.031588528133830264, 0.031588528133830264, 0.031588528133830264, 0.031588528133830264, 0.031588528133830264, 0.031588528133830264, 0.031588528133830264, 0.031588528133830264, 0.8650524089251632, 0.865043204980876, 0.8650356070939811, 0.865052717782354, 0.8650349276081613, 0.8650462317813463, 0.8650394369231477, 0.8650387574373277, 0.5009231853185996, 0.8650380779515079, 0.041194650161493034, 0.041194650161493034, 0.041194650161493034, 0.041194650161493034, 0.041194650161493034, 0.041194650161493034, 0.041194650161493034, 0.041194650161493034, 0.041194650161493034, 0.041194650161493034, 0.041194650161493034, 0.041194650161493034, 0.041194650161493034, 0.041194650161493034, 0.041194650161493034, 0.041194650161493034, 0.041194650161493034, 0.041194650161493034, 0.041194650161493034, 0.041194650161493034, 0.46835768463003696, 0.04119465788292281, 0.04119465402220792, 0.04119465402220792, 0.04119465402220792, 0.04119465402220792, 0.04119465402220792, 0.04119465402220792, 0.04119465402220792, 0.041194650161493034, 0.041194650161493034, 0.041194650161493034, 0.041194650161493034, 0.041194650161493034, 0.041194650161493034, 0.041194650161493034, 0.041194650161493034, 0.5950585235719313, 0.5950478519391506, 0.595035033713569, 0.5950594435402745, 0.5950369349814782, 1.161797722967236, 0.5950609154896236, 1.1617837394484198, 0.595057174285028, 0.595050121194397, 0.5950520837935291, 0.5950352790384605, 1.1617752757396627, 0.595055150354673, 0.5950543530487756, 0.595053187755541, 0.02833763921305861, 0.02833763921305861, 0.028337641129659325, 0.02833763921305861, 0.02833763921305861, 0.02833763921305861, 0.028337641129659325, 0.02833763921305861, 0.02833763921305861, 0.02833763921305861, 0.02833763921305861, 0.02833763921305861, 0.02833763921305861, 0.02833763921305861, 0.028337641129659325, 0.02833764687946147, 0.02833764304626004, 0.02833764304626004, 0.028337641129659325, 0.028337641129659325, 0.028337641129659325, 0.028337641129659325, 0.028337641129659325, 0.028337641129659325, 0.028337641129659325, 0.028337641129659325, 0.028337641129659325, 0.028337641129659325, 0.028337641129659325, 0.6759356899398968, 0.6759280062217548, 0.6759261267511301, 0.6759191063755615, 0.6759432631009432, 0.6759381774745471, 0.6759349713187756, 0.6759361321682791, 0.6759386749814772, 0.6759390619313116, 0.6759375141319737, 0.6759411625161275, 0.675931267656074, 0.032189226975932975, 0.032189230430842215, 0.032189226975932975, 0.032189226975932975, 0.032189226975932975, 0.032189226975932975, 0.032189226975932975, 0.032189226975932975, 0.032189226975932975, 0.032189226975932975, 0.032189230430842215, 0.032189226975932975, 0.032189226975932975, 0.032189230430842215, 0.032189226975932975, 0.032189226975932975, 0.032189230430842215, 0.03218923388575145, 0.03218923388575145, 0.032189230430842215, 0.032189230430842215, 0.032189230430842215, 0.032189230430842215, 0.032189230430842215, 0.032189230430842215, 0.032189230430842215, 0.032189230430842215, 0.032189230430842215, 0.032189230430842215, 0.032189230430842215, 0.032189230430842215, 0.032189230430842215, 0.5080617193258332, 0.5080608416587633, 0.5080482130048113, 0.5080448973736579, 0.5080435321137712, 0.508039875167646, 0.5080429957616728, 0.5080612804922983, 0.5080563558048499, 0.5080655225498034, 0.5080595739174398, 0.5080496270239796, 0.5080644498456066, 0.5080586962503699, 0.5080483105233746, 0.5080573309904832, 0.5080514798766831, 0.024194603931158076, 0.024194602407430526, 0.024194602407430526, 0.024194602407430526, 0.024194602407430526, 0.024194602407430526, 0.024194602407430526, 0.024194602407430526, 0.024194602407430526, 0.024194602407430526, 0.024194603931158076, 0.024194602407430526, 0.024194602407430526, 0.02419461154979584, 0.02419460545488563, 0.02419460545488563, 0.02419460545488563, 0.02419460545488563, 0.024194603931158076, 0.024194603931158076, 0.024194603931158076, 0.024194603931158076, 0.024194603931158076, 0.024194603931158076, 0.024194603931158076, 0.024194603931158076], \"Total\": [25.0, 16.0, 22.0, 10.0, 6.0, 11.0, 7.0, 11.0, 8.0, 6.0, 7.0, 4.0, 5.0, 10.0, 7.0, 7.0, 5.0, 4.0, 4.0, 5.0, 4.0, 5.0, 3.0, 6.0, 4.0, 4.0, 4.0, 3.0, 7.0, 2.0, 2.491203138222844, 2.4911933970466893, 1.6104110596852903, 1.610406487296483, 1.6104032071045125, 1.6104021137071889, 1.6104011197096222, 1.6104006227108387, 1.610398634715705, 1.6103940623268977, 1.6103906827351704, 1.610378360620251, 7.5382108296091985, 2.242085500095809, 10.029100675592897, 2.7911966921561437, 22.067957473017216, 3.305819974936606, 6.692069756808167, 3.7992739561579016, 7.49905543679514, 7.969020109989328, 8.396749708155347, 4.734871182055539, 2.6510499553286206, 5.2694018289904125, 5.586161375722111, 5.980827161270852, 11.697924764925618, 16.92125788406747, 10.853180820974517, 3.79613295150524, 2.5916673986640126, 1.3654467256716114, 1.365443469615406, 1.365441722463296, 1.3654395782311608, 1.3654371957510105, 1.3654352103508853, 1.3654209948859888, 1.3654132225043754, 1.3654119566173537, 1.9971680400926937, 2.2200290977341353, 6.692069756808167, 4.525935131616933, 7.49905543679514, 2.5868595212154593, 1.3751763621687234, 2.780297981387849, 3.278738919165719, 3.305819974936606, 10.029100675592897, 16.92125788406747, 7.080077097462266, 7.080108968486477, 3.7992739561579016, 4.006723042180738, 4.631775165645792, 4.973350724906132, 22.067957473017216, 11.392592478381808, 11.697924764925618, 25.429714561363305, 8.396749708155347, 3.439252970156061, 1.7892349356877386, 1.7892287700452372, 1.7892251338970953, 1.7891854661834476, 4.263376345372281, 2.432975191049492, 4.949767183958256, 3.0527167354631897, 3.117744429549711, 3.305819974936606, 11.392592478381808, 11.697924764925618, 8.396749708155347, 4.734871182055539, 25.429714561363305, 7.080108968486477, 7.080077097462266, 7.969020109989328, 1.2134612077385007, 1.2134648712133038, 1.2134662162164855, 1.2134695258838724, 1.2134821545378245, 1.2134830322048944, 1.2844801102917587, 1.2844921448220283, 1.2844922322676051, 1.2845003834951985, 1.284500927493413, 16.92125788406747, 22.067957473017216, 4.525935131616933, 4.631775165645792, 1.2963133368306166, 6.082442334053193, 5.586161375722111, 3.3199083256357578, 7.5382108296091985, 6.692069756808167, 1.5842296188103147, 1.5842231647204716, 1.5842194356907846, 1.5842077466169582, 1.5842010823312058, 1.5841939778919598, 1.5841939890706833, 1.584191332669053, 1.584190400549761, 1.5841894128053895, 5.358291093324465, 2.2200290977341353, 10.853180820974517, 3.3199083256357578, 7.49905543679514, 25.429714561363305, 6.082442334053193, 7.5382108296091985, 16.92125788406747, 10.029100675592897, 11.392592478381808, 11.697924764925618, 22.067957473017216, 1.2134612077385007, 1.2134648712133038, 1.2134662162164855, 1.2134695258838724, 1.2134821545378245, 1.2134830322048944, 1.2844801102917587, 8.396749708155347, 4.525935131616933, 4.631775165645792, 5.586161375722111, 4.949767183958256, 6.692069756808167, 2.039007970378759, 3.278738919165719, 1.3843216962804903, 1.3843175477980045, 1.3843150455387274, 1.3843150455387274, 1.384313070070877, 1.3843114238476684, 1.3843091849841047, 4.631775165645792, 7.080077097462266, 7.080108968486477, 1.3751763621687234, 2.5868595212154593, 16.92125788406747, 6.515603249635432, 3.7992739561579016, 3.926281726988166, 4.072073803271123, 4.263376345372281, 4.525935131616933, 2.6510499553286206, 5.586161375722111, 5.980827161270852, 6.692069756808167, 7.49905543679514, 7.969020109989328, 25.429714561363305, 22.067957473017216, 1.2134612077385007, 1.2134662162164855, 11.392592478381808, 1.5137322125648838, 1.5137236767017028, 1.513721856554407, 1.5137180279687157, 1.513714701492623, 1.5137141366193243, 1.513712944109027, 1.5136942477008573, 1.5136911234280892, 3.121663497977211, 2.0686155575363663, 2.068611540659575, 2.08042614704929, 2.0804416524432274, 2.1454286680968333, 2.157467482343636, 2.3375846942164573, 2.6590194969210237, 25.429714561363305, 4.949767183958256, 4.973350724906132, 5.586161375722111, 6.082442334053193, 7.969020109989328, 3.926281726988166, 10.853180820974517, 22.067957473017216, 1.2134612077385007, 1.2134648712133038, 1.2134662162164855, 11.392592478381808, 11.697924764925618, 16.92125788406747, 1.8394247011444242, 1.8394149229021632, 1.2845180359624602, 1.2845147222248052, 1.284500927493413, 1.2845003834951985, 1.2844922322676051, 1.2844921448220283, 1.2844801102917587, 6.515603249635432, 2.044330860773481, 7.969020109989328, 2.068611540659575, 2.0686155575363663, 2.6510499553286206, 2.6590194969210237, 3.3199083256357578, 3.926281726988166, 4.006723042180738, 4.072073803271123, 4.734871182055539, 4.973350724906132, 5.2694018289904125, 5.358291093324465, 3.278738919165719, 25.429714561363305, 7.080108968486477, 7.080077097462266, 10.029100675592897, 16.92125788406747, 22.067957473017216, 2.2026586607122, 1.4661431532257823, 1.4661428990800418, 1.4661380703109725, 1.4661377145069359, 1.4661355288535678, 1.466134207295717, 2.034827982818434, 2.2162563108811066, 4.631775165645792, 2.7745014128636463, 2.7744888317604475, 2.8163595478184735, 4.525935131616933, 4.973350724906132, 10.853180820974517, 5.980827161270852, 6.082442334053193, 7.49905543679514, 7.5382108296091985, 22.067957473017216, 10.029100675592897, 1.2134612077385007, 1.2134648712133038, 1.2134662162164855, 1.2134695258838724, 1.2134821545378245, 1.2134830322048944, 1.2844801102917587, 1.2844921448220283, 25.429714561363305, 16.92125788406747, 11.392592478381808, 11.697924764925618, 8.396749708155347, 7.969020109989328, 6.515603249635432, 1.9104364390285318, 1.9104361417726674, 1.3200233733534998, 1.3200221843300426, 1.320021441190382, 1.320021391647738, 1.3200204503375008, 1.320016685096553, 1.3200142575069944, 1.3200108390645549, 1.32000935477462, 2.7911966921561437, 3.3199083256357578, 3.926281726988166, 2.14450560836021, 2.14450568341007, 2.2086181073267013, 2.208635399309063, 2.5916673986640126, 2.6510499553286206, 2.6590194969210237, 2.780297981387849, 2.8163595478184735, 6.082442334053193, 3.439252970156061, 3.79613295150524, 5.980827161270852, 16.92125788406747, 22.067957473017216, 1.2134612077385007, 25.429714561363305, 1.4797328804603884, 1.47973204793389, 1.4797267099698717, 1.479724310334671, 1.479723918557495, 1.47970790466544, 2.2162563108811066, 5.980827161270852, 7.080077097462266, 7.080108968486477, 4.734871182055539, 4.949767183958256, 5.2694018289904125, 5.358291093324465, 10.853180820974517, 6.692069756808167, 25.429714561363305, 11.392592478381808, 11.697924764925618, 1.2134612077385007, 1.2134648712133038, 1.2134662162164855, 1.2134695258838724, 1.2134821545378245, 1.2134830322048944, 1.2844801102917587, 1.2844921448220283, 1.2844922322676051, 1.2845003834951985, 1.284500927493413, 16.92125788406747, 22.067957473017216, 8.396749708155347, 7.5382108296091985, 10.029100675592897, 7.969020109989328, 6.515603249635432, 1.298281213098055, 1.2982824863060571, 4.525935131616933, 1.554119364011612, 1.5541051482668684, 1.5541023912739487, 1.5541022189618912, 4.072073803271123, 2.14450568341007, 2.14450560836021, 2.7744888317604475, 2.7745014128636463, 2.780297981387849, 2.9465872201139574, 5.586161375722111, 8.396749708155347, 10.029100675592897, 22.067957473017216, 11.392592478381808, 1.2134612077385007, 1.2134648712133038, 1.2134662162164855, 1.2134695258838724, 1.2134821545378245, 1.2134830322048944, 1.2844801102917587, 1.2844921448220283, 1.2844922322676051, 1.2845003834951985, 1.284500927493413, 1.2845147222248052, 1.2845180359624602, 1.2963133368306166, 25.429714561363305, 16.92125788406747, 11.697924764925618, 6.082442334053193, 10.853180820974517, 7.969020109989328, 6.515603249635432, 4.525935131616933, 4.631775165645792, 4.949767183958256, 3.3199083256357578, 7.5382108296091985, 6.692069756808167, 1.62801997277495, 1.62801988893594, 1.6280130141371378, 1.628010163610805, 1.6280086545086287, 1.6280067262114037, 1.627988371939654, 2.1118707518400566, 6.082442334053193, 3.7992739561579016, 5.2694018289904125, 10.029100675592897, 22.067957473017216, 1.2134612077385007, 1.2134648712133038, 1.2134662162164855, 1.2134695258838724, 1.2134821545378245, 1.2134830322048944, 1.2844801102917587, 1.2844921448220283, 1.2844922322676051, 1.2845003834951985, 1.284500927493413, 1.2845147222248052, 1.2845180359624602, 1.2963133368306166, 1.296326136673952, 1.2963367996453643, 1.2982632743929714, 25.429714561363305, 16.92125788406747, 11.392592478381808, 11.697924764925618, 8.396749708155347, 7.49905543679514, 6.515603249635432, 4.525935131616933, 4.631775165645792, 5.586161375722111, 4.949767183958256, 3.3199083256357578, 7.5382108296091985, 6.692069756808167, 2.7911966921561437, 10.853180820974517, 1.6182587330688931, 1.618255787237844, 1.618255548386678, 1.618245914722977, 1.6182236315098433, 1.6182105147794208, 2.208635399309063, 2.2086181073267013, 4.973350724906132, 5.586161375722111, 5.980827161270852, 6.692069756808167, 11.392592478381808, 11.697924764925618, 1.2134612077385007, 1.2134648712133038, 1.2134662162164855, 1.2134695258838724, 1.2134821545378245, 1.2134830322048944, 1.2844801102917587, 1.2844921448220283, 1.2844922322676051, 1.2845003834951985, 1.284500927493413, 1.2845147222248052, 1.2845180359624602, 1.2963133368306166, 1.296326136673952, 1.2963367996453643, 25.429714561363305, 16.92125788406747, 22.067957473017216, 8.396749708155347, 4.525935131616933, 4.631775165645792, 6.082442334053193, 3.3199083256357578, 7.5382108296091985, 10.029100675592897, 7.49905543679514, 2.7911966921561437, 10.853180820974517, 5.358291093324465, 2.6510499553286206, 3.926281726988166, 1.4894391339831505, 1.4894371889166045, 2.044330860773481, 4.006723042180738, 2.0581326799551047, 2.8163595478184735, 3.117744429549711, 4.263376345372281, 4.734871182055539, 5.358291093324465, 7.969020109989328, 16.92125788406747, 1.2134612077385007, 1.2134648712133038, 1.2134662162164855, 1.2134695258838724, 1.2134821545378245, 1.2134830322048944, 1.2844801102917587, 1.2844921448220283, 1.2844922322676051, 1.2845003834951985, 1.284500927493413, 1.2845147222248052, 1.2845180359624602, 1.2963133368306166, 1.296326136673952, 1.2963367996453643, 1.2982632743929714, 1.298267232458346, 25.429714561363305, 11.392592478381808, 11.697924764925618, 22.067957473017216, 7.5382108296091985, 7.49905543679514, 5.980827161270852, 6.515603249635432, 8.396749708155347, 4.525935131616933, 4.631775165645792, 6.082442334053193, 5.586161375722111, 4.949767183958256, 3.3199083256357578, 6.692069756808167, 10.029100675592897, 1.2982850327220614, 1.2982838231744596, 1.2982824863060571, 1.298281213098055, 1.2982677261842157, 1.298267232458346, 1.2982632743929714, 2.034827982818434, 2.0581326799551047, 2.9465872201139574, 3.117744429549711, 3.79613295150524, 6.515603249635432, 16.92125788406747, 10.853180820974517, 11.392592478381808, 11.697924764925618, 25.429714561363305, 1.2134612077385007, 1.2134648712133038, 1.2134662162164855, 1.2134695258838724, 1.2134821545378245, 1.2134830322048944, 1.2844801102917587, 1.2844921448220283, 1.2844922322676051, 1.2845003834951985, 1.284500927493413, 1.2845147222248052, 22.067957473017216, 8.396749708155347, 6.082442334053193, 5.980827161270852, 4.525935131616933, 4.631775165645792, 1.2963133368306166, 5.586161375722111, 4.949767183958256, 3.3199083256357578, 7.5382108296091985, 6.692069756808167, 1.361360695510091, 1.3613528016232448, 1.3613506371703998, 1.3613503825288886, 1.3613350543513338, 3.0527167354631897, 1.9971680400926937, 2.1454286680968333, 2.242085500095809, 5.2694018289904125, 8.396749708155347, 16.92125788406747, 22.067957473017216, 11.392592478381808, 1.2134612077385007, 1.2134648712133038, 1.2134662162164855, 1.2134695258838724, 1.2134821545378245, 1.2134830322048944, 1.2844801102917587, 1.2844921448220283, 1.2844922322676051, 1.2845003834951985, 1.284500927493413, 1.2845147222248052, 1.2845180359624602, 1.2963133368306166, 1.296326136673952, 1.2963367996453643, 25.429714561363305, 11.697924764925618, 10.853180820974517, 5.980827161270852, 7.969020109989328, 6.515603249635432, 4.525935131616933, 4.631775165645792, 6.082442334053193, 5.586161375722111, 4.949767183958256, 3.3199083256357578, 7.5382108296091985, 6.692069756808167, 10.029100675592897, 1.5534736740501616, 1.5534644701058744, 1.5534568722189797, 2.3375846942164573, 2.9465872201139574, 3.121663497977211, 5.2694018289904125, 5.586161375722111, 3.926281726988166, 16.92125788406747, 1.2134612077385007, 1.2134648712133038, 1.2134662162164855, 1.2134695258838724, 1.2134821545378245, 1.2134830322048944, 1.2844801102917587, 1.2844921448220283, 1.2844922322676051, 1.2845003834951985, 1.284500927493413, 1.2845147222248052, 1.2845180359624602, 1.2963133368306166, 1.296326136673952, 1.2963367996453643, 1.2982632743929714, 1.298267232458346, 1.2982677261842157, 1.298281213098055, 25.429714561363305, 22.067957473017216, 11.392592478381808, 11.697924764925618, 8.396749708155347, 7.49905543679514, 10.853180820974517, 7.969020109989328, 6.515603249635432, 1.2982824863060571, 4.525935131616933, 4.631775165645792, 6.082442334053193, 4.949767183958256, 3.439252970156061, 3.3199083256357578, 1.5842194356907846, 1.2963367996453643, 1.296326136673952, 1.2963133368306166, 2.0804416524432274, 2.08042614704929, 4.525935131616933, 2.5868595212154593, 6.515603249635432, 4.006723042180738, 4.949767183958256, 7.5382108296091985, 8.396749708155347, 22.067957473017216, 11.392592478381808, 11.697924764925618, 25.429714561363305, 1.2134612077385007, 1.2134648712133038, 1.2134662162164855, 1.2134695258838724, 1.2134821545378245, 1.2134830322048944, 1.2844801102917587, 1.2844921448220283, 1.2844922322676051, 1.2845003834951985, 1.284500927493413, 1.2845147222248052, 1.2845180359624602, 1.2982632743929714, 1.2982677261842157, 16.92125788406747, 10.853180820974517, 7.969020109989328, 4.631775165645792, 6.082442334053193, 5.586161375722111, 3.3199083256357578, 6.692069756808167, 10.029100675592897, 7.49905543679514, 2.7911966921561437, 5.358291093324465, 2.6510499553286206, 3.926281726988166, 1.3733623782504554, 1.3733546945323134, 1.3733528150616887, 1.3733457993160902, 2.157467482343636, 2.432975191049492, 4.973350724906132, 7.5382108296091985, 8.396749708155347, 10.853180820974517, 11.392592478381808, 11.697924764925618, 25.429714561363305, 1.2134612077385007, 1.2134648712133038, 1.2134662162164855, 1.2134695258838724, 1.2134821545378245, 1.2134830322048944, 1.2844801102917587, 1.2844921448220283, 1.2844922322676051, 1.2845003834951985, 1.284500927493413, 1.2845147222248052, 1.2845180359624602, 1.2963133368306166, 1.296326136673952, 1.2963367996453643, 1.2982632743929714, 16.92125788406747, 22.067957473017216, 4.525935131616933, 4.631775165645792, 6.082442334053193, 5.586161375722111, 4.949767183958256, 3.3199083256357578, 6.692069756808167, 10.029100675592897, 7.49905543679514, 2.7911966921561437, 5.358291093324465, 2.6510499553286206, 3.926281726988166, 1.2134830322048944, 1.2134821545378245, 1.2134695258838724, 1.2134662162164855, 1.2134648712133038, 1.2134612077385007, 2.1118707518400566, 2.7745014128636463, 2.7744888317604475, 4.072073803271123, 4.631775165645792, 7.5382108296091985, 8.396749708155347, 11.392592478381808, 11.697924764925618, 16.92125788406747, 22.067957473017216, 1.2844801102917587, 1.2844921448220283, 1.2844922322676051, 1.2845003834951985, 1.284500927493413, 1.2845147222248052, 1.2845180359624602, 1.2963133368306166, 1.296326136673952, 1.2963367996453643, 1.2982632743929714, 1.298267232458346, 1.2982677261842157, 25.429714561363305, 7.49905543679514, 10.853180820974517, 7.969020109989328, 6.515603249635432, 4.525935131616933, 6.082442334053193, 5.586161375722111, 4.949767183958256, 3.3199083256357578, 6.692069756808167, 10.029100675592897, 2.7911966921561437], \"Category\": [\"Default\", \"Default\", \"Default\", \"Default\", \"Default\", \"Default\", \"Default\", \"Default\", \"Default\", \"Default\", \"Default\", \"Default\", \"Default\", \"Default\", \"Default\", \"Default\", \"Default\", \"Default\", \"Default\", \"Default\", \"Default\", \"Default\", \"Default\", \"Default\", \"Default\", \"Default\", \"Default\", \"Default\", \"Default\", \"Default\", \"Topic1\", \"Topic1\", \"Topic1\", \"Topic1\", \"Topic1\", \"Topic1\", \"Topic1\", \"Topic1\", \"Topic1\", \"Topic1\", \"Topic1\", \"Topic1\", \"Topic1\", \"Topic1\", \"Topic1\", \"Topic1\", \"Topic1\", \"Topic1\", \"Topic1\", \"Topic1\", \"Topic1\", \"Topic1\", \"Topic1\", \"Topic1\", \"Topic1\", \"Topic1\", \"Topic1\", \"Topic1\", \"Topic1\", \"Topic1\", \"Topic1\", \"Topic2\", \"Topic2\", \"Topic2\", \"Topic2\", \"Topic2\", \"Topic2\", \"Topic2\", \"Topic2\", \"Topic2\", \"Topic2\", \"Topic2\", \"Topic2\", \"Topic2\", \"Topic2\", \"Topic2\", \"Topic2\", \"Topic2\", \"Topic2\", \"Topic2\", \"Topic2\", \"Topic2\", \"Topic2\", \"Topic2\", \"Topic2\", \"Topic2\", \"Topic2\", \"Topic2\", \"Topic2\", \"Topic2\", \"Topic2\", \"Topic2\", \"Topic2\", \"Topic2\", \"Topic2\", \"Topic3\", \"Topic3\", \"Topic3\", \"Topic3\", \"Topic3\", \"Topic3\", \"Topic3\", \"Topic3\", \"Topic3\", \"Topic3\", \"Topic3\", \"Topic3\", \"Topic3\", \"Topic3\", \"Topic3\", \"Topic3\", \"Topic3\", \"Topic3\", \"Topic3\", \"Topic3\", \"Topic3\", \"Topic3\", \"Topic3\", \"Topic3\", \"Topic3\", \"Topic3\", \"Topic3\", \"Topic3\", \"Topic3\", \"Topic3\", \"Topic3\", \"Topic3\", \"Topic3\", \"Topic3\", \"Topic3\", \"Topic3\", \"Topic3\", \"Topic3\", \"Topic3\", \"Topic3\", \"Topic4\", \"Topic4\", \"Topic4\", \"Topic4\", \"Topic4\", \"Topic4\", \"Topic4\", \"Topic4\", \"Topic4\", \"Topic4\", \"Topic4\", \"Topic4\", \"Topic4\", \"Topic4\", \"Topic4\", \"Topic4\", \"Topic4\", \"Topic4\", \"Topic4\", \"Topic4\", \"Topic4\", \"Topic4\", \"Topic4\", \"Topic4\", \"Topic4\", \"Topic4\", \"Topic4\", \"Topic4\", \"Topic4\", \"Topic4\", \"Topic4\", \"Topic4\", \"Topic4\", \"Topic4\", \"Topic4\", \"Topic4\", \"Topic5\", \"Topic5\", \"Topic5\", \"Topic5\", \"Topic5\", \"Topic5\", \"Topic5\", \"Topic5\", \"Topic5\", \"Topic5\", \"Topic5\", \"Topic5\", \"Topic5\", \"Topic5\", \"Topic5\", \"Topic5\", \"Topic5\", \"Topic5\", \"Topic5\", \"Topic5\", \"Topic5\", \"Topic5\", \"Topic5\", \"Topic5\", \"Topic5\", \"Topic5\", \"Topic5\", \"Topic5\", \"Topic5\", \"Topic5\", \"Topic5\", \"Topic5\", \"Topic6\", \"Topic6\", \"Topic6\", \"Topic6\", \"Topic6\", \"Topic6\", \"Topic6\", \"Topic6\", \"Topic6\", \"Topic6\", \"Topic6\", \"Topic6\", \"Topic6\", \"Topic6\", \"Topic6\", \"Topic6\", \"Topic6\", \"Topic6\", \"Topic6\", \"Topic6\", \"Topic6\", \"Topic6\", \"Topic6\", \"Topic6\", \"Topic6\", \"Topic6\", \"Topic6\", \"Topic6\", \"Topic6\", \"Topic6\", \"Topic6\", \"Topic6\", \"Topic6\", \"Topic7\", \"Topic7\", \"Topic7\", \"Topic7\", \"Topic7\", \"Topic7\", \"Topic7\", \"Topic7\", \"Topic7\", \"Topic7\", \"Topic7\", \"Topic7\", \"Topic7\", \"Topic7\", \"Topic7\", \"Topic7\", \"Topic7\", \"Topic7\", \"Topic7\", \"Topic7\", \"Topic7\", \"Topic7\", \"Topic7\", \"Topic7\", \"Topic7\", \"Topic7\", \"Topic7\", \"Topic7\", \"Topic7\", \"Topic7\", \"Topic7\", \"Topic8\", \"Topic8\", \"Topic8\", \"Topic8\", \"Topic8\", \"Topic8\", \"Topic8\", \"Topic8\", \"Topic8\", \"Topic8\", \"Topic8\", \"Topic8\", \"Topic8\", \"Topic8\", \"Topic8\", \"Topic8\", \"Topic8\", \"Topic8\", \"Topic8\", \"Topic8\", \"Topic8\", \"Topic8\", \"Topic8\", \"Topic8\", \"Topic8\", \"Topic8\", \"Topic8\", \"Topic8\", \"Topic8\", \"Topic8\", \"Topic8\", \"Topic8\", \"Topic8\", \"Topic8\", \"Topic8\", \"Topic8\", \"Topic8\", \"Topic9\", \"Topic9\", \"Topic9\", \"Topic9\", \"Topic9\", \"Topic9\", \"Topic9\", \"Topic9\", \"Topic9\", \"Topic9\", \"Topic9\", \"Topic9\", \"Topic9\", \"Topic9\", \"Topic9\", \"Topic9\", \"Topic9\", \"Topic9\", \"Topic9\", \"Topic9\", \"Topic9\", \"Topic9\", \"Topic9\", \"Topic9\", \"Topic9\", \"Topic9\", \"Topic9\", \"Topic9\", \"Topic9\", \"Topic9\", \"Topic9\", \"Topic10\", \"Topic10\", \"Topic10\", \"Topic10\", \"Topic10\", \"Topic10\", \"Topic10\", \"Topic10\", \"Topic10\", \"Topic10\", \"Topic10\", \"Topic10\", \"Topic10\", \"Topic10\", \"Topic10\", \"Topic10\", \"Topic10\", \"Topic10\", \"Topic10\", \"Topic10\", \"Topic10\", \"Topic10\", \"Topic10\", \"Topic10\", \"Topic10\", \"Topic10\", \"Topic10\", \"Topic10\", \"Topic10\", \"Topic10\", \"Topic10\", \"Topic10\", \"Topic10\", \"Topic10\", \"Topic10\", \"Topic10\", \"Topic10\", \"Topic10\", \"Topic10\", \"Topic10\", \"Topic11\", \"Topic11\", \"Topic11\", \"Topic11\", \"Topic11\", \"Topic11\", \"Topic11\", \"Topic11\", \"Topic11\", \"Topic11\", \"Topic11\", \"Topic11\", \"Topic11\", \"Topic11\", \"Topic11\", \"Topic11\", \"Topic11\", \"Topic11\", \"Topic11\", \"Topic11\", \"Topic11\", \"Topic11\", \"Topic11\", \"Topic11\", \"Topic11\", \"Topic11\", \"Topic11\", \"Topic11\", \"Topic11\", \"Topic11\", \"Topic11\", \"Topic11\", \"Topic11\", \"Topic11\", \"Topic11\", \"Topic11\", \"Topic11\", \"Topic11\", \"Topic11\", \"Topic11\", \"Topic11\", \"Topic11\", \"Topic11\", \"Topic12\", \"Topic12\", \"Topic12\", \"Topic12\", \"Topic12\", \"Topic12\", \"Topic12\", \"Topic12\", \"Topic12\", \"Topic12\", \"Topic12\", \"Topic12\", \"Topic12\", \"Topic12\", \"Topic12\", \"Topic12\", \"Topic12\", \"Topic12\", \"Topic12\", \"Topic12\", \"Topic12\", \"Topic12\", \"Topic12\", \"Topic12\", \"Topic12\", \"Topic12\", \"Topic12\", \"Topic12\", \"Topic12\", \"Topic12\", \"Topic12\", \"Topic12\", \"Topic12\", \"Topic12\", \"Topic12\", \"Topic12\", \"Topic12\", \"Topic12\", \"Topic12\", \"Topic12\", \"Topic12\", \"Topic12\", \"Topic12\", \"Topic12\", \"Topic12\", \"Topic12\", \"Topic13\", \"Topic13\", \"Topic13\", \"Topic13\", \"Topic13\", \"Topic13\", \"Topic13\", \"Topic13\", \"Topic13\", \"Topic13\", \"Topic13\", \"Topic13\", \"Topic13\", \"Topic13\", \"Topic13\", \"Topic13\", \"Topic13\", \"Topic13\", \"Topic13\", \"Topic13\", \"Topic13\", \"Topic13\", \"Topic13\", \"Topic13\", \"Topic13\", \"Topic13\", \"Topic13\", \"Topic13\", \"Topic13\", \"Topic13\", \"Topic13\", \"Topic13\", \"Topic13\", \"Topic13\", \"Topic13\", \"Topic13\", \"Topic13\", \"Topic13\", \"Topic13\", \"Topic13\", \"Topic13\", \"Topic13\", \"Topic13\", \"Topic13\", \"Topic13\", \"Topic13\", \"Topic14\", \"Topic14\", \"Topic14\", \"Topic14\", \"Topic14\", \"Topic14\", \"Topic14\", \"Topic14\", \"Topic14\", \"Topic14\", \"Topic14\", \"Topic14\", \"Topic14\", \"Topic14\", \"Topic14\", \"Topic14\", \"Topic14\", \"Topic14\", \"Topic14\", \"Topic14\", \"Topic14\", \"Topic14\", \"Topic14\", \"Topic14\", \"Topic14\", \"Topic14\", \"Topic14\", \"Topic14\", \"Topic14\", \"Topic14\", \"Topic14\", \"Topic14\", \"Topic14\", \"Topic14\", \"Topic14\", \"Topic14\", \"Topic14\", \"Topic14\", \"Topic14\", \"Topic14\", \"Topic14\", \"Topic14\", \"Topic14\", \"Topic14\", \"Topic14\", \"Topic14\", \"Topic14\", \"Topic15\", \"Topic15\", \"Topic15\", \"Topic15\", \"Topic15\", \"Topic15\", \"Topic15\", \"Topic15\", \"Topic15\", \"Topic15\", \"Topic15\", \"Topic15\", \"Topic15\", \"Topic15\", \"Topic15\", \"Topic15\", \"Topic15\", \"Topic15\", \"Topic15\", \"Topic15\", \"Topic15\", \"Topic15\", \"Topic15\", \"Topic15\", \"Topic15\", \"Topic15\", \"Topic15\", \"Topic15\", \"Topic15\", \"Topic15\", \"Topic15\", \"Topic15\", \"Topic15\", \"Topic15\", \"Topic15\", \"Topic15\", \"Topic15\", \"Topic15\", \"Topic15\", \"Topic15\", \"Topic15\", \"Topic15\", \"Topic16\", \"Topic16\", \"Topic16\", \"Topic16\", \"Topic16\", \"Topic16\", \"Topic16\", \"Topic16\", \"Topic16\", \"Topic16\", \"Topic16\", \"Topic16\", \"Topic16\", \"Topic16\", \"Topic16\", \"Topic16\", \"Topic16\", \"Topic16\", \"Topic16\", \"Topic16\", \"Topic16\", \"Topic16\", \"Topic16\", \"Topic16\", \"Topic16\", \"Topic16\", \"Topic16\", \"Topic16\", \"Topic16\", \"Topic16\", \"Topic16\", \"Topic16\", \"Topic16\", \"Topic16\", \"Topic16\", \"Topic16\", \"Topic16\", \"Topic16\", \"Topic16\", \"Topic16\", \"Topic16\", \"Topic16\", \"Topic16\", \"Topic16\", \"Topic16\", \"Topic17\", \"Topic17\", \"Topic17\", \"Topic17\", \"Topic17\", \"Topic17\", \"Topic17\", \"Topic17\", \"Topic17\", \"Topic17\", \"Topic17\", \"Topic17\", \"Topic17\", \"Topic17\", \"Topic17\", \"Topic17\", \"Topic17\", \"Topic17\", \"Topic17\", \"Topic17\", \"Topic17\", \"Topic17\", \"Topic17\", \"Topic17\", \"Topic17\", \"Topic17\", \"Topic17\", \"Topic17\", \"Topic17\", \"Topic17\", \"Topic17\", \"Topic17\", \"Topic17\", \"Topic17\", \"Topic17\", \"Topic17\", \"Topic17\", \"Topic17\", \"Topic17\", \"Topic17\", \"Topic17\", \"Topic17\", \"Topic17\", \"Topic17\", \"Topic17\", \"Topic17\", \"Topic17\", \"Topic18\", \"Topic18\", \"Topic18\", \"Topic18\", \"Topic18\", \"Topic18\", \"Topic18\", \"Topic18\", \"Topic18\", \"Topic18\", \"Topic18\", \"Topic18\", \"Topic18\", \"Topic18\", \"Topic18\", \"Topic18\", \"Topic18\", \"Topic18\", \"Topic18\", \"Topic18\", \"Topic18\", \"Topic18\", \"Topic18\", \"Topic18\", \"Topic18\", \"Topic18\", \"Topic18\", \"Topic18\", \"Topic18\", \"Topic18\", \"Topic18\", \"Topic18\", \"Topic18\", \"Topic18\", \"Topic18\", \"Topic18\", \"Topic18\", \"Topic18\", \"Topic18\", \"Topic18\", \"Topic18\", \"Topic18\", \"Topic18\", \"Topic18\", \"Topic18\", \"Topic19\", \"Topic19\", \"Topic19\", \"Topic19\", \"Topic19\", \"Topic19\", \"Topic19\", \"Topic19\", \"Topic19\", \"Topic19\", \"Topic19\", \"Topic19\", \"Topic19\", \"Topic19\", \"Topic19\", \"Topic19\", \"Topic19\", \"Topic19\", \"Topic19\", \"Topic19\", \"Topic19\", \"Topic19\", \"Topic19\", \"Topic19\", \"Topic19\", \"Topic19\", \"Topic19\", \"Topic19\", \"Topic19\", \"Topic19\", \"Topic19\", \"Topic19\", \"Topic19\", \"Topic19\", \"Topic19\", \"Topic19\", \"Topic19\", \"Topic19\", \"Topic19\", \"Topic19\", \"Topic19\", \"Topic19\", \"Topic19\", \"Topic19\", \"Topic19\", \"Topic20\", \"Topic20\", \"Topic20\", \"Topic20\", \"Topic20\", \"Topic20\", \"Topic20\", \"Topic20\", \"Topic20\", \"Topic20\", \"Topic20\", \"Topic20\", \"Topic20\", \"Topic20\", \"Topic20\", \"Topic20\", \"Topic20\", \"Topic20\", \"Topic20\", \"Topic20\", \"Topic20\", \"Topic20\", \"Topic20\", \"Topic20\", \"Topic20\", \"Topic20\", \"Topic20\", \"Topic20\", \"Topic20\", \"Topic20\", \"Topic20\", \"Topic20\", \"Topic20\", \"Topic20\", \"Topic20\", \"Topic20\", \"Topic20\", \"Topic20\", \"Topic20\", \"Topic20\", \"Topic20\", \"Topic20\", \"Topic20\"], \"logprob\": [30.0, 29.0, 28.0, 27.0, 26.0, 25.0, 24.0, 23.0, 22.0, 21.0, 20.0, 19.0, 18.0, 17.0, 16.0, 15.0, 14.0, 13.0, 12.0, 11.0, 10.0, 9.0, 8.0, 7.0, 6.0, 5.0, 4.0, 3.0, 2.0, 1.0, -3.3862, -3.3862, -4.0553, -4.0553, -4.0553, -4.0553, -4.0553, -4.0553, -4.0553, -4.0553, -4.0553, -4.0553, -2.7054, -4.0553, -2.7054, -4.0553, -2.1511, -4.0553, -3.3863, -4.0553, -3.3862, -3.3863, -3.3862, -4.0553, -4.6362, -4.0553, -4.0553, -4.0553, -3.3863, -3.3862, -4.0553, -3.0904, -3.4877, -4.1567, -4.1567, -4.1567, -4.1567, -4.1567, -4.1568, -4.1568, -4.1568, -4.1568, -4.1568, -4.1568, -3.0904, -3.4877, -3.0904, -4.1567, -4.8345, -4.1568, -4.1568, -4.1568, -3.0904, -2.5862, -3.4877, -3.4877, -4.1568, -4.1568, -4.1568, -4.1568, -2.8068, -3.4877, -3.4877, -2.932, -4.1568, -2.9723, -3.6413, -3.6413, -3.6413, -3.6414, -2.9723, -3.6413, -2.9723, -3.6413, -3.6413, -3.6414, -2.575, -2.575, -2.9723, -3.6413, -2.2914, -3.6413, -3.6414, -3.6414, -6.6858, -6.6858, -6.6858, -6.6858, -6.6858, -6.6858, -6.6858, -6.6858, -6.6858, -6.6858, -6.6858, -6.6858, -6.6858, -6.6858, -6.6858, -6.6858, -6.6858, -6.6858, -6.6858, -6.6858, -6.6858, -3.759, -3.759, -3.759, -3.759, -3.759, -3.759, -3.759, -3.759, -3.759, -3.759, -2.6926, -3.759, -2.1884, -3.759, -3.0899, -2.1884, -3.759, -3.759, -3.09, -3.759, -3.759, -3.759, -3.759, -6.8035, -6.8035, -6.8035, -6.8035, -6.8035, -6.8035, -6.8035, -6.8035, -6.8035, -6.8035, -6.8035, -6.8035, -6.8035, -3.2711, -3.0561, -3.9401, -3.9401, -3.9402, -3.9402, -3.9402, -3.9402, -3.9402, -3.2711, -2.8738, -2.8738, -4.5566, -3.9402, -2.1889, -3.2711, -3.9402, -3.9402, -3.9402, -3.9402, -3.9402, -4.6573, -3.9401, -3.9402, -3.9402, -3.9402, -3.9401, -3.0621, -3.2711, -6.9846, -6.9846, -6.9846, -3.7118, -3.7118, -3.7118, -3.7118, -3.7118, -3.7118, -3.7118, -3.7118, -3.7118, -3.0428, -3.7118, -3.7118, -3.7118, -3.7118, -3.7118, -3.7118, -3.7118, -3.7118, -1.884, -3.7118, -3.7118, -3.7118, -3.7118, -3.7118, -4.47, -3.7118, -3.7118, -6.7563, -6.7563, -6.7563, -6.7563, -6.7563, -6.7563, -3.2441, -3.2441, -3.9131, -3.9131, -3.9132, -3.9132, -3.9132, -3.9132, -3.9132, -2.3425, -3.9131, -2.5632, -3.9131, -3.9131, -3.9131, -3.9131, -3.9131, -3.9131, -3.9131, -3.9131, -3.9131, -3.9131, -3.9131, -3.9131, -4.5448, -2.5632, -3.9131, -3.9131, -3.9131, -3.9132, -3.9131, -2.8944, -3.5635, -3.5635, -3.5635, -3.5635, -3.5635, -3.5635, -3.5635, -3.5635, -2.8944, -3.5635, -3.5635, -3.5635, -3.5635, -3.5635, -2.8944, -3.5635, -3.5635, -3.5635, -3.5635, -2.4971, -3.5635, -6.608, -6.608, -6.608, -6.608, -6.608, -6.608, -6.608, -6.608, -6.608, -6.608, -6.608, -6.608, -6.608, -6.608, -6.608, -3.0899, -3.0899, -3.759, -3.759, -3.759, -3.759, -3.759, -3.759, -3.759, -3.759, -3.759, -3.0899, -3.09, -3.0899, -3.759, -3.759, -3.759, -3.759, -3.759, -3.759, -3.759, -3.759, -3.759, -3.0899, -3.759, -3.759, -3.759, -3.759, -3.759, -6.8035, -6.8035, -3.508, -3.508, -3.508, -3.508, -3.508, -3.508, -3.508, -2.839, -2.8389, -2.8389, -3.508, -3.508, -3.508, -3.508, -2.839, -3.508, -2.4416, -3.508, -3.508, -6.5525, -6.5525, -6.5525, -6.5525, -6.5525, -6.5525, -6.5525, -6.5525, -6.5525, -6.5525, -6.5525, -6.5525, -6.5525, -6.5525, -6.5525, -6.5525, -6.5525, -6.5525, -6.5525, -6.5525, -6.5525, -3.2852, -3.2852, -3.2852, -3.2852, -2.6162, -3.2852, -3.2852, -3.2852, -3.2852, -3.2852, -3.2852, -3.2852, -3.2852, -3.2852, -2.6162, -3.2852, -6.3297, -6.3297, -6.3297, -6.3297, -6.3297, -6.3297, -6.3297, -6.3297, -6.3297, -6.3297, -6.3297, -6.3297, -6.3297, -6.3297, -6.3297, -6.3297, -6.3297, -6.3297, -6.3297, -6.3297, -6.3297, -6.3297, -6.3297, -6.3297, -6.3297, -6.3297, -6.3297, -3.1721, -3.1721, -3.1721, -3.1721, -3.1721, -3.1721, -3.1721, -3.1721, -2.5031, -3.1721, -3.1721, -3.1721, -2.5031, -6.2166, -6.2166, -6.2166, -6.2166, -6.2166, -6.2166, -6.2166, -6.2166, -6.2166, -6.2166, -6.2166, -6.2166, -6.2166, -6.2166, -6.2166, -6.2166, -6.2166, -6.2166, -6.2166, -6.2166, -6.2166, -6.2166, -6.2166, -6.2166, -6.2166, -6.2166, -6.2166, -6.2166, -6.2166, -6.2166, -6.2166, -6.2166, -6.2166, -3.1314, -3.1314, -3.1314, -3.1314, -3.1314, -3.1314, -3.1314, -3.1314, -3.1314, -3.1314, -3.1314, -3.1314, -3.1314, -3.1314, -6.1758, -6.1758, -6.1758, -6.1758, -6.1758, -6.1758, -6.1758, -6.1758, -6.1758, -6.1758, -6.1758, -6.1758, -6.1758, -6.1758, -6.1758, -6.1758, -6.1758, -6.1758, -6.1758, -6.1758, -6.1758, -6.1758, -6.1758, -6.1758, -6.1758, -6.1758, -6.1758, -6.1758, -6.1758, -6.1758, -6.1758, -6.1758, -3.0889, -3.0889, -3.0889, -2.4199, -3.0889, -3.0889, -3.0889, -3.0889, -3.0889, -3.0889, -3.0889, -3.0889, -6.1334, -6.1334, -6.1334, -6.1334, -6.1334, -6.1334, -6.1334, -6.1334, -6.1334, -6.1334, -6.1334, -6.1334, -6.1334, -6.1334, -6.1334, -6.1334, -6.1334, -6.1334, -6.1334, -6.1334, -6.1334, -6.1334, -6.1334, -6.1334, -6.1334, -6.1334, -6.1334, -6.1334, -6.1334, -6.1334, -6.1334, -6.1334, -6.1334, -6.1334, -6.1334, -3.3541, -3.3541, -3.3541, -3.3541, -3.3541, -3.3541, -3.3541, -3.3541, -3.3541, -3.3541, -3.3541, -3.3541, -3.3541, -2.685, -3.3541, -3.3541, -3.3541, -2.6851, -6.3985, -6.3985, -6.3985, -6.3985, -6.3985, -6.3985, -6.3985, -6.3985, -6.3985, -6.3985, -6.3985, -6.3985, -6.3985, -6.3985, -6.3985, -6.3985, -6.3985, -6.3985, -6.3985, -6.3985, -6.3985, -6.3985, -6.3985, -6.3985, -3.2489, -3.2489, -3.2489, -3.2489, -3.2489, -2.5799, -3.2489, -3.2489, -3.2489, -3.2489, -3.2489, -2.5799, -2.5799, -3.2489, -6.2934, -6.2934, -6.2934, -6.2934, -6.2934, -6.2934, -6.2934, -6.2934, -6.2934, -6.2934, -6.2934, -6.2934, -6.2934, -6.2934, -6.2934, -6.2934, -6.2934, -6.2934, -6.2934, -6.2934, -6.2934, -6.2934, -6.2934, -6.2934, -6.2934, -6.2934, -6.2934, -6.2934, -6.2934, -6.2934, -6.2934, -2.9533, -2.9533, -2.9533, -2.9533, -2.9533, -2.9533, -2.9533, -2.9533, -3.4996, -2.9533, -5.9977, -5.9977, -5.9977, -5.9977, -5.9977, -5.9977, -5.9977, -5.9977, -5.9977, -5.9977, -5.9977, -5.9977, -5.9977, -5.9977, -5.9977, -5.9977, -5.9977, -5.9977, -5.9977, -5.9977, -3.5668, -5.9977, -5.9977, -5.9977, -5.9977, -5.9977, -5.9977, -5.9977, -5.9977, -5.9977, -5.9977, -5.9977, -5.9977, -5.9977, -5.9977, -5.9977, -5.9977, -3.3202, -3.3203, -3.3203, -3.3202, -3.3203, -2.6512, -3.3202, -2.6512, -3.3202, -3.3203, -3.3203, -3.3203, -2.6512, -3.3202, -3.3202, -3.3202, -6.3647, -6.3647, -6.3647, -6.3647, -6.3647, -6.3647, -6.3647, -6.3647, -6.3647, -6.3647, -6.3647, -6.3647, -6.3647, -6.3647, -6.3647, -6.3647, -6.3647, -6.3647, -6.3647, -6.3647, -6.3647, -6.3647, -6.3647, -6.3647, -6.3647, -6.3647, -6.3647, -6.3647, -6.3647, -3.0889, -3.0889, -3.0889, -3.0889, -3.0889, -3.0889, -3.0889, -3.0889, -3.0889, -3.0889, -3.0889, -3.0889, -3.0889, -6.1334, -6.1334, -6.1334, -6.1334, -6.1334, -6.1334, -6.1334, -6.1334, -6.1334, -6.1334, -6.1334, -6.1334, -6.1334, -6.1334, -6.1334, -6.1334, -6.1334, -6.1334, -6.1334, -6.1334, -6.1334, -6.1334, -6.1334, -6.1334, -6.1334, -6.1334, -6.1334, -6.1334, -6.1334, -6.1334, -6.1334, -6.1334, -3.2489, -3.2489, -3.2489, -3.2489, -3.2489, -3.2489, -3.2489, -3.2489, -3.2489, -3.2489, -3.2489, -3.2489, -3.2489, -3.2489, -3.2489, -3.2489, -3.2489, -6.2934, -6.2934, -6.2934, -6.2934, -6.2934, -6.2934, -6.2934, -6.2934, -6.2934, -6.2934, -6.2934, -6.2934, -6.2934, -6.2934, -6.2934, -6.2934, -6.2934, -6.2934, -6.2934, -6.2934, -6.2934, -6.2934, -6.2934, -6.2934, -6.2934, -6.2934], \"loglift\": [30.0, 29.0, 28.0, 27.0, 26.0, 25.0, 24.0, 23.0, 22.0, 21.0, 20.0, 19.0, 18.0, 17.0, 16.0, 15.0, 14.0, 13.0, 12.0, 11.0, 10.0, 9.0, 8.0, 7.0, 6.0, 5.0, 4.0, 3.0, 2.0, 1.0, 1.9833, 1.9833, 1.7505, 1.7505, 1.7505, 1.7505, 1.7505, 1.7505, 1.7505, 1.7505, 1.7505, 1.7505, 1.5569, 1.4195, 1.2714, 1.2005, 1.0371, 1.0313, 0.9951, 0.8921, 0.8812, 0.8204, 0.7682, 0.672, 0.6711, 0.565, 0.5067, 0.4384, 0.4366, 0.0674, -0.1575, 1.8579, 1.8423, 1.8141, 1.814, 1.814, 1.814, 1.814, 1.814, 1.814, 1.814, 1.814, 1.4338, 1.328, 1.2909, 1.2847, 1.1771, 1.1751, 1.1291, 1.1029, 0.9381, 0.9298, 0.8864, 0.8675, 0.8373, 0.8373, 0.7907, 0.7375, 0.5926, 0.5214, 0.3813, 0.3616, 0.3352, 0.1143, -0.0023, 2.0747, 2.0591, 2.0591, 2.0591, 2.0591, 1.8599, 1.7518, 1.7106, 1.5249, 1.5038, 1.4452, 1.2743, 1.2478, 1.1821, 1.086, 0.7549, 0.6836, 0.6836, 0.5654, -0.597, -0.597, -0.597, -0.597, -0.597, -0.597, -0.6539, -0.6539, -0.6539, -0.6539, -0.6539, -3.2321, -3.4977, -1.9134, -1.9365, -0.6631, -2.209, -2.1238, -1.6035, -2.4235, -2.3045, 2.0632, 2.0632, 2.0632, 2.0632, 2.0632, 2.0632, 2.0632, 2.0632, 2.0632, 2.0632, 1.911, 1.7258, 1.7094, 1.3233, 1.1775, 0.858, 0.7179, 0.5033, 0.3637, 0.2178, 0.0903, 0.0639, -0.5708, -0.7147, -0.7147, -0.7147, -0.7147, -0.7147, -0.7147, -0.7715, -2.649, -2.031, -2.0541, -2.2415, -2.1205, -2.4221, 2.2987, 2.0387, 2.0169, 2.0169, 2.0169, 2.0169, 2.0169, 2.0169, 2.0169, 1.4782, 1.4512, 1.4512, 1.4071, 1.3917, 1.2648, 1.137, 1.0073, 0.9744, 0.938, 0.892, 0.8323, 0.65, 0.6218, 0.5535, 0.4412, 0.3273, 0.2666, -0.0158, -0.083, -0.8958, -0.8958, -3.1353, 2.1559, 2.1559, 2.1559, 2.1559, 2.1559, 2.1559, 2.1559, 2.1559, 2.1559, 2.1011, 1.8436, 1.8436, 1.8379, 1.8379, 1.8071, 1.8015, 1.7214, 1.5925, 1.1624, 0.9711, 0.9664, 0.8502, 0.7651, 0.4949, 0.4446, 0.186, -0.5237, -0.6675, -0.6675, -0.6675, -2.907, -2.9334, -3.3026, 2.4287, 2.4287, 2.1188, 2.1187, 2.1187, 2.1187, 2.1187, 2.1187, 2.1187, 2.0655, 1.6541, 1.6435, 1.6422, 1.6422, 1.3942, 1.3912, 1.1692, 1.0014, 0.9811, 0.965, 0.8142, 0.765, 0.7072, 0.6905, 0.55, 0.4831, 0.4119, 0.4118, 0.0636, -0.4595, -0.725, 2.5982, 2.3361, 2.3361, 2.3361, 2.3361, 2.3361, 2.3361, 2.0084, 1.923, 1.8549, 1.6983, 1.6983, 1.6833, 1.209, 1.1147, 1.0034, 0.9302, 0.9134, 0.704, 0.6988, 0.691, 0.4133, -0.5192, -0.5192, -0.5192, -0.5192, -0.5192, -0.5192, -0.576, -0.5761, -3.5616, -3.1543, -2.7587, -2.7851, -2.4535, -2.4013, -2.1999, 2.545, 2.545, 2.2456, 2.2456, 2.2456, 2.2456, 2.2456, 2.2456, 2.2456, 2.2456, 2.2456, 2.1659, 1.9924, 1.8246, 1.7604, 1.7604, 1.7309, 1.7309, 1.571, 1.5483, 1.5453, 1.5007, 1.4878, 1.3869, 1.288, 1.1893, 0.7347, -0.3053, -0.5709, -0.7147, -3.7571, 2.3824, 2.3824, 2.3824, 2.3824, 2.3824, 2.3824, 1.9785, 1.6547, 1.486, 1.486, 1.2193, 1.1749, 1.1124, 1.0956, 1.0589, 0.8733, 0.6047, 0.3413, 0.3148, -0.4637, -0.4637, -0.4637, -0.4637, -0.4637, -0.4637, -0.5206, -0.5206, -0.5206, -0.5206, -0.5206, -3.0988, -3.3643, -2.398, -2.2902, -2.5757, -2.3458, -2.1444, -0.5312, -0.5312, -1.78, 2.5562, 2.5562, 2.5562, 2.5562, 2.262, 2.2341, 2.2341, 1.9766, 1.9766, 1.9745, 1.9164, 1.2768, 0.8692, 0.6916, 0.572, 0.5641, -0.2409, -0.2409, -0.2409, -0.2409, -0.2409, -0.2409, -0.2978, -0.2978, -0.2978, -0.2978, -0.2978, -0.2978, -0.2978, -0.3069, -3.2833, -2.876, -2.5068, -1.8528, -2.4319, -2.123, -1.9216, -1.5572, -1.5804, -1.6468, -1.2474, -2.0674, -1.9483, 2.6228, 2.6228, 2.6228, 2.6228, 2.6228, 2.6228, 2.6228, 2.3626, 1.9738, 1.7753, 1.4483, 0.8047, 0.6851, -0.1278, -0.1278, -0.1278, -0.1278, -0.1278, -0.1278, -0.1847, -0.1847, -0.1847, -0.1847, -0.1847, -0.1847, -0.1847, -0.1938, -0.1938, -0.1938, -0.1953, -3.1702, -2.7629, -2.3673, -2.3937, -2.0621, -1.9491, -1.8085, -1.4441, -1.4672, -1.6546, -1.5336, -1.1342, -1.9543, -1.8352, -0.9608, -2.3188, 2.6696, 2.6696, 2.6696, 2.6696, 2.6695, 2.6695, 2.3585, 2.3585, 1.5468, 1.4306, 1.3624, 1.25, 0.718, 0.6915, -0.087, -0.087, -0.087, -0.087, -0.0871, -0.0871, -0.1439, -0.1439, -0.1439, -0.1439, -0.1439, -0.1439, -0.1439, -0.1531, -0.1531, -0.1531, -3.1295, -2.7221, -2.9877, -2.0214, -1.4034, -1.4265, -1.699, -1.0935, -1.9135, -2.1991, -1.9083, -0.92, -2.278, -1.5722, -0.8685, -1.2613, 2.7949, 2.7949, 2.4783, 2.4744, 2.4716, 2.1579, 2.0563, 1.7433, 1.6384, 1.5147, 1.1178, 0.3648, -0.0446, -0.0446, -0.0446, -0.0446, -0.0446, -0.0446, -0.1014, -0.1015, -0.1015, -0.1015, -0.1015, -0.1015, -0.1015, -0.1106, -0.1106, -0.1106, -0.1121, -0.1121, -3.087, -2.2841, -2.3105, -2.9452, -1.8711, -1.8659, -1.6396, -1.7253, -1.9789, -1.3609, -1.384, -1.6565, -1.5714, -1.4504, -1.051, -1.752, -2.1566, 2.6671, 2.6671, 2.6671, 2.6671, 2.6671, 2.6671, 2.6671, 2.2178, 2.2064, 1.8475, 1.7911, 1.5942, 1.054, 0.7687, 0.5437, 0.4952, 0.4688, 0.3613, -0.3098, -0.3098, -0.3098, -0.3098, -0.3098, -0.3098, -0.3666, -0.3666, -0.3666, -0.3667, -0.3667, -0.3667, -3.2104, -2.2441, -1.9217, -1.9048, -1.6261, -1.6492, -0.3758, -1.8366, -1.7156, -1.3162, -2.1363, -2.0172, 2.7249, 2.7249, 2.7249, 2.7249, 2.7249, 2.5864, 2.3416, 2.27, 2.2259, 1.3714, 0.9055, 0.8738, 0.6083, 0.6004, -0.2046, -0.2046, -0.2046, -0.2046, -0.2046, -0.2046, -0.2615, -0.2615, -0.2615, -0.2615, -0.2615, -0.2615, -0.2615, -0.2706, -0.2706, -0.2707, -3.247, -2.4705, -2.3956, -1.7997, -2.0867, -1.8853, -1.5209, -1.5441, -1.8165, -1.7314, -1.6105, -1.211, -2.0311, -1.912, -2.3166, 2.8885, 2.8885, 2.8885, 2.4799, 2.2483, 2.1906, 1.6671, 1.6087, 1.415, 0.5004, 0.091, 0.091, 0.091, 0.091, 0.091, 0.091, 0.0342, 0.0342, 0.0342, 0.0342, 0.0342, 0.0341, 0.0341, 0.025, 0.025, 0.025, 0.0235, 0.0235, 0.0235, 0.0235, -0.5205, -2.8096, -2.1484, -2.1749, -1.8433, -1.7303, -2.0999, -1.791, -1.5897, 0.0235, -1.2253, -1.2484, -1.5209, -1.3148, -0.9507, -0.9154, -0.1756, 2.7025, 2.7025, 2.7025, 2.2294, 2.2294, 2.1213, 2.0116, 1.7569, 1.5741, 1.3627, 0.942, 0.8341, 0.5369, 0.5291, 0.5026, -0.2739, -0.2759, -0.2759, -0.2759, -0.2759, -0.2759, -0.2759, -0.3328, -0.3328, -0.3328, -0.3328, -0.3328, -0.3328, -0.3328, -0.3435, -0.3435, -2.911, -2.4669, -2.158, -1.6154, -1.8878, -1.8027, -1.2824, -1.9834, -2.3879, -2.0972, -1.1089, -1.7611, -1.0574, -1.4501, 2.8761, 2.8761, 2.8761, 2.8761, 2.4244, 2.3043, 1.5893, 1.1734, 1.0655, 0.8089, 0.7604, 0.734, -0.0426, -0.0446, -0.0446, -0.0446, -0.0446, -0.0446, -0.0446, -0.1015, -0.1015, -0.1015, -0.1015, -0.1015, -0.1015, -0.1015, -0.1106, -0.1106, -0.1106, -0.1121, -2.6797, -2.9452, -1.3609, -1.384, -1.6565, -1.5714, -1.4504, -1.051, -1.752, -2.1566, -1.8659, -0.8776, -1.5297, -0.8261, -1.2188, 2.8399, 2.8399, 2.8399, 2.8398, 2.8398, 2.8398, 2.2858, 2.0129, 2.0129, 1.6292, 1.5004, 1.0134, 0.9055, 0.6004, 0.5739, 0.2048, -0.0608, -0.2615, -0.2615, -0.2615, -0.2615, -0.2615, -0.2615, -0.2615, -0.2706, -0.2706, -0.2707, -0.2721, -0.2721, -0.2721, -3.247, -2.0259, -2.3956, -2.0867, -1.8853, -1.5209, -1.8165, -1.7314, -1.6105, -1.211, -1.912, -2.3166, -1.0376]}, \"token.table\": {\"Topic\": [2, 10, 15, 1, 3, 7, 10, 14, 3, 19, 1, 5, 6, 11, 13, 17, 2, 2, 8, 10, 3, 10, 10, 1, 7, 9, 8, 9, 14, 11, 9, 9, 13, 9, 13, 8, 19, 2, 6, 7, 8, 13, 19, 5, 18, 13, 11, 6, 13, 1, 10, 12, 14, 1, 2, 4, 5, 6, 7, 8, 9, 11, 12, 16, 18, 20, 9, 6, 16, 16, 13, 7, 6, 9, 3, 1, 5, 8, 9, 10, 13, 8, 12, 8, 1, 7, 1, 4, 6, 8, 10, 15, 19, 2, 5, 12, 20, 5, 7, 11, 20, 5, 6, 15, 6, 7, 2, 9, 15, 2, 16, 1, 2, 3, 4, 10, 11, 13, 15, 16, 18, 19, 20, 2, 2, 3, 5, 7, 10, 2, 9, 11, 2, 3, 5, 7, 10, 6, 18, 3, 16, 1, 4, 7, 10, 14, 7, 3, 6, 10, 18, 2, 1, 4, 7, 9, 6, 8, 11, 20, 2, 5, 8, 18, 5, 4, 4, 18, 2, 19, 4, 6, 11, 1, 2, 3, 4, 10, 13, 15, 18, 19, 20, 20, 9, 1, 4, 8, 18, 19, 20, 4, 20, 7, 11, 1, 3, 5, 6, 7, 14, 10, 9, 11, 1, 1, 7, 10, 12, 16, 17, 3, 5, 14, 6, 7, 4, 8, 17, 14, 15, 9, 5, 9, 1, 2, 4, 5, 7, 9, 14, 15, 16, 17, 20, 17, 18, 9, 6, 7, 6, 20, 13, 2, 5, 8, 20, 5, 2, 1, 16, 4, 15, 16, 16, 1, 2, 5, 10, 13, 1, 11, 15, 17, 8, 15, 9, 11, 15, 7, 1, 2, 3, 11, 16, 18, 19, 20, 3, 8, 11, 20, 13, 9, 6, 17, 3, 14, 15, 1, 8, 8, 9, 15, 13, 12, 3, 10, 6, 17, 5, 7, 5, 9, 12, 7, 14, 6, 7, 9, 2, 9, 12, 1, 9, 2, 5, 18, 15, 16, 20, 9, 1, 2, 3, 19, 4, 6, 8, 9, 12, 4, 5, 1, 5, 7, 9, 17, 2, 2, 7, 14, 18, 4, 3, 9, 4, 14, 6, 1, 1, 2, 4, 5, 8, 6, 19, 17, 1, 4, 12, 2, 6, 18, 1, 2, 5, 12, 1, 19, 6, 15, 2, 3, 4, 5, 6, 7, 10, 15, 18, 19, 20, 20, 8, 2, 4, 16, 7, 1, 2, 4, 7, 8, 11, 12, 5, 7, 15, 18, 12, 7], \"Freq\": [0.7323672279866161, 0.6757976478084818, 0.7702468832312891, 0.21119898758594574, 0.21119898758594574, 0.21119898758594574, 0.21119898758594574, 0.21119898758594574, 0.4110193986682776, 0.4110193986682776, 0.17901380442499876, 0.17901380442499876, 0.17901380442499876, 0.17901380442499876, 0.17901380442499876, 0.17901380442499876, 0.7323648852301731, 0.7323790216165096, 0.4512113491071954, 0.4512113491071954, 0.5589011584148211, 0.6758017407563752, 0.6758004658984366, 0.3772090367403285, 0.3772090367403285, 0.3772090367403285, 0.355068301124617, 0.355068301124617, 0.355068301124617, 0.6434512194859495, 0.7575634806582444, 0.4527682569575922, 0.4527682569575922, 0.4527718018260723, 0.4527718018260723, 0.6820617557998394, 0.7281440140564294, 0.20107168291833552, 0.20107168291833552, 0.20107168291833552, 0.20107168291833552, 0.20107168291833552, 0.20107168291833552, 0.4904345713833789, 0.771404468555986, 0.6179493720858559, 0.6434583181201425, 0.6606188278873907, 0.6179481559809556, 0.6209634956031426, 0.6757980280255963, 0.6142430785388376, 0.6713936656986701, 0.27188741900270014, 0.13594370950135007, 0.04531456983378336, 0.04531456983378336, 0.04531456983378336, 0.04531456983378336, 0.09062913966756672, 0.04531456983378336, 0.09062913966756672, 0.09062913966756672, 0.04531456983378336, 0.04531456983378336, 0.04531456983378336, 0.5234406021424644, 0.4661073168594694, 0.4661073168594694, 0.734564610098192, 0.6179492808778223, 0.7785021089647237, 0.6606264701095481, 0.757562343354205, 0.5589000225916985, 0.1672009528172876, 0.1672009528172876, 0.1672009528172876, 0.1672009528172876, 0.3344019056345752, 0.1672009528172876, 0.6820651845071523, 0.6142550015935051, 0.9079936150221872, 0.6209633039626263, 0.7785041173120849, 0.09213888688442667, 0.3685555475377067, 0.09213888688442667, 0.18427777376885335, 0.18427777376885335, 0.09213888688442667, 0.09213888688442667, 0.3049953121166634, 0.6099906242333268, 0.47351382613197696, 0.47351382613197696, 0.2455751168352336, 0.2455751168352336, 0.4911502336704672, 0.2455751168352336, 0.7223789145561405, 0.6606267166357874, 0.770259792234799, 0.6606250183476491, 0.7785178010088603, 0.5268519373661456, 0.2634259686830728, 0.2634259686830728, 0.5007089938979734, 0.5007089938979734, 0.620967328438307, 0.08777633377982805, 0.26332900133948417, 0.08777633377982805, 0.08777633377982805, 0.08777633377982805, 0.08777633377982805, 0.08777633377982805, 0.08777633377982805, 0.08777633377982805, 0.08777633377982805, 0.08777633377982805, 0.7323637351552225, 0.1412413998088288, 0.1412413998088288, 0.2824827996176576, 0.1412413998088288, 0.2824827996176576, 0.3596736776756667, 0.3596736776756667, 0.3596736776756667, 0.14124076401238936, 0.14124076401238936, 0.2824815280247787, 0.14124076401238936, 0.2824815280247787, 0.48066716931264125, 0.48066716931264125, 0.3275770687738801, 0.3275770687738801, 0.6209660252690422, 0.5598799967656664, 0.18662666558855542, 0.18662666558855542, 0.18662666558855542, 0.5436511292526841, 0.4040594083862808, 0.2020297041931404, 0.2020297041931404, 0.2020297041931404, 0.7323627980597851, 0.6209594711771428, 0.3012131366032529, 0.3012131366032529, 0.3012131366032529, 0.660635396823959, 0.36042675268780505, 0.36042675268780505, 0.36042675268780505, 0.22094881409463343, 0.22094881409463343, 0.22094881409463343, 0.22094881409463343, 0.7223799454185604, 0.6312358296745141, 0.6312376486780912, 0.7714184307051263, 0.7323797006123935, 0.7281487302746242, 0.6312372551007571, 0.6606367603816545, 0.6434571052770759, 0.17097049606582224, 0.08548524803291112, 0.25645574409873334, 0.08548524803291112, 0.08548524803291112, 0.08548524803291112, 0.08548524803291112, 0.08548524803291112, 0.08548524803291112, 0.08548524803291112, 0.8240747474204655, 0.7575675749810613, 0.5306298922137431, 0.13265747305343578, 0.13265747305343578, 0.13265747305343578, 0.13265747305343578, 0.13265747305343578, 0.6312329988617771, 0.8240833236183789, 0.5436482392444962, 0.6434582467763061, 0.25097188517481084, 0.12548594258740542, 0.12548594258740542, 0.12548594258740542, 0.25097188517481084, 0.12548594258740542, 0.675801561828655, 0.46630794347264365, 0.46630794347264365, 0.6209642621663902, 0.1897748610664589, 0.1897748610664589, 0.1897748610664589, 0.1897748610664589, 0.1897748610664589, 0.1897748610664589, 0.4691117644753359, 0.23455588223766796, 0.23455588223766796, 0.48341604034614966, 0.48341604034614966, 0.6312256859567936, 0.6820657993134878, 0.6437186652753731, 0.4858773244987362, 0.4858773244987362, 0.7575634522256018, 0.7223819727899028, 0.7575703887119355, 0.1181945227537214, 0.17729178413058208, 0.1181945227537214, 0.2363890455074428, 0.0590972613768607, 0.0590972613768607, 0.0590972613768607, 0.0590972613768607, 0.0590972613768607, 0.0590972613768607, 0.0590972613768607, 0.6437256275879651, 0.7714108137677061, 0.7575661817690242, 0.4834151016397449, 0.4834151016397449, 0.6606272370806746, 0.8240855712637305, 0.6179615601503575, 0.21589994424104855, 0.21589994424104855, 0.4317998884820971, 0.21589994424104855, 0.7223789145561405, 0.732361051661051, 0.4460133210608016, 0.4460133210608016, 0.6312358252202548, 0.7702574439211877, 0.7345634421934003, 0.7345647474989999, 0.29886120029835356, 0.29886120029835356, 0.14943060014917678, 0.14943060014917678, 0.14943060014917678, 0.8028280752393615, 0.3393756659140487, 0.3393756659140487, 0.3393756659140487, 0.49144203266504277, 0.49144203266504277, 0.4663079271535701, 0.4663079271535701, 0.7702476008326747, 0.7785124779562513, 0.238187402210822, 0.119093701105411, 0.238187402210822, 0.119093701105411, 0.119093701105411, 0.119093701105411, 0.119093701105411, 0.119093701105411, 0.5589135497132798, 0.3604251183162563, 0.3604251183162563, 0.3604251183162563, 0.6179665691619305, 0.5234406835876303, 0.6406840459568972, 0.3203420229784486, 0.3207446994442799, 0.3207446994442799, 0.3207446994442799, 0.6209629206819489, 0.6820641677144915, 0.6820616375691676, 0.7575640208788595, 0.770249149345484, 0.6179530508323188, 0.6142467795054022, 0.5588980966413023, 0.6758090545080238, 0.42779198652102457, 0.42779198652102457, 0.7223776088012986, 0.7785177480089772, 0.7223754440076194, 0.7575630257362189, 0.614245704006248, 0.489157611024688, 0.489157611024688, 0.3760784759788098, 0.3760784759788098, 0.3760784759788098, 0.38585198105107676, 0.38585198105107676, 0.6142473488888323, 0.35826926952522287, 0.35826926952522287, 0.3865691166446259, 0.3865691166446259, 0.3865691166446259, 0.7702571509954539, 0.7345591828073955, 0.8240741513979009, 0.7575695368597615, 0.3024968109520775, 0.3024968109520775, 0.3024968109520775, 0.7281450105412873, 0.1644076417134931, 0.1644076417134931, 0.1644076417134931, 0.1644076417134931, 0.3288152834269862, 0.6312303434543094, 0.7223808044728246, 0.802824935997289, 0.25469389858763286, 0.25469389858763286, 0.25469389858763286, 0.25469389858763286, 0.7323661630954658, 0.24958051491767952, 0.24958051491767952, 0.49916102983535904, 0.24958051491767952, 0.6312368836882823, 0.5815216319808099, 0.29076081599040493, 0.6312242001438257, 0.6713945424764006, 0.6606225531062112, 0.6209624990737501, 0.2667002553663928, 0.2667002553663928, 0.2667002553663928, 0.1333501276831964, 0.1333501276831964, 0.46350640655483233, 0.46350640655483233, 0.6437224791706027, 0.6209612342525888, 0.631221628560988, 0.6142431101708417, 0.7323748526977197, 0.4806707517199396, 0.4806707517199396, 0.2632081843898595, 0.2632081843898595, 0.2632081843898595, 0.2632081843898595, 0.6209720798873883, 0.7281399402202304, 0.6606233474597765, 0.7702483939726041, 0.07864814979239698, 0.15729629958479396, 0.15729629958479396, 0.07864814979239698, 0.19662037448099245, 0.07864814979239698, 0.07864814979239698, 0.03932407489619849, 0.03932407489619849, 0.03932407489619849, 0.8240864846793073, 0.824088972620457, 0.6820640021903918, 0.4504445464343897, 0.4504445464343897, 0.7345730184524578, 0.7785128076637418, 0.39883935054461195, 0.19941967527230597, 0.09970983763615299, 0.09970983763615299, 0.09970983763615299, 0.09970983763615299, 0.09970983763615299, 0.15347773056254663, 0.46043319168763985, 0.15347773056254663, 0.15347773056254663, 0.6142480764358621, 0.778525095085247], \"Term\": [\"2013\", \"2014\", \"360\", \"365\", \"365\", \"365\", \"365\", \"365\", \"access\", \"access\", \"account\", \"account\", \"account\", \"account\", \"account\", \"account\", \"acsm\", \"activex\", \"adblock\", \"adblock\", \"adobe\", \"antivirus\", \"apk\", \"app\", \"app\", \"app\", \"apps\", \"apps\", \"apps\", \"ask\", \"authorize\", \"background\", \"background\", \"backgrounds\", \"backgrounds\", \"banking\", \"bar\", \"bing\", \"bing\", \"bing\", \"bing\", \"bing\", \"bing\", \"bluetooth\", \"browser\", \"browsing\", \"business\", \"change\", \"changer\", \"checker\", \"chrome\", \"clone\", \"cmd\", \"com\", \"com\", \"com\", \"com\", \"com\", \"com\", \"com\", \"com\", \"com\", \"com\", \"com\", \"com\", \"com\", \"control\", \"cookies\", \"cookies\", \"csrss\", \"daily\", \"dead\", \"defender\", \"delete\", \"deskthemepack\", \"desktop\", \"desktop\", \"desktop\", \"desktop\", \"desktop\", \"desktop\", \"device\", \"direct\", \"directx\", \"dll\", \"dmp\", \"download\", \"download\", \"download\", \"download\", \"download\", \"download\", \"download\", \"downloads\", \"downloads\", \"drive\", \"drive\", \"email\", \"email\", \"email\", \"email\", \"emz\", \"enable\", \"encarta\", \"engine\", \"enternet\", \"essentials\", \"essentials\", \"essentials\", \"exe\", \"exe\", \"explore\", \"explorer\", \"explorer\", \"explorer\", \"explorer\", \"explorer\", \"explorer\", \"explorer\", \"explorer\", \"explorer\", \"explorer\", \"explorer\", \"express\", \"extension\", \"extension\", \"extension\", \"extension\", \"extension\", \"favorites\", \"favorites\", \"favorites\", \"file\", \"file\", \"file\", \"file\", \"file\", \"firefox\", \"firefox\", \"flash\", \"flash\", \"framework\", \"free\", \"free\", \"free\", \"free\", \"games\", \"google\", \"google\", \"google\", \"google\", \"help\", \"helper\", \"history\", \"history\", \"history\", \"homail\", \"home\", \"home\", \"home\", \"homepage\", \"homepage\", \"homepage\", \"homepage\", \"honda\", \"hormail\", \"hotail\", \"hotm\", \"hotmil\", \"ie11\", \"ie9\", \"iexplorer\", \"inbox\", \"internet\", \"internet\", \"internet\", \"internet\", \"internet\", \"internet\", \"internet\", \"internet\", \"internet\", \"internet\", \"intranet\", \"itunes\", \"java\", \"java\", \"java\", \"java\", \"java\", \"java\", \"javascript\", \"keyboard\", \"latest\", \"list\", \"live\", \"live\", \"live\", \"live\", \"live\", \"live\", \"lnk\", \"log\", \"log\", \"logging\", \"login\", \"login\", \"login\", \"login\", \"login\", \"login\", \"mail\", \"mail\", \"mail\", \"maker\", \"maker\", \"manage\", \"manager\", \"marinenet\", \"media\", \"media\", \"menu\", \"messenger\", \"meta\", \"microsoft\", \"microsoft\", \"microsoft\", \"microsoft\", \"microsoft\", \"microsoft\", \"microsoft\", \"microsoft\", \"microsoft\", \"microsoft\", \"microsoft\", \"mil\", \"miracast\", \"missing\", \"movie\", \"movie\", \"mozilla\", \"msconfig\", \"mse\", \"msn\", \"msn\", \"msn\", \"msn\", \"music\", \"myaccount\", \"net\", \"net\", \"notepad\", \"nslookup\", \"object\", \"ocx\", \"office\", \"office\", \"office\", \"office\", \"office\", \"office365\", \"onedrive\", \"onedrive\", \"onedrive\", \"online\", \"online\", \"open\", \"open\", \"openoffice\", \"otmail\", \"outlook\", \"outlook\", \"outlook\", \"outlook\", \"outlook\", \"outlook\", \"outlook\", \"outlook\", \"outlook365\", \"page\", \"page\", \"page\", \"paint\", \"panel\", \"password\", \"password\", \"player\", \"player\", \"player\", \"plug\", \"plus\", \"pnc\", \"pof\", \"preview\", \"private\", \"proxy\", \"release\", \"remote\", \"reset\", \"reset\", \"rewards\", \"rising\", \"rtc\", \"screen\", \"screensavers\", \"screenshot\", \"screenshot\", \"search\", \"search\", \"search\", \"security\", \"security\", \"server\", \"settings\", \"settings\", \"setup\", \"setup\", \"setup\", \"sharepoint\", \"shockwave\", \"shortcuts\", \"shot\", \"sign\", \"sign\", \"sign\", \"skydrive\", \"skype\", \"skype\", \"skype\", \"skype\", \"skype\", \"sp1\", \"speakers\", \"ssv\", \"store\", \"store\", \"store\", \"store\", \"studio\", \"support\", \"support\", \"support\", \"support\", \"theme\", \"toolbar\", \"toolbar\", \"troubleshooter\", \"trovi\", \"tutorial\", \"ultipro\", \"update\", \"update\", \"update\", \"update\", \"update\", \"updates\", \"updates\", \"usmc\", \"verify\", \"version\", \"virtual\", \"visual\", \"w2express\", \"w2express\", \"wallpaper\", \"wallpaper\", \"wallpaper\", \"wallpaper\", \"wallpapers\", \"web\", \"website\", \"window\", \"windows\", \"windows\", \"windows\", \"windows\", \"windows\", \"windows\", \"windows\", \"windows\", \"windows\", \"windows\", \"windowsmedia\", \"windowsonecare\", \"windowsupgradeoffer\", \"word\", \"word\", \"wordpad\", \"wot\", \"www\", \"www\", \"www\", \"www\", \"www\", \"www\", \"www\", \"xbox\", \"xbox\", \"xbox\", \"xbox\", \"xboxie\", \"zune\"]}, \"R\": 30, \"lambda.step\": 0.01, \"plot.opts\": {\"xlab\": \"PC1\", \"ylab\": \"PC2\"}, \"topic.order\": [12, 13, 1, 19, 18, 7, 15, 9, 16, 2, 6, 8, 4, 17, 20, 10, 14, 3, 5, 11]};\n",
              "\n",
              "function LDAvis_load_lib(url, callback){\n",
              "  var s = document.createElement('script');\n",
              "  s.src = url;\n",
              "  s.async = true;\n",
              "  s.onreadystatechange = s.onload = callback;\n",
              "  s.onerror = function(){console.warn(\"failed to load library \" + url);};\n",
              "  document.getElementsByTagName(\"head\")[0].appendChild(s);\n",
              "}\n",
              "\n",
              "if(typeof(LDAvis) !== \"undefined\"){\n",
              "   // already loaded: just create the visualization\n",
              "   !function(LDAvis){\n",
              "       new LDAvis(\"#\" + \"ldavis_el7711343597147239047611434836\", ldavis_el7711343597147239047611434836_data);\n",
              "   }(LDAvis);\n",
              "}else if(typeof define === \"function\" && define.amd){\n",
              "   // require.js is available: use it to load d3/LDAvis\n",
              "   require.config({paths: {d3: \"https://d3js.org/d3.v5\"}});\n",
              "   require([\"d3\"], function(d3){\n",
              "      window.d3 = d3;\n",
              "      LDAvis_load_lib(\"https://cdn.jsdelivr.net/gh/bmabey/pyLDAvis@3.4.0/pyLDAvis/js/ldavis.v3.0.0.js\", function(){\n",
              "        new LDAvis(\"#\" + \"ldavis_el7711343597147239047611434836\", ldavis_el7711343597147239047611434836_data);\n",
              "      });\n",
              "    });\n",
              "}else{\n",
              "    // require.js not available: dynamically load d3 & LDAvis\n",
              "    LDAvis_load_lib(\"https://d3js.org/d3.v5.js\", function(){\n",
              "         LDAvis_load_lib(\"https://cdn.jsdelivr.net/gh/bmabey/pyLDAvis@3.4.0/pyLDAvis/js/ldavis.v3.0.0.js\", function(){\n",
              "                 new LDAvis(\"#\" + \"ldavis_el7711343597147239047611434836\", ldavis_el7711343597147239047611434836_data);\n",
              "            })\n",
              "         });\n",
              "}\n",
              "</script>"
            ],
            "text/plain": [
              "PreparedData(topic_coordinates=              x         y  topics  cluster      Freq\n",
              "topic                                               \n",
              "11    -0.108282 -0.119594       1        1  9.974736\n",
              "12     0.012320 -0.142357       2        1  7.969372\n",
              "0      0.161705 -0.055804       3        1  7.932313\n",
              "18     0.054249 -0.046985       4        1  7.196289\n",
              "17     0.050614 -0.038837       5        1  6.607920\n",
              "6      0.096163  0.117244       6        1  6.298319\n",
              "14     0.111268  0.080608       7        1  5.451354\n",
              "8     -0.140305 -0.038445       8        1  5.100690\n",
              "15    -0.116376  0.178620       9        1  4.971590\n",
              "1      0.136943 -0.031105      10        1  4.914340\n",
              "5     -0.129044  0.001923      11        1  4.322866\n",
              "7     -0.134270  0.045158      12        1  4.206610\n",
              "3     -0.021597  0.031664      13        1  3.994774\n",
              "16     0.033276  0.082353      14        1  3.273787\n",
              "19     0.086088  0.011517      15        1  3.194151\n",
              "9     -0.069474 -0.021735      16        1  3.194150\n",
              "13     0.002273  0.109407      17        1  3.099373\n",
              "2      0.021717 -0.061416      18        1  3.077285\n",
              "4      0.042620 -0.034702      19        1  2.773593\n",
              "10    -0.089888 -0.067516      20        1  2.446490, topic_info=         Term       Freq      Total Category  logprob  loglift\n",
              "21    windows  25.000000  25.000000  Default  30.0000  30.0000\n",
              "3   microsoft  16.000000  16.000000  Default  29.0000  29.0000\n",
              "4         com  22.000000  22.000000  Default  28.0000  28.0000\n",
              "30   download  10.000000  10.000000  Default  27.0000  27.0000\n",
              "55       xbox   6.000000   6.000000  Default  26.0000  26.0000\n",
              "..        ...        ...        ...      ...      ...      ...\n",
              "13     google   0.024195   4.949767  Topic20  -6.2934  -1.6105\n",
              "15    history   0.024195   3.319908  Topic20  -6.2934  -1.2110\n",
              "23     office   0.024195   6.692070  Topic20  -6.2934  -1.9120\n",
              "25        www   0.024195  10.029101  Topic20  -6.2934  -2.3166\n",
              "29   settings   0.024195   2.791197  Topic20  -6.2934  -1.0376\n",
              "\n",
              "[824 rows x 6 columns], token_table=      Topic      Freq    Term\n",
              "term                         \n",
              "162       2  0.732367    2013\n",
              "192      10  0.675798    2014\n",
              "61       15  0.770247     360\n",
              "79        1  0.211199     365\n",
              "79        3  0.211199     365\n",
              "...     ...       ...     ...\n",
              "55        7  0.460433    xbox\n",
              "55       15  0.153478    xbox\n",
              "55       18  0.153478    xbox\n",
              "143      12  0.614248  xboxie\n",
              "156       7  0.778525    zune\n",
              "\n",
              "[402 rows x 3 columns], R=30, lambda_step=0.01, plot_opts={'xlab': 'PC1', 'ylab': 'PC2'}, topic_order=[12, 13, 1, 19, 18, 7, 15, 9, 16, 2, 6, 8, 4, 17, 20, 10, 14, 3, 5, 11])"
            ]
          },
          "execution_count": 35,
          "metadata": {},
          "output_type": "execute_result"
        }
      ],
      "source": [
        "vis_bow = pyLDAvis.gensim_models.prepare(lda_bow, dataset_corpus_bow, dataset_dictionary)\n",
        "vis_bow"
      ]
    },
    {
      "cell_type": "code",
      "execution_count": null,
      "metadata": {
        "colab": {
          "base_uri": "https://localhost:8080/",
          "height": 916
        },
        "id": "dS7o8B-LpOpi",
        "outputId": "f2b3e151-d251-48b4-f332-3c70c78ec2bb"
      },
      "outputs": [
        {
          "name": "stderr",
          "output_type": "stream",
          "text": [
            "/usr/local/lib/python3.10/dist-packages/ipykernel/ipkernel.py:283: DeprecationWarning: `should_run_async` will not call `transform_cell` automatically in the future. Please pass the result to `transformed_cell` argument and any exception that happen during thetransform in `preprocessing_exc_tuple` in IPython 7.17 and above.\n",
            "  and should_run_async(code)\n"
          ]
        },
        {
          "data": {
            "text/html": [
              "\n",
              "<link rel=\"stylesheet\" type=\"text/css\" href=\"https://cdn.jsdelivr.net/gh/bmabey/pyLDAvis@3.4.0/pyLDAvis/js/ldavis.v1.0.0.css\">\n",
              "\n",
              "\n",
              "<div id=\"ldavis_el2351336087832320484146997198\" style=\"background-color:white;\"></div>\n",
              "<script type=\"text/javascript\">\n",
              "\n",
              "var ldavis_el2351336087832320484146997198_data = {\"mdsDat\": {\"x\": [-0.02595231329864306, -0.08458672056750315, 0.0447575598708114, 0.12039271273316772, -0.029249177353225055, 0.020307006695256813, 0.09103513264531807, -0.11744982719492397, 0.09605002388162237, -0.04814308472826165, 0.013749637729786835, 0.051215484750935236, 0.03983324124046573, -0.1418850816037713, 0.03922757136920464, -0.049269821502220035, -0.11725302578110879, 0.05213461749994828, 0.05251736409225651, -0.0074313004791163], \"y\": [0.0029156541828173257, 0.013372822957241012, 0.15324339916568333, 0.03416142288572793, -0.005754885919708327, 0.050408372277559066, -0.03445098931388499, 0.1233577797096186, 0.07266865369808628, -0.09424922055271545, -0.0002645001969672643, -0.016362513085021298, -0.0738629360837671, 0.049740063234785144, -0.09090392963621144, -0.04260195588810978, -0.0860753236581901, -0.05952868621812636, 0.008353837232344877, -0.004167064791162559], \"topics\": [1, 2, 3, 4, 5, 6, 7, 8, 9, 10, 11, 12, 13, 14, 15, 16, 17, 18, 19, 20], \"cluster\": [1, 1, 1, 1, 1, 1, 1, 1, 1, 1, 1, 1, 1, 1, 1, 1, 1, 1, 1, 1], \"Freq\": [6.825768714076435, 6.420266318935765, 6.0800705640219315, 5.801024703832323, 5.71783012755128, 5.686163380544157, 5.579451962475014, 5.55503433022056, 5.438962580823665, 5.337110451302734, 5.334844017019973, 5.264664359801214, 5.12593367592854, 4.533472942919019, 3.8921917232225747, 3.7924065106003213, 3.6117279362630303, 3.4480355325503935, 3.3905947973724335, 3.1644453705386324]}, \"tinfo\": {\"Term\": [\"windows\", \"microsoft\", \"com\", \"java\", \"live\", \"xbox\", \"www\", \"skype\", \"update\", \"explorer\", \"support\", \"internet\", \"essentials\", \"outlook\", \"desktop\", \"wallpaper\", \"favorites\", \"screenshot\", \"msn\", \"downloads\", \"download\", \"apps\", \"toolbar\", \"store\", \"login\", \"directx\", \"homepage\", \"history\", \"sign\", \"365\", \"meta\", \"hotail\", \"cmd\", \"event\", \"defender\", \"acsm\", \"apk\", \"app\", \"mozilla\", \"authorize\", \"itunes\", \"private\", \"browsing\", \"drive\", \"mil\", \"usmc\", \"marinenet\", \"extension\", \"file\", \"store\", \"firefox\", \"sign\", \"mail\", \"support\", \"live\", \"skype\", \"windows\", \"download\", \"microsoft\", \"internet\", \"com\", \"log\", \"outlook365\", \"tutorial\", \"checker\", \"pof\", \"enable\", \"studio\", \"visual\", \"intranet\", \"daily\", \"changer\", \"directx\", \"update\", \"cookies\", \"page\", \"home\", \"background\", \"setup\", \"download\", \"google\", \"email\", \"homepage\", \"account\", \"bing\", \"windows\", \"java\", \"desktop\", \"internet\", \"explorer\", \"plug\", \"microsoft\", \"windowsupgradeoffer\", \"wallpapers\", \"sp1\", \"troubleshooter\", \"website\", \"bluetooth\", \"release\", \"adobe\", \"office365\", \"essentials\", \"w2express\", \"setup\", \"skype\", \"microsoft\", \"security\", \"flash\", \"downloads\", \"email\", \"player\", \"outlook\", \"login\", \"com\", \"office\", \"windows\", \"update\", \"plug\", \"helper\", \"dll\", \"shockwave\", \"ocx\", \"explorer\", \"internet\", \"java\", \"download\", \"desktop\", \"explore\", \"plus\", \"settings\", \"adblock\", \"downloads\", \"www\", \"setup\", \"msn\", \"free\", \"download\", \"office\", \"skype\", \"com\", \"java\", \"microsoft\", \"internet\", \"plug\", \"helper\", \"dll\", \"shockwave\", \"ocx\", \"object\", \"chrome\", \"2014\", \"adobe\", \"release\", \"inbox\", \"missing\", \"banking\", \"pnc\", \"windows\", \"explorer\", \"outlook\", \"update\", \"desktop\", \"live\", \"xbox\", \"windowsmedia\", \"preview\", \"window\", \"homepage\", \"hotm\", \"account\", \"google\", \"rewards\", \"express\", \"remote\", \"dmp\", \"version\", \"browser\", \"engine\", \"change\", \"firefox\", \"bing\", \"msn\", \"desktop\", \"email\", \"search\", \"homepage\", \"skype\", \"free\", \"google\", \"file\", \"extension\", \"outlook\", \"internet\", \"explorer\", \"xbox\", \"download\", \"windows\", \"plug\", \"helper\", \"dll\", \"shockwave\", \"microsoft\", \"com\", \"java\", \"www\", \"hotmil\", \"xboxie\", \"home\", \"page\", \"ask\", \"updates\", \"media\", \"player\", \"security\", \"outlook\", \"com\", \"essentials\", \"internet\", \"explorer\", \"xbox\", \"msn\", \"update\", \"www\", \"plug\", \"helper\", \"dll\", \"shockwave\", \"ocx\", \"object\", \"microsoft\", \"chrome\", \"2014\", \"adobe\", \"release\", \"inbox\", \"windows\", \"download\", \"desktop\", \"live\", \"windowsmedia\", \"homepage\", \"skype\", \"account\", \"google\", \"history\", \"java\", \"iexplorer\", \"otmail\", \"menu\", \"2014\", \"chrome\", \"java\", \"support\", \"password\", \"exe\", \"latest\", \"games\", \"office365\", \"app\", \"homepage\", \"maker\", \"movie\", \"settings\", \"bing\", \"365\", \"www\", \"msn\", \"login\", \"google\", \"office\", \"update\", \"extension\", \"file\", \"outlook\", \"com\", \"xbox\", \"windows\", \"enternet\", \"encarta\", \"paint\", \"2013\", \"business\", \"server\", \"proxy\", \"essentials\", \"wallpaper\", \"windows\", \"security\", \"onedrive\", \"desktop\", \"office\", \"365\", \"internet\", \"login\", \"explorer\", \"update\", \"microsoft\", \"plug\", \"helper\", \"dll\", \"shockwave\", \"ocx\", \"object\", \"chrome\", \"2014\", \"adobe\", \"release\", \"xbox\", \"com\", \"skype\", \"java\", \"live\", \"outlook\", \"homepage\", \"msn\", \"account\", \"toolbar\", \"direct\", \"emz\", \"deskthemepack\", \"downloads\", \"365\", \"onedrive\", \"access\", \"reset\", \"account\", \"microsoft\", \"bar\", \"search\", \"apps\", \"sign\", \"bing\", \"password\", \"store\", \"history\", \"extension\", \"file\", \"mail\", \"internet\", \"free\", \"homepage\", \"login\", \"outlook\", \"msn\", \"com\", \"download\", \"www\", \"explorer\", \"net\", \"openoffice\", \"manage\", \"antivirus\", \"list\", \"framework\", \"history\", \"reset\", \"open\", \"media\", \"search\", \"panel\", \"control\", \"player\", \"favorites\", \"password\", \"live\", \"outlook\", \"xbox\", \"free\", \"account\", \"windows\", \"plug\", \"helper\", \"dll\", \"shockwave\", \"ocx\", \"object\", \"chrome\", \"2014\", \"explorer\", \"internet\", \"microsoft\", \"com\", \"skype\", \"java\", \"update\", \"desktop\", \"windowsonecare\", \"trovi\", \"lnk\", \"logging\", \"ultipro\", \"movie\", \"maker\", \"adblock\", \"word\", \"account\", \"office\", \"internet\", \"free\", \"explorer\", \"file\", \"extension\", \"download\", \"plug\", \"helper\", \"dll\", \"shockwave\", \"ocx\", \"object\", \"chrome\", \"2014\", \"adobe\", \"release\", \"inbox\", \"missing\", \"banking\", \"microsoft\", \"windows\", \"com\", \"outlook\", \"homepage\", \"msn\", \"skype\", \"google\", \"toolbar\", \"history\", \"java\", \"setup\", \"www\", \"apps\", \"sharepoint\", \"help\", \"ssv\", \"preview\", \"window\", \"backgrounds\", \"pnc\", \"banking\", \"word\", \"dll\", \"helper\", \"plug\", \"online\", \"email\", \"live\", \"store\", \"account\", \"support\", \"com\", \"download\", \"internet\", \"microsoft\", \"explorer\", \"www\", \"java\", \"shockwave\", \"ocx\", \"object\", \"chrome\", \"windows\", \"skype\", \"update\", \"desktop\", \"toolbar\", \"honda\", \"rtc\", \"csrss\", \"myaccount\", \"web\", \"virtual\", \"clone\", \"google\", \"exe\", \"access\", \"games\", \"latest\", \"drive\", \"free\", \"extension\", \"file\", \"office\", \"outlook\", \"www\", \"live\", \"com\", \"xbox\", \"plug\", \"helper\", \"dll\", \"shockwave\", \"ocx\", \"object\", \"chrome\", \"windows\", \"internet\", \"microsoft\", \"explorer\", \"homepage\", \"msn\", \"skype\", \"screenshot\", \"windowsmedia\", \"device\", \"manager\", \"w2express\", \"bar\", \"onedrive\", \"mail\", \"live\", \"wallpaper\", \"windows\", \"login\", \"desktop\", \"update\", \"skype\", \"explorer\", \"download\", \"bing\", \"plug\", \"helper\", \"dll\", \"shockwave\", \"ocx\", \"object\", \"chrome\", \"2014\", \"adobe\", \"release\", \"inbox\", \"missing\", \"microsoft\", \"internet\", \"com\", \"outlook\", \"java\", \"xbox\", \"homepage\", \"msn\", \"account\", \"google\", \"toolbar\", \"history\", \"hormail\", \"ie11\", \"hotm\", \"javascript\", \"music\", \"shot\", \"dead\", \"rising\", \"screen\", \"inbox\", \"backgrounds\", \"open\", \"settings\", \"java\", \"email\", \"desktop\", \"update\", \"www\", \"download\", \"xbox\", \"com\", \"plug\", \"helper\", \"dll\", \"shockwave\", \"ocx\", \"object\", \"chrome\", \"2014\", \"adobe\", \"explorer\", \"microsoft\", \"windows\", \"internet\", \"outlook\", \"live\", \"homepage\", \"msn\", \"skype\", \"miracast\", \"ie9\", \"homail\", \"skydrive\", \"speakers\", \"shortcuts\", \"keyboard\", \"cookies\", \"control\", \"panel\", \"updates\", \"bluetooth\", \"homepage\", \"java\", \"internet\", \"explorer\", \"plug\", \"helper\", \"dll\", \"shockwave\", \"ocx\", \"object\", \"chrome\", \"2014\", \"adobe\", \"release\", \"inbox\", \"missing\", \"banking\", \"pnc\", \"windows\", \"microsoft\", \"com\", \"outlook\", \"msn\", \"hotm\", \"skype\", \"account\", \"google\", \"history\", \"office\", \"setup\", \"www\", \"update\", \"mse\", \"msconfig\", \"wot\", \"notepad\", \"favorites\", \"360\", \"missing\", \"store\", \"wallpaper\", \"toolbar\", \"xbox\", \"desktop\", \"live\", \"explorer\", \"plug\", \"helper\", \"dll\", \"shockwave\", \"ocx\", \"object\", \"windows\", \"chrome\", \"2014\", \"adobe\", \"release\", \"inbox\", \"banking\", \"pnc\", \"changer\", \"daily\", \"com\", \"microsoft\", \"internet\", \"outlook\", \"homepage\", \"msn\", \"skype\", \"account\", \"google\", \"history\", \"java\", \"office\", \"setup\", \"www\", \"update\", \"activex\", \"zune\", \"nslookup\", \"wordpad\", \"delete\", \"verify\", \"online\", \"history\", \"xbox\", \"office\", \"www\", \"microsoft\", \"plug\", \"helper\", \"dll\", \"shockwave\", \"ocx\", \"object\", \"chrome\", \"2014\", \"adobe\", \"release\", \"inbox\", \"missing\", \"banking\", \"pnc\", \"changer\", \"daily\", \"marinenet\", \"usmc\", \"com\", \"windows\", \"explorer\", \"internet\", \"outlook\", \"update\", \"desktop\", \"live\", \"windowsmedia\", \"preview\", \"window\", \"homepage\", \"msn\", \"hotm\", \"skype\", \"account\", \"google\", \"toolbar\", \"flash\", \"object\", \"ocx\", \"shockwave\", \"mail\", \"365\", \"login\", \"support\", \"skype\", \"xbox\", \"www\", \"microsoft\", \"com\", \"plug\", \"helper\", \"dll\", \"chrome\", \"2014\", \"adobe\", \"release\", \"inbox\", \"missing\", \"banking\", \"pnc\", \"changer\", \"daily\", \"marinenet\", \"usmc\", \"mil\", \"screen\", \"windows\", \"explorer\", \"internet\", \"outlook\", \"homepage\", \"msn\", \"hotm\", \"account\", \"google\", \"java\", \"office\", \"setup\", \"update\", \"settings\", \"download\", \"free\", \"app\", \"theme\", \"messenger\", \"screensavers\", \"background\", \"directx\", \"sign\", \"wallpaper\", \"microsoft\", \"download\", \"plug\", \"helper\", \"dll\", \"shockwave\", \"ocx\", \"object\", \"chrome\", \"2014\", \"adobe\", \"release\", \"inbox\", \"missing\", \"banking\", \"pnc\", \"changer\", \"daily\", \"marinenet\", \"usmc\", \"mil\", \"screen\", \"rising\", \"windows\", \"explorer\", \"internet\", \"com\", \"skype\", \"update\", \"desktop\", \"live\", \"xbox\", \"outlook\", \"homepage\", \"msn\", \"account\", \"google\", \"toolbar\", \"history\", \"java\", \"office\", \"setup\", \"www\", \"settings\"], \"Freq\": [9.0, 7.0, 7.0, 4.0, 4.0, 4.0, 4.0, 4.0, 4.0, 6.0, 2.0, 6.0, 2.0, 4.0, 3.0, 2.0, 1.0, 1.0, 3.0, 2.0, 5.0, 2.0, 1.0, 2.0, 2.0, 1.0, 2.0, 2.0, 1.0, 2.0, 0.6629807190821826, 0.6629803245863449, 0.6629711635163363, 0.624469772409724, 0.6244622769888079, 0.5124313326897293, 0.5124249330905846, 0.9520088397240835, 0.4898063389051827, 0.47804624265218004, 0.47804321818409107, 0.42742650923907216, 0.42742637774045955, 0.6629868995169731, 0.39612777930412085, 0.39612194953229724, 0.39611734708085755, 1.0567857945597303, 1.0567838659134128, 0.8456040197306468, 0.4322456265594143, 0.5066899279337403, 0.5298740099860344, 0.5733387285580999, 0.7650313131835585, 0.47765477128257966, 1.0907913357685517, 0.4003257848444566, 0.355868887324167, 0.238081174847865, 0.26276302609725294, 0.9473987739971415, 0.7237077678631669, 0.6816615807116866, 0.5593704145848726, 0.5533321997699072, 0.5533320760833089, 0.5218298003795948, 0.5218266257569043, 0.49065508801712243, 0.395762317490327, 0.3957591840965027, 0.7236960588651917, 1.6283334073415814, 0.48815195986900295, 0.3998146615113854, 0.3998168466412892, 0.3503699543365156, 0.47099275316733363, 1.0079255530091076, 0.4205239209582983, 0.4064680110087078, 0.4025170487694132, 0.38911803834354874, 0.2784318703771338, 1.0191819404921159, 0.3503304158539164, 0.2683325504070618, 0.42898870191701743, 0.428988537001553, 0.03446489183421406, 0.03446490214143059, 0.6485799860825204, 0.648566750085361, 0.6108953451788746, 0.5358660606083505, 0.47708780840859777, 0.6485781510032682, 0.359190760152973, 0.3591839274110765, 0.5128258206680629, 0.9480099067067909, 0.42103734295086814, 0.5184027436481901, 0.9875469625049252, 1.8607819188166979, 0.4686107964579386, 0.3179405602623197, 0.5205010591624721, 0.4699240494504376, 0.2938165303245359, 0.7132304918892848, 0.4767847470223104, 1.2345480832305031, 0.4101959289943592, 0.748744273081828, 0.3347652305984782, 0.030886948532853304, 0.030886948532853304, 0.030886948532853304, 0.030886948532853304, 0.030886948532853304, 0.03088695585364819, 0.03088695341338323, 0.03088695341338323, 0.03088695341338323, 0.03088695341338323, 0.7956271936218355, 0.6819770649194646, 0.8919325781129476, 0.6016201712777656, 0.8919389110035192, 1.4569775869220578, 0.6010146724345264, 0.7618959832996919, 0.5747489715365544, 0.8972400619441058, 0.4770436084538484, 0.552735508639026, 1.0453886492875173, 0.5293298901323744, 0.9466302755119457, 0.43537851557131785, 0.04247672731387495, 0.04247672731387495, 0.04247672731387495, 0.04247672731387495, 0.04247672731387495, 0.04247672731387495, 0.04247672731387495, 0.04247672731387495, 0.04247672731387495, 0.04247672731387495, 0.04247672731387495, 0.04247672731387495, 0.04247672731387495, 0.04247672731387495, 0.042476741283486504, 0.04247673662694932, 0.042476731970412136, 0.042476731970412136, 0.042476731970412136, 0.042476731970412136, 0.042476731970412136, 0.04247672731387495, 0.04247672731387495, 0.04247672731387495, 0.04247672731387495, 0.04247672731387495, 0.04247672731387495, 0.04247672731387495, 0.6385979568312509, 0.6385950193873374, 0.6214375563610084, 0.5669920701430611, 0.5449627829501595, 0.5419652683086684, 0.4032096707851069, 0.4032072841119272, 0.478264850988678, 0.7879643361312113, 1.0110408033487202, 0.8980578246691789, 0.5406019638703824, 0.3298786232865416, 0.5289530159788687, 0.7335816744949631, 0.3793287658213553, 0.29578345475665946, 0.3551150851802575, 0.3551092102924306, 0.3866657296381531, 0.5289616447203644, 0.5289490871476344, 0.3866597445961794, 0.30785565159805395, 0.4074628692635046, 0.034935151270838766, 0.034935151270838766, 0.034935151270838766, 0.034935151270838766, 0.03493515815547294, 0.03493515815547294, 0.03493515586059488, 0.03493515586059488, 0.7291436210442221, 0.681763320829799, 0.7956466672128408, 0.7956360779511896, 0.47978363455133494, 0.675235880859847, 0.5468109952304677, 0.5037763089095119, 0.518268735890605, 1.0662109928976755, 1.7330568191778255, 0.46238405358534734, 0.9062695434187926, 0.9062840032381507, 0.6119481727048671, 0.3757510401060305, 0.47365310931982496, 0.463213630948978, 0.03472423834145625, 0.03472423834145625, 0.03472423834145625, 0.03472423834145625, 0.03472423834145625, 0.03472423834145625, 0.29072164250234933, 0.03472423834145625, 0.03472423834145625, 0.03472423834145625, 0.03472423834145625, 0.03472423834145625, 0.3030331015022984, 0.034724242905793165, 0.034724242905793165, 0.034724242905793165, 0.03472424062362471, 0.03472424062362471, 0.03472424062362471, 0.03472424062362471, 0.03472424062362471, 0.03472424062362471, 0.03472424062362471, 0.5722466481494891, 0.5722463615140551, 0.4526476191445354, 0.34607875033866115, 0.34607548986059816, 1.415077289413898, 1.0028301822887589, 0.572253706547054, 0.4178167560747056, 0.375870526647457, 0.37586658541023804, 0.409033601443934, 0.5722517717578738, 0.7980108199513771, 0.396761305332634, 0.39676349092781904, 0.36794376703493925, 0.41261883745374694, 0.35999310919310284, 0.6013550497539442, 0.4126285830585066, 0.34447029560016856, 0.25307547672277864, 0.319972030829606, 0.4126272931990531, 0.2960456395795167, 0.296045137967507, 0.28166329463475104, 0.49365393515391714, 0.25956456257138777, 0.298815720244158, 0.6556293548518797, 0.6556241466483149, 0.6556167267418666, 0.5298687540235996, 0.5185868932867169, 0.472749957457687, 0.4727435720574261, 0.99952061515807, 0.655627571220522, 2.4689073769219347, 0.4989508243236183, 0.4215544579404666, 0.6556096635616897, 0.6569326186123853, 0.38927672336593794, 0.7688360090589056, 0.37257458529588544, 0.7688273762831339, 0.4258882540683559, 0.4569838691241996, 0.03122258062450834, 0.03122258062450834, 0.03122258062450834, 0.03122258062450834, 0.03122258062450834, 0.03122258062450834, 0.03122258062450834, 0.03122258062450834, 0.03122258062450834, 0.03122258062450834, 0.031222587313125934, 0.031222585083586735, 0.031222585083586735, 0.031222585083586735, 0.031222585083586735, 0.03122258285404754, 0.03122258285404754, 0.03122258285404754, 0.03122258285404754, 0.03122258285404754, 0.5149166900181825, 0.3979937320370704, 0.39798381269748506, 0.7872471288093745, 0.6354876597680634, 0.5149128829477079, 0.3568652511543329, 0.32460717462303695, 0.6715914013875416, 1.6706607180995223, 0.22737744127139511, 0.3295374356694712, 0.39944660094105405, 0.3470841187053992, 0.4470132571234577, 0.29939472815925305, 0.44529923715581354, 0.30968188663604723, 0.4740005319007241, 0.47399784250231536, 0.3091161350071623, 0.7956224044355987, 0.34063742115623025, 0.3455849362651826, 0.33501755644510256, 0.4806683538826916, 0.3455863682825171, 0.7165482932959433, 0.3124559487037443, 0.27115262199718915, 0.3052249946367965, 1.1251221566670613, 0.6513996906983835, 0.5601647996559188, 0.5552599633278007, 0.547027508636652, 0.5287713452130381, 0.8775178892228133, 0.42108895556917647, 0.41319611392516153, 0.49699588178606696, 0.5140633824081169, 0.41320992602103346, 0.41319614819835226, 0.4579940531823898, 0.4446626045375287, 0.38846461375372904, 0.9502306568814505, 0.6915718459465737, 0.6915669106071058, 0.3856372468828737, 0.33268550990726614, 0.6451640949198555, 0.032934582738109175, 0.032934582738109175, 0.032934582738109175, 0.032934582738109175, 0.032934582738109175, 0.032934582738109175, 0.032934582738109175, 0.032934582738109175, 0.032934589164332444, 0.032934589164332444, 0.032934589164332444, 0.032934587022258016, 0.032934587022258016, 0.032934587022258016, 0.032934587022258016, 0.032934587022258016, 0.8399270062180375, 0.8399178249034706, 0.6491898552634346, 0.6056410303058464, 0.6056327397158269, 0.6056427432376685, 0.6056270527821772, 0.6513760358894709, 0.5785712261332694, 0.6278771464279961, 0.5824747236869696, 0.9704161654322516, 0.4559253419224499, 0.9703912251449204, 0.40659228878765963, 0.40659239156356897, 0.3696059111927348, 0.03999946321113909, 0.03999946321113909, 0.03999946321113909, 0.03999946321113909, 0.03999946321113909, 0.03999946321113909, 0.03999946321113909, 0.03999946321113909, 0.03999946321113909, 0.03999946321113909, 0.03999946321113909, 0.03999946321113909, 0.03999946321113909, 0.3011630823217633, 0.03999948034045731, 0.039999467493468645, 0.039999467493468645, 0.039999467493468645, 0.039999467493468645, 0.039999467493468645, 0.039999467493468645, 0.039999467493468645, 0.039999467493468645, 0.039999467493468645, 0.039999467493468645, 0.039999467493468645, 1.1507413292379667, 0.6715989528884964, 0.5043782645567702, 0.5034569636898147, 0.4842670891789336, 0.4842628631832501, 0.6715966539468445, 0.38852286335898456, 0.3885162708057184, 0.6075148048739853, 0.26772128919736976, 0.26771958189511363, 0.26771679273796256, 0.34373068991106664, 0.48660707370080253, 0.788891226426617, 0.45572305774267147, 0.4757316597532796, 0.36658440125559394, 0.8612545394885383, 0.4075299720085483, 0.3980992400413835, 0.5113614688639139, 0.39810424362027264, 0.22794305678006066, 0.17384169100083363, 0.03198341296117368, 0.03198341296117368, 0.03198341296117368, 0.03198341296117368, 0.0319834193001672, 0.03198341718716936, 0.03198341718716936, 0.03198341718716936, 1.065137261098554, 0.6935632479935572, 0.5733277465602589, 0.5671503294400032, 0.555821191476213, 0.5223696676806391, 0.46021234164300384, 0.46020802950525513, 0.9460991514419567, 0.5003334916867479, 0.4611750675417608, 0.413780460296696, 0.41377670774934217, 0.40683462681303273, 0.32758836471133757, 0.35907901792911034, 0.35907434370345903, 0.3596453234087224, 0.31910322971970523, 0.32140024953941515, 0.2875202770038604, 0.49466869228527843, 0.2875237003803937, 0.035325135303492114, 0.035325135303492114, 0.035325135303492114, 0.035325135303492114, 0.035325135303492114, 0.035325135303492114, 0.035325135303492114, 0.26428228188573205, 0.03532514353276263, 0.03532514353276263, 0.03532513941812737, 0.03532513941812737, 0.03532513941812737, 0.03532513941812737, 1.1391798295020783, 0.6064462126067024, 0.4372934662510834, 0.4372655473716844, 0.6064337524603179, 0.26861563197016236, 0.47044904240555946, 0.4541070655098977, 0.848781911114831, 0.46580894793944355, 1.6453035228436712, 0.40118614546559456, 0.40661268477851326, 0.5222429305643856, 0.4740367494145394, 0.6064329955355375, 0.3968832609891328, 0.1574009796717978, 0.028880710631602958, 0.028880710631602958, 0.028880710631602958, 0.028880710631602958, 0.028880710631602958, 0.028880710631602958, 0.028880710631602958, 0.028880710631602958, 0.028880710631602958, 0.028880710631602958, 0.028880710631602958, 0.028880710631602958, 0.028880717909725847, 0.028880716090195126, 0.028880716090195126, 0.028880716090195126, 0.028880716090195126, 0.028880716090195126, 0.028880714270664402, 0.028880714270664402, 0.028880714270664402, 0.028880714270664402, 0.028880714270664402, 0.028880714270664402, 0.5444532851019188, 0.5444471364815516, 0.5444423875471216, 0.5444390382986288, 0.4739522541840924, 0.3925814622326294, 0.392580362479393, 0.3925779380233945, 0.3925715894478934, 0.37037581975385664, 0.44267427236465207, 0.32710367919410777, 0.4404752657796478, 0.758795590790349, 0.26989796506162456, 0.3344488310825867, 0.33740274328121783, 0.34140519520759965, 0.37049771740235704, 0.28697365860276813, 0.24961254172242373, 0.02592807598592926, 0.02592807598592926, 0.02592807598592926, 0.02592807598592926, 0.02592807598592926, 0.02592807598592926, 0.02592807598592926, 0.02592807598592926, 0.02592807598592926, 0.02592808067237771, 0.02592808067237771, 0.02592808067237771, 0.02592807911022823, 0.02592807911022823, 0.02592807911022823, 0.025928077548078746, 0.025928077548078746, 0.025928077548078746, 0.6061361554687542, 0.606124222203042, 0.6061224687435904, 0.606119643725585, 0.46343826149659234, 0.4370589252636356, 0.43705712309697703, 0.6061268036850124, 0.43705605153842325, 0.43705371359248785, 0.47838772100156884, 0.4088425967191038, 0.41861126544553073, 0.3382326111238504, 0.3299810744807044, 0.32997661777126497, 0.0288654647130711, 0.0288654647130711, 0.0288654647130711, 0.0288654647130711, 0.0288654647130711, 0.0288654647130711, 0.0288654647130711, 0.0288654647130711, 0.0288654647130711, 0.0288654647130711, 0.0288654647130711, 0.0288654647130711, 0.0288654647130711, 0.0288654647130711, 0.21717209018745945, 0.02886547384567241, 0.028865467757271536, 0.028865467757271536, 0.028865467757271536, 0.028865467757271536, 0.028865467757271536, 0.028865467757271536, 0.028865467757271536, 0.028865467757271536, 0.028865467757271536, 0.028865467757271536, 0.028865467757271536, 0.028865467757271536, 0.5608357082905289, 0.5608350124901986, 0.5608316726486132, 0.5608244363251782, 0.8439609911009863, 0.48820853368170364, 0.3802290431181063, 0.5011566820280777, 0.430771097763316, 0.3098352020227585, 0.6733004205565555, 0.37602900677771867, 0.4043942813624693, 0.5608166433614789, 0.026708321770709448, 0.026708321770709448, 0.026708321770709448, 0.026708321770709448, 0.026708321770709448, 0.026708321770709448, 0.27205635199613165, 0.026708321770709448, 0.026708321770709448, 0.026708321770709448, 0.026708321770709448, 0.026708321770709448, 0.026708321770709448, 0.026708321770709448, 0.026708321770709448, 0.026708321770709448, 0.026708330468213574, 0.026708327569045533, 0.02670832466987749, 0.02670832466987749, 0.02670832466987749, 0.02670832466987749, 0.02670832466987749, 0.02670832466987749, 0.02670832466987749, 0.02670832466987749, 0.02670832466987749, 0.02670832466987749, 0.02670832466987749, 0.02670832466987749, 0.02670832466987749, 0.6344161120439985, 0.6344088936982525, 0.6344053066675442, 0.6343979111844792, 0.5138746093605407, 0.4753822713997159, 0.5738711964169073, 0.3923477360562469, 0.6344133221312255, 0.30759689508757304, 0.27488640778503776, 0.29384158443479025, 0.03021251343771397, 0.03021251343771397, 0.03021251343771397, 0.03021251343771397, 0.03021251343771397, 0.03021251343771397, 0.03021251343771397, 0.03021251343771397, 0.03021251343771397, 0.03021251343771397, 0.03021251343771397, 0.03021251343771397, 0.03021251343771397, 0.03021251343771397, 0.03021251343771397, 0.03021251343771397, 0.03021251343771397, 0.03021251343771397, 0.20369069015659935, 0.030212518973255185, 0.03021251620548458, 0.03021251620548458, 0.03021251620548458, 0.03021251620548458, 0.03021251620548458, 0.03021251620548458, 0.03021251343771397, 0.03021251343771397, 0.03021251343771397, 0.03021251343771397, 0.03021251343771397, 0.03021251343771397, 0.03021251343771397, 0.03021251343771397, 0.03021251343771397, 0.03021251343771397, 0.49724445244803583, 0.2983473028944957, 0.29834418931272283, 0.2983405967183696, 0.5076833123339233, 0.48201855856624604, 0.5864246196110073, 0.5376287837999802, 0.48568905778374655, 0.4480739852525083, 0.4173202889234584, 0.3803795790122799, 0.3054068814384896, 0.03269441035536811, 0.03269441035536811, 0.03269441035536811, 0.03269441035536811, 0.03269441035536811, 0.03269441035536811, 0.03269441035536811, 0.03269441035536811, 0.03269441035536811, 0.03269441035536811, 0.03269441035536811, 0.03269441035536811, 0.03269441035536811, 0.03269441035536811, 0.03269441035536811, 0.03269441035536811, 0.03269441035536811, 0.032694421242017664, 0.0326944130770305, 0.0326944130770305, 0.0326944130770305, 0.0326944130770305, 0.0326944130770305, 0.0326944130770305, 0.0326944130770305, 0.0326944130770305, 0.0326944130770305, 0.0326944130770305, 0.0326944130770305, 0.0326944130770305, 0.0326944130770305, 0.0326944130770305, 0.0326944130770305, 0.0326944130770305, 0.6550237180772756, 0.6055323512981718, 0.5305640891146016, 0.6550176217650038, 0.5632882399056443, 0.5825246655741736, 0.4051003162366067, 0.5665981310483871, 0.3568418270092602, 0.03119419740215294, 0.03119419740215294, 0.03119419740215294, 0.03119419740215294, 0.03119419740215294, 0.03119419740215294, 0.03119419740215294, 0.03119419740215294, 0.03119419740215294, 0.03119419740215294, 0.03119419740215294, 0.03119419740215294, 0.03119419740215294, 0.03119419740215294, 0.03119419740215294, 0.03119419740215294, 0.03119419740215294, 0.03119419740215294, 0.03119419740215294, 0.03119419740215294, 0.03119419740215294, 0.031194207562673392, 0.031194202482413166, 0.031194202482413166, 0.031194202482413166, 0.031194202482413166, 0.031194202482413166, 0.031194202482413166, 0.031194202482413166, 0.031194202482413166, 0.031194199942283053, 0.031194199942283053, 0.031194199942283053, 0.031194199942283053, 0.031194199942283053, 0.031194199942283053, 0.031194199942283053, 0.031194199942283053, 0.031194199942283053, 0.031194199942283053, 0.031194199942283053, 0.031194199942283053], \"Total\": [9.0, 7.0, 7.0, 4.0, 4.0, 4.0, 4.0, 4.0, 4.0, 6.0, 2.0, 6.0, 2.0, 4.0, 3.0, 2.0, 1.0, 1.0, 3.0, 2.0, 5.0, 2.0, 1.0, 2.0, 2.0, 1.0, 2.0, 2.0, 1.0, 2.0, 1.2681915632132663, 1.2681911651782323, 1.2681820280400349, 1.2296806104614815, 1.2296731150405653, 1.1176421707414868, 1.1176357711423421, 2.102219317432822, 1.0950171769569401, 1.0832570807039374, 1.0832540562358486, 1.0326373472908297, 1.032637215792217, 1.6397072408027755, 1.0013386173558783, 1.0013327875840548, 1.001328185132615, 3.390789694771037, 3.390785670887569, 2.769780301628681, 1.4807861643290108, 1.9857935569865501, 2.3198944402048425, 2.9936629782844353, 4.4942283965490715, 4.1465816573002305, 9.639925673671131, 5.3085947081440255, 7.910285729695424, 6.102651591314496, 7.889797565451796, 1.5497177370785613, 1.3260267378965596, 1.2839805437931067, 1.1616893776662929, 1.1556511628513275, 1.1556510391647292, 1.1241487634610152, 1.1241455888383247, 1.0929740510985428, 0.998081280571747, 0.9980781471779229, 1.85810910737708, 4.558337252500585, 1.6677322986684862, 1.7630454642025388, 1.7630582385940938, 1.576512373359758, 2.1193654956545562, 5.3085947081440255, 2.4202885376965897, 2.6520844744793965, 2.980421457590068, 2.9698834582797415, 2.5701584054236504, 9.639925673671131, 4.011420647613898, 3.3937347407813436, 6.102651591314496, 6.330983265561134, 0.872517234692423, 7.910285729695424, 1.2544768924653014, 1.2544636719169506, 1.2167922515616556, 1.1417629669911316, 1.082984714791379, 1.6344522144914098, 0.9650876665357541, 0.9650808337938576, 1.5005041533288683, 2.9498647039589625, 1.6044873305501444, 2.1193654956545562, 4.1465816573002305, 7.910285729695424, 2.0257804799797055, 1.3883875087377686, 2.7385854850073237, 2.6520844744793965, 1.793824977719653, 4.355317772184114, 2.9777831751789106, 7.889797565451796, 3.5132694731374094, 9.639925673671131, 4.558337252500585, 0.872517234692423, 0.8725200238495741, 0.8725217311518303, 0.9024300412786358, 0.9024336338729889, 6.330983265561134, 6.102651591314496, 4.011420647613898, 5.3085947081440255, 3.3937347407813436, 1.3899343212235946, 1.2762841925212238, 2.2414785316198773, 1.8073038784230142, 2.7385854850073237, 4.727319450573701, 2.1193654956545562, 3.379776543505952, 2.8904571036783806, 5.3085947081440255, 3.5132694731374094, 4.1465816573002305, 7.889797565451796, 4.011420647613898, 7.910285729695424, 6.102651591314496, 0.872517234692423, 0.8725200238495741, 0.8725217311518303, 0.9024300412786358, 0.9024336338729889, 0.9024367474547618, 0.9556071696103231, 0.955610430088386, 0.9650808337938576, 0.9650876665357541, 0.9812315986835616, 0.9903045762630311, 0.9933167127601789, 0.993323305313445, 9.639925673671131, 6.330983265561134, 4.355317772184114, 4.558337252500585, 3.3937347407813436, 4.4942283965490715, 4.636093781264786, 1.2143493706279969, 1.0890675311333942, 1.0890633051377108, 2.980421457590068, 1.1552981772597586, 2.9698834582797415, 2.4202885376965897, 1.2404466604760462, 1.2404437230321328, 1.2232862600058039, 1.1688407737878566, 1.146811486594955, 1.143813971953464, 1.0050583744299024, 1.0050559877567227, 1.4807861643290108, 2.5701584054236504, 3.379776543505952, 3.3937347407813436, 2.6520844744793965, 1.7178717522394313, 2.980421457590068, 4.1465816573002305, 2.8904571036783806, 2.4202885376965897, 3.390785670887569, 3.390789694771037, 4.355317772184114, 6.102651591314496, 6.330983265561134, 4.636093781264786, 5.3085947081440255, 9.639925673671131, 0.872517234692423, 0.8725200238495741, 0.8725217311518303, 0.9024300412786358, 7.910285729695424, 7.889797565451796, 4.011420647613898, 4.727319450573701, 1.3312032583347182, 1.283822937403977, 1.7630582385940938, 1.7630454642025388, 1.081843251125513, 1.7268177643834681, 1.6129319108526035, 1.793824977719653, 2.0257804799797055, 4.355317772184114, 7.889797565451796, 2.9498647039589625, 6.102651591314496, 6.330983265561134, 4.636093781264786, 3.379776543505952, 4.558337252500585, 4.727319450573701, 0.872517234692423, 0.8725200238495741, 0.8725217311518303, 0.9024300412786358, 0.9024336338729889, 0.9024367474547618, 7.910285729695424, 0.9556071696103231, 0.955610430088386, 0.9650808337938576, 0.9650876665357541, 0.9812315986835616, 9.639925673671131, 5.3085947081440255, 3.3937347407813436, 4.4942283965490715, 1.2143493706279969, 2.980421457590068, 4.1465816573002305, 2.9698834582797415, 2.4202885376965897, 2.1286624701774297, 4.011420647613898, 1.1817783434970508, 1.1817780567438527, 1.0621792988942604, 0.955610430088386, 0.9556071696103231, 4.011420647613898, 2.9936629782844353, 1.812188332261184, 1.4923567922076864, 1.3638537788430318, 1.363853590153167, 1.5005041533288683, 2.102219317432822, 2.980421457590068, 1.5719205876867781, 1.5719384507040732, 2.2414785316198773, 2.5701584054236504, 2.387868941875975, 4.727319450573701, 3.379776543505952, 2.9777831751789106, 2.4202885376965897, 3.5132694731374094, 4.558337252500585, 3.390789694771037, 3.390785670887569, 4.355317772184114, 7.889797565451796, 4.636093781264786, 9.639925673671131, 1.2611906291430055, 1.2611854253763932, 1.2611780278397944, 1.1354300283147256, 1.1241481675778429, 1.078311231748813, 1.078304846348552, 2.9498647039589625, 2.476086014382561, 9.639925673671131, 2.0257804799797055, 1.9590751504879735, 3.3937347407813436, 3.5132694731374094, 2.387868941875975, 6.102651591314496, 2.9777831751789106, 6.330983265561134, 4.558337252500585, 7.910285729695424, 0.872517234692423, 0.8725200238495741, 0.8725217311518303, 0.9024300412786358, 0.9024336338729889, 0.9024367474547618, 0.9556071696103231, 0.955610430088386, 0.9650808337938576, 0.9650876665357541, 4.636093781264786, 7.889797565451796, 4.1465816573002305, 4.011420647613898, 4.4942283965490715, 4.355317772184114, 2.980421457590068, 3.379776543505952, 2.9698834582797415, 1.9497228807648272, 1.1271787179298902, 1.0102557504950642, 1.010245831155479, 2.7385854850073237, 2.387868941875975, 1.9590751504879735, 1.3949772018505955, 1.325023565912098, 2.9698834582797415, 7.910285729695424, 1.0793743810679486, 1.7178717522394313, 2.1304665794238002, 1.9857935569865501, 2.5701584054236504, 1.812188332261184, 2.769780301628681, 2.1286624701774297, 3.390789694771037, 3.390785670887569, 2.3198944402048425, 6.102651591314496, 2.8904571036783806, 2.980421457590068, 2.9777831751789106, 4.355317772184114, 3.379776543505952, 7.889797565451796, 5.3085947081440255, 4.727319450573701, 6.330983265561134, 1.7289714679239634, 1.2552489628759085, 1.164014071833444, 1.1591092355053259, 1.150876780814177, 1.1326206173905633, 2.1286624701774297, 1.325023565912098, 1.3182209893108652, 1.6129319108526035, 1.7178717522394313, 1.4252474470779755, 1.4252360114835592, 1.793824977719653, 1.865764586765831, 1.812188332261184, 4.4942283965490715, 4.355317772184114, 4.636093781264786, 2.8904571036783806, 2.9698834582797415, 9.639925673671131, 0.872517234692423, 0.8725200238495741, 0.8725217311518303, 0.9024300412786358, 0.9024336338729889, 0.9024367474547618, 0.9556071696103231, 0.955610430088386, 6.330983265561134, 6.102651591314496, 7.910285729695424, 7.889797565451796, 4.1465816573002305, 4.011420647613898, 4.558337252500585, 3.3937347407813436, 1.436711403261611, 1.436702232495532, 1.2459742469679296, 1.2024254220103416, 1.202417131420322, 1.5719384507040732, 1.5719205876867781, 1.8073038784230142, 1.7508870097505762, 2.9698834582797415, 3.5132694731374094, 6.102651591314496, 2.8904571036783806, 6.330983265561134, 3.390785670887569, 3.390789694771037, 5.3085947081440255, 0.872517234692423, 0.8725200238495741, 0.8725217311518303, 0.9024300412786358, 0.9024336338729889, 0.9024367474547618, 0.9556071696103231, 0.955610430088386, 0.9650808337938576, 0.9650876665357541, 0.9812315986835616, 0.9903045762630311, 0.9933167127601789, 7.910285729695424, 9.639925673671131, 7.889797565451796, 4.355317772184114, 2.980421457590068, 3.379776543505952, 4.1465816573002305, 2.4202885376965897, 1.9497228807648272, 2.1286624701774297, 4.011420647613898, 2.1193654956545562, 4.727319450573701, 2.1304665794238002, 1.2763993978871573, 1.1091787065112308, 1.1082574056442753, 1.0890675311333942, 1.0890633051377108, 1.6931433294899556, 0.993323305313445, 0.9933167127601789, 1.7508870097505762, 0.8725217311518303, 0.8725200238495741, 0.872517234692423, 1.4921898172849857, 2.6520844744793965, 4.4942283965490715, 2.769780301628681, 2.9698834582797415, 2.9936629782844353, 7.889797565451796, 5.3085947081440255, 6.102651591314496, 7.910285729695424, 6.330983265561134, 4.727319450573701, 4.011420647613898, 0.9024300412786358, 0.9024336338729889, 0.9024367474547618, 0.9556071696103231, 9.639925673671131, 4.1465816573002305, 4.558337252500585, 3.3937347407813436, 1.9497228807648272, 1.2950219676056993, 1.174786466172401, 1.1686090490521452, 1.1572799110883552, 1.1238283872927812, 1.0616710612551459, 1.0616667491173972, 2.4202885376965897, 1.4923567922076864, 1.3949772018505955, 1.363853590153167, 1.3638537788430318, 1.6397072408027755, 2.8904571036783806, 3.390789694771037, 3.390785670887569, 3.5132694731374094, 4.355317772184114, 4.727319450573701, 4.4942283965490715, 7.889797565451796, 4.636093781264786, 0.872517234692423, 0.8725200238495741, 0.8725217311518303, 0.9024300412786358, 0.9024336338729889, 0.9024367474547618, 0.9556071696103231, 9.639925673671131, 6.102651591314496, 7.910285729695424, 6.330983265561134, 2.980421457590068, 3.379776543505952, 4.1465816573002305, 1.747083011495622, 1.2143493706279969, 1.0451966105351147, 1.0451686916557157, 1.6044873305501444, 1.0793743810679486, 1.9590751504879735, 2.3198944402048425, 4.4942283965490715, 2.476086014382561, 9.639925673671131, 2.9777831751789106, 3.3937347407813436, 4.558337252500585, 4.1465816573002305, 6.330983265561134, 5.3085947081440255, 2.5701584054236504, 0.872517234692423, 0.8725200238495741, 0.8725217311518303, 0.9024300412786358, 0.9024336338729889, 0.9024367474547618, 0.9556071696103231, 0.955610430088386, 0.9650808337938576, 0.9650876665357541, 0.9812315986835616, 0.9903045762630311, 7.910285729695424, 6.102651591314496, 7.889797565451796, 4.355317772184114, 4.011420647613898, 4.636093781264786, 2.980421457590068, 3.379776543505952, 2.9698834582797415, 2.4202885376965897, 1.9497228807648272, 2.1286624701774297, 1.155309064031624, 1.1553029217554311, 1.1552981772597586, 1.1552948353953665, 1.0848080331137975, 1.0034372411623345, 1.003436141409098, 1.0034337169530996, 1.0034273683775985, 0.9812315986835616, 1.6931433294899556, 1.3182209893108652, 2.2414785316198773, 4.011420647613898, 2.6520844744793965, 3.3937347407813436, 4.558337252500585, 4.727319450573701, 5.3085947081440255, 4.636093781264786, 7.889797565451796, 0.872517234692423, 0.8725200238495741, 0.8725217311518303, 0.9024300412786358, 0.9024336338729889, 0.9024367474547618, 0.9556071696103231, 0.955610430088386, 0.9650808337938576, 6.330983265561134, 7.910285729695424, 9.639925673671131, 6.102651591314496, 4.355317772184114, 4.4942283965490715, 2.980421457590068, 3.379776543505952, 4.1465816573002305, 1.2140545456713174, 1.2140426260568236, 1.2140408722361904, 1.2140380400074748, 1.0713566516991557, 1.0449773154661988, 1.0449755132995402, 1.6677322986684862, 1.4252360114835592, 1.4252474470779755, 1.7268177643834681, 1.6344522144914098, 2.980421457590068, 4.011420647613898, 6.102651591314496, 6.330983265561134, 0.872517234692423, 0.8725200238495741, 0.8725217311518303, 0.9024300412786358, 0.9024336338729889, 0.9024367474547618, 0.9556071696103231, 0.955610430088386, 0.9650808337938576, 0.9650876665357541, 0.9812315986835616, 0.9903045762630311, 0.9933167127601789, 0.993323305313445, 9.639925673671131, 7.910285729695424, 7.889797565451796, 4.355317772184114, 3.379776543505952, 1.1552981772597586, 4.1465816573002305, 2.9698834582797415, 2.4202885376965897, 2.1286624701774297, 3.5132694731374094, 2.1193654956545562, 4.727319450573701, 4.558337252500585, 1.1709112414354539, 1.1709105456351236, 1.1709072080884162, 1.1708999803707925, 1.865764586765831, 1.0982840668266287, 0.9903045762630311, 2.769780301628681, 2.476086014382561, 1.9497228807648272, 4.636093781264786, 3.3937347407813436, 4.4942283965490715, 6.330983265561134, 0.872517234692423, 0.8725200238495741, 0.8725217311518303, 0.9024300412786358, 0.9024336338729889, 0.9024367474547618, 9.639925673671131, 0.9556071696103231, 0.955610430088386, 0.9650808337938576, 0.9650876665357541, 0.9812315986835616, 0.9933167127601789, 0.993323305313445, 0.9980781471779229, 0.998081280571747, 7.889797565451796, 7.910285729695424, 6.102651591314496, 4.355317772184114, 2.980421457590068, 3.379776543505952, 4.1465816573002305, 2.9698834582797415, 2.4202885376965897, 2.1286624701774297, 4.011420647613898, 3.5132694731374094, 2.1193654956545562, 4.727319450573701, 4.558337252500585, 1.2409874562614736, 1.2409802431336499, 1.2409766749495257, 1.2409692842676858, 1.1204459508384612, 1.0819536128776364, 1.4921898172849857, 2.1286624701774297, 4.636093781264786, 3.5132694731374094, 4.727319450573701, 7.910285729695424, 0.872517234692423, 0.8725200238495741, 0.8725217311518303, 0.9024300412786358, 0.9024336338729889, 0.9024367474547618, 0.9556071696103231, 0.955610430088386, 0.9650808337938576, 0.9650876665357541, 0.9812315986835616, 0.9903045762630311, 0.9933167127601789, 0.993323305313445, 0.9980781471779229, 0.998081280571747, 1.001328185132615, 1.0013327875840548, 7.889797565451796, 9.639925673671131, 6.330983265561134, 6.102651591314496, 4.355317772184114, 4.558337252500585, 3.3937347407813436, 4.4942283965490715, 1.2143493706279969, 1.0890675311333942, 1.0890633051377108, 2.980421457590068, 3.379776543505952, 1.1552981772597586, 4.1465816573002305, 2.9698834582797415, 2.4202885376965897, 1.9497228807648272, 1.3883875087377686, 0.9024367474547618, 0.9024336338729889, 0.9024300412786358, 2.3198944402048425, 2.387868941875975, 2.9777831751789106, 2.9936629782844353, 4.1465816573002305, 4.636093781264786, 4.727319450573701, 7.910285729695424, 7.889797565451796, 0.872517234692423, 0.8725200238495741, 0.8725217311518303, 0.9556071696103231, 0.955610430088386, 0.9650808337938576, 0.9650876665357541, 0.9812315986835616, 0.9903045762630311, 0.9933167127601789, 0.993323305313445, 0.9980781471779229, 0.998081280571747, 1.001328185132615, 1.0013327875840548, 1.0013386173558783, 1.0034273683775985, 9.639925673671131, 6.330983265561134, 6.102651591314496, 4.355317772184114, 2.980421457590068, 3.379776543505952, 1.1552981772597586, 2.9698834582797415, 2.4202885376965897, 4.011420647613898, 3.5132694731374094, 2.1193654956545562, 4.558337252500585, 2.2414785316198773, 5.3085947081440255, 2.8904571036783806, 2.102219317432822, 1.26061338061248, 1.2111220088116532, 1.136153746628083, 1.576512373359758, 1.85810910737708, 1.9857935569865501, 2.476086014382561, 7.910285729695424, 5.3085947081440255, 0.872517234692423, 0.8725200238495741, 0.8725217311518303, 0.9024300412786358, 0.9024336338729889, 0.9024367474547618, 0.9556071696103231, 0.955610430088386, 0.9650808337938576, 0.9650876665357541, 0.9812315986835616, 0.9903045762630311, 0.9933167127601789, 0.993323305313445, 0.9980781471779229, 0.998081280571747, 1.001328185132615, 1.0013327875840548, 1.0013386173558783, 1.0034273683775985, 1.0034337169530996, 9.639925673671131, 6.330983265561134, 6.102651591314496, 7.889797565451796, 4.1465816573002305, 4.558337252500585, 3.3937347407813436, 4.4942283965490715, 4.636093781264786, 4.355317772184114, 2.980421457590068, 3.379776543505952, 2.9698834582797415, 2.4202885376965897, 1.9497228807648272, 2.1286624701774297, 4.011420647613898, 3.5132694731374094, 2.1193654956545562, 4.727319450573701, 2.2414785316198773], \"Category\": [\"Default\", \"Default\", \"Default\", \"Default\", \"Default\", \"Default\", \"Default\", \"Default\", \"Default\", \"Default\", \"Default\", \"Default\", \"Default\", \"Default\", \"Default\", \"Default\", \"Default\", \"Default\", \"Default\", \"Default\", \"Default\", \"Default\", \"Default\", \"Default\", \"Default\", \"Default\", \"Default\", \"Default\", \"Default\", \"Default\", \"Topic1\", \"Topic1\", \"Topic1\", \"Topic1\", \"Topic1\", \"Topic1\", \"Topic1\", \"Topic1\", \"Topic1\", \"Topic1\", \"Topic1\", \"Topic1\", \"Topic1\", \"Topic1\", \"Topic1\", \"Topic1\", \"Topic1\", \"Topic1\", \"Topic1\", \"Topic1\", \"Topic1\", \"Topic1\", \"Topic1\", \"Topic1\", \"Topic1\", \"Topic1\", \"Topic1\", \"Topic1\", \"Topic1\", \"Topic1\", \"Topic1\", \"Topic2\", \"Topic2\", \"Topic2\", \"Topic2\", \"Topic2\", \"Topic2\", \"Topic2\", \"Topic2\", \"Topic2\", \"Topic2\", \"Topic2\", \"Topic2\", \"Topic2\", \"Topic2\", \"Topic2\", \"Topic2\", \"Topic2\", \"Topic2\", \"Topic2\", \"Topic2\", \"Topic2\", \"Topic2\", \"Topic2\", \"Topic2\", \"Topic2\", \"Topic2\", \"Topic2\", \"Topic2\", \"Topic2\", \"Topic2\", \"Topic2\", \"Topic3\", \"Topic3\", \"Topic3\", \"Topic3\", \"Topic3\", \"Topic3\", \"Topic3\", \"Topic3\", \"Topic3\", \"Topic3\", \"Topic3\", \"Topic3\", \"Topic3\", \"Topic3\", \"Topic3\", \"Topic3\", \"Topic3\", \"Topic3\", \"Topic3\", \"Topic3\", \"Topic3\", \"Topic3\", \"Topic3\", \"Topic3\", \"Topic3\", \"Topic3\", \"Topic3\", \"Topic3\", \"Topic3\", \"Topic3\", \"Topic3\", \"Topic3\", \"Topic3\", \"Topic3\", \"Topic3\", \"Topic4\", \"Topic4\", \"Topic4\", \"Topic4\", \"Topic4\", \"Topic4\", \"Topic4\", \"Topic4\", \"Topic4\", \"Topic4\", \"Topic4\", \"Topic4\", \"Topic4\", \"Topic4\", \"Topic4\", \"Topic4\", \"Topic4\", \"Topic4\", \"Topic4\", \"Topic4\", \"Topic4\", \"Topic4\", \"Topic4\", \"Topic4\", \"Topic4\", \"Topic4\", \"Topic4\", \"Topic4\", \"Topic4\", \"Topic4\", \"Topic4\", \"Topic4\", \"Topic4\", \"Topic4\", \"Topic4\", \"Topic4\", \"Topic4\", \"Topic4\", \"Topic4\", \"Topic4\", \"Topic4\", \"Topic4\", \"Topic4\", \"Topic4\", \"Topic5\", \"Topic5\", \"Topic5\", \"Topic5\", \"Topic5\", \"Topic5\", \"Topic5\", \"Topic5\", \"Topic5\", \"Topic5\", \"Topic5\", \"Topic5\", \"Topic5\", \"Topic5\", \"Topic5\", \"Topic5\", \"Topic5\", \"Topic5\", \"Topic5\", \"Topic5\", \"Topic5\", \"Topic5\", \"Topic5\", \"Topic5\", \"Topic5\", \"Topic5\", \"Topic5\", \"Topic5\", \"Topic5\", \"Topic5\", \"Topic5\", \"Topic5\", \"Topic5\", \"Topic5\", \"Topic6\", \"Topic6\", \"Topic6\", \"Topic6\", \"Topic6\", \"Topic6\", \"Topic6\", \"Topic6\", \"Topic6\", \"Topic6\", \"Topic6\", \"Topic6\", \"Topic6\", \"Topic6\", \"Topic6\", \"Topic6\", \"Topic6\", \"Topic6\", \"Topic6\", \"Topic6\", \"Topic6\", \"Topic6\", \"Topic6\", \"Topic6\", \"Topic6\", \"Topic6\", \"Topic6\", \"Topic6\", \"Topic6\", \"Topic6\", \"Topic6\", \"Topic6\", \"Topic6\", \"Topic6\", \"Topic6\", \"Topic6\", \"Topic6\", \"Topic6\", \"Topic6\", \"Topic6\", \"Topic6\", \"Topic7\", \"Topic7\", \"Topic7\", \"Topic7\", \"Topic7\", \"Topic7\", \"Topic7\", \"Topic7\", \"Topic7\", \"Topic7\", \"Topic7\", \"Topic7\", \"Topic7\", \"Topic7\", \"Topic7\", \"Topic7\", \"Topic7\", \"Topic7\", \"Topic7\", \"Topic7\", \"Topic7\", \"Topic7\", \"Topic7\", \"Topic7\", \"Topic7\", \"Topic7\", \"Topic7\", \"Topic7\", \"Topic7\", \"Topic7\", \"Topic7\", \"Topic8\", \"Topic8\", \"Topic8\", \"Topic8\", \"Topic8\", \"Topic8\", \"Topic8\", \"Topic8\", \"Topic8\", \"Topic8\", \"Topic8\", \"Topic8\", \"Topic8\", \"Topic8\", \"Topic8\", \"Topic8\", \"Topic8\", \"Topic8\", \"Topic8\", \"Topic8\", \"Topic8\", \"Topic8\", \"Topic8\", \"Topic8\", \"Topic8\", \"Topic8\", \"Topic8\", \"Topic8\", \"Topic8\", \"Topic8\", \"Topic8\", \"Topic8\", \"Topic8\", \"Topic8\", \"Topic8\", \"Topic8\", \"Topic8\", \"Topic8\", \"Topic8\", \"Topic8\", \"Topic9\", \"Topic9\", \"Topic9\", \"Topic9\", \"Topic9\", \"Topic9\", \"Topic9\", \"Topic9\", \"Topic9\", \"Topic9\", \"Topic9\", \"Topic9\", \"Topic9\", \"Topic9\", \"Topic9\", \"Topic9\", \"Topic9\", \"Topic9\", \"Topic9\", \"Topic9\", \"Topic9\", \"Topic9\", \"Topic9\", \"Topic9\", \"Topic9\", \"Topic9\", \"Topic9\", \"Topic9\", \"Topic9\", \"Topic9\", \"Topic9\", \"Topic10\", \"Topic10\", \"Topic10\", \"Topic10\", \"Topic10\", \"Topic10\", \"Topic10\", \"Topic10\", \"Topic10\", \"Topic10\", \"Topic10\", \"Topic10\", \"Topic10\", \"Topic10\", \"Topic10\", \"Topic10\", \"Topic10\", \"Topic10\", \"Topic10\", \"Topic10\", \"Topic10\", \"Topic10\", \"Topic10\", \"Topic10\", \"Topic10\", \"Topic10\", \"Topic10\", \"Topic10\", \"Topic10\", \"Topic10\", \"Topic10\", \"Topic10\", \"Topic10\", \"Topic10\", \"Topic10\", \"Topic10\", \"Topic10\", \"Topic10\", \"Topic11\", \"Topic11\", \"Topic11\", \"Topic11\", \"Topic11\", \"Topic11\", \"Topic11\", \"Topic11\", \"Topic11\", \"Topic11\", \"Topic11\", \"Topic11\", \"Topic11\", \"Topic11\", \"Topic11\", \"Topic11\", \"Topic11\", \"Topic11\", \"Topic11\", \"Topic11\", \"Topic11\", \"Topic11\", \"Topic11\", \"Topic11\", \"Topic11\", \"Topic11\", \"Topic11\", \"Topic11\", \"Topic11\", \"Topic11\", \"Topic11\", \"Topic11\", \"Topic11\", \"Topic11\", \"Topic11\", \"Topic11\", \"Topic11\", \"Topic11\", \"Topic11\", \"Topic11\", \"Topic11\", \"Topic11\", \"Topic11\", \"Topic12\", \"Topic12\", \"Topic12\", \"Topic12\", \"Topic12\", \"Topic12\", \"Topic12\", \"Topic12\", \"Topic12\", \"Topic12\", \"Topic12\", \"Topic12\", \"Topic12\", \"Topic12\", \"Topic12\", \"Topic12\", \"Topic12\", \"Topic12\", \"Topic12\", \"Topic12\", \"Topic12\", \"Topic12\", \"Topic12\", \"Topic12\", \"Topic12\", \"Topic12\", \"Topic12\", \"Topic12\", \"Topic12\", \"Topic12\", \"Topic12\", \"Topic12\", \"Topic12\", \"Topic12\", \"Topic13\", \"Topic13\", \"Topic13\", \"Topic13\", \"Topic13\", \"Topic13\", \"Topic13\", \"Topic13\", \"Topic13\", \"Topic13\", \"Topic13\", \"Topic13\", \"Topic13\", \"Topic13\", \"Topic13\", \"Topic13\", \"Topic13\", \"Topic13\", \"Topic13\", \"Topic13\", \"Topic13\", \"Topic13\", \"Topic13\", \"Topic13\", \"Topic13\", \"Topic13\", \"Topic13\", \"Topic13\", \"Topic13\", \"Topic13\", \"Topic13\", \"Topic13\", \"Topic13\", \"Topic13\", \"Topic13\", \"Topic13\", \"Topic13\", \"Topic14\", \"Topic14\", \"Topic14\", \"Topic14\", \"Topic14\", \"Topic14\", \"Topic14\", \"Topic14\", \"Topic14\", \"Topic14\", \"Topic14\", \"Topic14\", \"Topic14\", \"Topic14\", \"Topic14\", \"Topic14\", \"Topic14\", \"Topic14\", \"Topic14\", \"Topic14\", \"Topic14\", \"Topic14\", \"Topic14\", \"Topic14\", \"Topic14\", \"Topic14\", \"Topic14\", \"Topic14\", \"Topic14\", \"Topic14\", \"Topic14\", \"Topic14\", \"Topic14\", \"Topic14\", \"Topic14\", \"Topic14\", \"Topic14\", \"Topic14\", \"Topic14\", \"Topic14\", \"Topic14\", \"Topic14\", \"Topic15\", \"Topic15\", \"Topic15\", \"Topic15\", \"Topic15\", \"Topic15\", \"Topic15\", \"Topic15\", \"Topic15\", \"Topic15\", \"Topic15\", \"Topic15\", \"Topic15\", \"Topic15\", \"Topic15\", \"Topic15\", \"Topic15\", \"Topic15\", \"Topic15\", \"Topic15\", \"Topic15\", \"Topic15\", \"Topic15\", \"Topic15\", \"Topic15\", \"Topic15\", \"Topic15\", \"Topic15\", \"Topic15\", \"Topic15\", \"Topic15\", \"Topic15\", \"Topic15\", \"Topic15\", \"Topic15\", \"Topic15\", \"Topic15\", \"Topic15\", \"Topic15\", \"Topic16\", \"Topic16\", \"Topic16\", \"Topic16\", \"Topic16\", \"Topic16\", \"Topic16\", \"Topic16\", \"Topic16\", \"Topic16\", \"Topic16\", \"Topic16\", \"Topic16\", \"Topic16\", \"Topic16\", \"Topic16\", \"Topic16\", \"Topic16\", \"Topic16\", \"Topic16\", \"Topic16\", \"Topic16\", \"Topic16\", \"Topic16\", \"Topic16\", \"Topic16\", \"Topic16\", \"Topic16\", \"Topic16\", \"Topic16\", \"Topic16\", \"Topic16\", \"Topic16\", \"Topic16\", \"Topic16\", \"Topic16\", \"Topic16\", \"Topic16\", \"Topic16\", \"Topic16\", \"Topic16\", \"Topic16\", \"Topic16\", \"Topic16\", \"Topic17\", \"Topic17\", \"Topic17\", \"Topic17\", \"Topic17\", \"Topic17\", \"Topic17\", \"Topic17\", \"Topic17\", \"Topic17\", \"Topic17\", \"Topic17\", \"Topic17\", \"Topic17\", \"Topic17\", \"Topic17\", \"Topic17\", \"Topic17\", \"Topic17\", \"Topic17\", \"Topic17\", \"Topic17\", \"Topic17\", \"Topic17\", \"Topic17\", \"Topic17\", \"Topic17\", \"Topic17\", \"Topic17\", \"Topic17\", \"Topic17\", \"Topic17\", \"Topic17\", \"Topic17\", \"Topic17\", \"Topic17\", \"Topic17\", \"Topic17\", \"Topic17\", \"Topic17\", \"Topic17\", \"Topic17\", \"Topic17\", \"Topic17\", \"Topic17\", \"Topic18\", \"Topic18\", \"Topic18\", \"Topic18\", \"Topic18\", \"Topic18\", \"Topic18\", \"Topic18\", \"Topic18\", \"Topic18\", \"Topic18\", \"Topic18\", \"Topic18\", \"Topic18\", \"Topic18\", \"Topic18\", \"Topic18\", \"Topic18\", \"Topic18\", \"Topic18\", \"Topic18\", \"Topic18\", \"Topic18\", \"Topic18\", \"Topic18\", \"Topic18\", \"Topic18\", \"Topic18\", \"Topic18\", \"Topic18\", \"Topic18\", \"Topic18\", \"Topic18\", \"Topic18\", \"Topic18\", \"Topic18\", \"Topic18\", \"Topic18\", \"Topic18\", \"Topic18\", \"Topic18\", \"Topic18\", \"Topic18\", \"Topic18\", \"Topic18\", \"Topic18\", \"Topic18\", \"Topic18\", \"Topic19\", \"Topic19\", \"Topic19\", \"Topic19\", \"Topic19\", \"Topic19\", \"Topic19\", \"Topic19\", \"Topic19\", \"Topic19\", \"Topic19\", \"Topic19\", \"Topic19\", \"Topic19\", \"Topic19\", \"Topic19\", \"Topic19\", \"Topic19\", \"Topic19\", \"Topic19\", \"Topic19\", \"Topic19\", \"Topic19\", \"Topic19\", \"Topic19\", \"Topic19\", \"Topic19\", \"Topic19\", \"Topic19\", \"Topic19\", \"Topic19\", \"Topic19\", \"Topic19\", \"Topic19\", \"Topic19\", \"Topic19\", \"Topic19\", \"Topic19\", \"Topic19\", \"Topic19\", \"Topic19\", \"Topic19\", \"Topic19\", \"Topic19\", \"Topic19\", \"Topic19\", \"Topic19\", \"Topic20\", \"Topic20\", \"Topic20\", \"Topic20\", \"Topic20\", \"Topic20\", \"Topic20\", \"Topic20\", \"Topic20\", \"Topic20\", \"Topic20\", \"Topic20\", \"Topic20\", \"Topic20\", \"Topic20\", \"Topic20\", \"Topic20\", \"Topic20\", \"Topic20\", \"Topic20\", \"Topic20\", \"Topic20\", \"Topic20\", \"Topic20\", \"Topic20\", \"Topic20\", \"Topic20\", \"Topic20\", \"Topic20\", \"Topic20\", \"Topic20\", \"Topic20\", \"Topic20\", \"Topic20\", \"Topic20\", \"Topic20\", \"Topic20\", \"Topic20\", \"Topic20\", \"Topic20\", \"Topic20\", \"Topic20\", \"Topic20\", \"Topic20\", \"Topic20\", \"Topic20\", \"Topic20\", \"Topic20\", \"Topic20\", \"Topic20\", \"Topic20\"], \"logprob\": [30.0, 29.0, 28.0, 27.0, 26.0, 25.0, 24.0, 23.0, 22.0, 21.0, 20.0, 19.0, 18.0, 17.0, 16.0, 15.0, 14.0, 13.0, 12.0, 11.0, 10.0, 9.0, 8.0, 7.0, 6.0, 5.0, 4.0, 3.0, 2.0, 1.0, -3.5694, -3.5694, -3.5694, -3.6292, -3.6293, -3.827, -3.827, -3.2076, -3.8721, -3.8964, -3.8964, -4.0084, -4.0084, -3.5694, -4.0844, -4.0844, -4.0844, -3.1032, -3.1032, -3.3261, -3.9971, -3.8382, -3.7935, -3.7147, -3.4262, -3.8973, -3.0715, -4.0739, -4.1916, -4.5935, -4.4949, -3.1512, -3.4205, -3.4804, -3.6781, -3.6889, -3.6889, -3.7476, -3.7476, -3.8092, -4.0241, -4.0241, -3.4205, -2.6096, -3.8143, -4.0139, -4.0139, -4.1459, -3.8501, -3.0892, -3.9634, -3.9974, -4.0072, -4.041, -4.3757, -3.0781, -4.146, -4.4127, -3.9435, -3.9435, -6.465, -6.465, -3.4757, -3.4757, -3.5355, -3.6666, -3.7828, -3.4757, -4.0666, -4.0666, -3.7105, -3.0961, -3.9077, -3.6997, -3.0552, -2.4217, -3.8007, -4.1886, -3.6957, -3.7979, -4.2675, -3.3806, -3.7834, -2.832, -3.9338, -3.3321, -4.137, -6.5201, -6.5201, -6.5201, -6.5201, -6.5201, -6.5201, -6.5201, -6.5201, -6.5201, -6.5201, -3.2243, -3.3785, -3.1101, -3.5038, -3.1101, -2.6194, -3.5049, -3.2677, -3.5495, -3.1041, -3.7359, -3.5886, -2.9513, -3.6319, -3.0506, -3.8273, -6.1545, -6.1545, -6.1545, -6.1545, -6.1545, -6.1545, -6.1545, -6.1545, -6.1545, -6.1545, -6.1545, -6.1545, -6.1545, -6.1545, -6.1545, -6.1545, -6.1545, -6.1545, -6.1545, -6.1545, -6.1545, -6.1545, -6.1545, -6.1545, -6.1545, -6.1545, -6.1545, -6.1545, -3.4298, -3.4298, -3.457, -3.5487, -3.5883, -3.5938, -3.8896, -3.8896, -3.7189, -3.2196, -2.9703, -3.0888, -3.5963, -4.0903, -3.6181, -3.2911, -3.9506, -4.1994, -4.0166, -4.0166, -3.9315, -3.6181, -3.6181, -3.9315, -4.1594, -3.8791, -6.3355, -6.3355, -6.3355, -6.3355, -6.3355, -6.3355, -6.3355, -6.3355, -3.2916, -3.3588, -3.2043, -3.2043, -3.7101, -3.3684, -3.5794, -3.6613, -3.633, -2.9116, -2.4258, -3.7471, -3.0741, -3.0741, -3.4668, -3.9545, -3.723, -3.7453, -6.336, -6.336, -6.336, -6.336, -6.336, -6.336, -4.2111, -6.336, -6.336, -6.336, -6.336, -6.336, -4.1696, -6.336, -6.336, -6.336, -6.336, -6.336, -6.336, -6.336, -6.336, -6.336, -6.336, -3.515, -3.515, -3.7494, -4.0179, -4.0179, -2.6096, -2.9539, -3.5149, -3.8295, -3.9353, -3.9353, -3.8507, -3.5149, -3.1824, -3.8812, -3.8812, -3.9566, -3.842, -3.9784, -3.4653, -3.842, -4.0225, -4.3308, -4.0963, -3.842, -4.174, -4.174, -4.2238, -3.6627, -4.3055, -4.1647, -3.3745, -3.3746, -3.3746, -3.5875, -3.609, -3.7016, -3.7016, -2.9529, -3.3745, -2.0486, -3.6476, -3.8162, -3.3746, -3.3726, -3.8959, -3.2153, -3.9397, -3.2153, -3.806, -3.7355, -6.419, -6.419, -6.419, -6.419, -6.419, -6.419, -6.419, -6.419, -6.419, -6.419, -6.419, -6.419, -6.419, -6.419, -6.419, -6.419, -6.419, -6.419, -6.419, -6.419, -3.595, -3.8526, -3.8526, -3.1705, -3.3846, -3.595, -3.9617, -4.0564, -3.3294, -2.4181, -4.4124, -4.0413, -3.8489, -3.9895, -3.7364, -4.1373, -3.7403, -4.1035, -3.6778, -3.6778, -4.1053, -3.1599, -4.0082, -3.9938, -4.0248, -3.6638, -3.9938, -3.2646, -4.0946, -4.2363, -4.118, -2.7945, -3.341, -3.4919, -3.5007, -3.5156, -3.5496, -3.043, -3.7773, -3.7962, -3.6115, -3.5778, -3.7962, -3.7962, -3.6933, -3.7228, -3.8579, -2.9634, -3.2812, -3.2812, -3.8652, -4.0129, -3.3506, -6.3256, -6.3256, -6.3256, -6.3256, -6.3256, -6.3256, -6.3256, -6.3256, -6.3256, -6.3256, -6.3256, -6.3256, -6.3256, -6.3256, -6.3256, -6.3256, -3.0864, -3.0864, -3.344, -3.4134, -3.4134, -3.4134, -3.4134, -3.3406, -3.4591, -3.3774, -3.4524, -2.942, -3.6974, -2.942, -3.8119, -3.8119, -3.9073, -6.1308, -6.1308, -6.1308, -6.1308, -6.1308, -6.1308, -6.1308, -6.1308, -6.1308, -6.1308, -6.1308, -6.1308, -6.1308, -4.112, -6.1308, -6.1308, -6.1308, -6.1308, -6.1308, -6.1308, -6.1308, -6.1308, -6.1308, -6.1308, -6.1308, -6.1308, -2.7583, -3.2968, -3.5831, -3.585, -3.6238, -3.6238, -3.2968, -3.8441, -3.8441, -3.3971, -4.2165, -4.2165, -4.2165, -3.9666, -3.619, -3.1358, -3.6846, -3.6416, -3.9022, -3.0481, -3.7963, -3.8198, -3.5694, -3.8197, -4.3774, -4.6483, -6.3412, -6.3412, -6.3412, -6.3412, -6.3412, -6.3412, -6.3412, -6.3412, -2.8089, -3.2379, -3.4283, -3.4391, -3.4593, -3.5214, -3.6481, -3.6481, -2.9274, -3.5645, -3.646, -3.7544, -3.7544, -3.7713, -3.988, -3.8962, -3.8962, -3.8946, -4.0142, -4.0071, -4.1185, -3.5759, -4.1184, -6.2152, -6.2152, -6.2152, -6.2152, -6.2152, -6.2152, -6.2152, -4.2027, -6.2152, -6.2152, -6.2152, -6.2152, -6.2152, -6.2152, -2.6189, -3.2493, -3.5763, -3.5764, -3.2493, -4.0636, -3.5032, -3.5386, -2.9131, -3.5131, -2.2512, -3.6625, -3.6491, -3.3988, -3.4956, -3.2493, -3.6733, -4.5981, -6.2938, -6.2938, -6.2938, -6.2938, -6.2938, -6.2938, -6.2938, -6.2938, -6.2938, -6.2938, -6.2938, -6.2938, -6.2938, -6.2938, -6.2938, -6.2938, -6.2938, -6.2938, -6.2938, -6.2938, -6.2938, -6.2938, -6.2938, -6.2938, -3.2046, -3.2046, -3.2046, -3.2047, -3.3433, -3.5317, -3.5317, -3.5317, -3.5317, -3.5899, -3.4116, -3.7141, -3.4166, -2.8727, -3.9064, -3.6919, -3.6831, -3.6713, -3.5896, -3.845, -3.9845, -6.2491, -6.2491, -6.2491, -6.2491, -6.2491, -6.2491, -6.2491, -6.2491, -6.2491, -6.2491, -6.2491, -6.2491, -6.2491, -6.2491, -6.2491, -6.2491, -6.2491, -6.2491, -3.0713, -3.0714, -3.0714, -3.0714, -3.3398, -3.3984, -3.3984, -3.0713, -3.3984, -3.3984, -3.308, -3.4651, -3.4415, -3.6547, -3.6794, -3.6794, -6.1158, -6.1158, -6.1158, -6.1158, -6.1158, -6.1158, -6.1158, -6.1158, -6.1158, -6.1158, -6.1158, -6.1158, -6.1158, -6.1158, -4.0977, -6.1158, -6.1158, -6.1158, -6.1158, -6.1158, -6.1158, -6.1158, -6.1158, -6.1158, -6.1158, -6.1158, -6.1158, -6.1158, -3.1002, -3.1002, -3.1002, -3.1002, -2.6915, -3.2389, -3.4888, -3.2127, -3.364, -3.6936, -2.9174, -3.5, -3.4272, -3.1002, -6.1446, -6.1446, -6.1446, -6.1446, -6.1446, -6.1446, -3.8236, -6.1446, -6.1446, -6.1446, -6.1446, -6.1446, -6.1446, -6.1446, -6.1446, -6.1446, -6.1446, -6.1446, -6.1446, -6.1446, -6.1446, -6.1446, -6.1446, -6.1446, -6.1446, -6.1446, -6.1446, -6.1446, -6.1446, -6.1446, -6.1446, -2.9305, -2.9305, -2.9306, -2.9306, -3.1413, -3.2191, -3.0308, -3.4111, -2.9305, -3.6545, -3.7669, -3.7002, -5.975, -5.975, -5.975, -5.975, -5.975, -5.975, -5.975, -5.975, -5.975, -5.975, -5.975, -5.975, -5.975, -5.975, -5.975, -5.975, -5.975, -5.975, -4.0666, -5.975, -5.975, -5.975, -5.975, -5.975, -5.975, -5.975, -5.975, -5.975, -5.975, -5.975, -5.975, -5.975, -5.975, -5.975, -5.975, -5.975, -3.1574, -3.6682, -3.6682, -3.6682, -3.1366, -3.1885, -2.9924, -3.0793, -3.1809, -3.2615, -3.3326, -3.4253, -3.6448, -5.8792, -5.8792, -5.8792, -5.8792, -5.8792, -5.8792, -5.8792, -5.8792, -5.8792, -5.8792, -5.8792, -5.8792, -5.8792, -5.8792, -5.8792, -5.8792, -5.8792, -5.8792, -5.8792, -5.8792, -5.8792, -5.8792, -5.8792, -5.8792, -5.8792, -5.8792, -5.8792, -5.8792, -5.8792, -5.8792, -5.8792, -5.8792, -5.8792, -5.8792, -2.8127, -2.8913, -3.0235, -2.8128, -2.9636, -2.93, -3.2933, -2.9578, -3.4201, -5.8572, -5.8572, -5.8572, -5.8572, -5.8572, -5.8572, -5.8572, -5.8572, -5.8572, -5.8572, -5.8572, -5.8572, -5.8572, -5.8572, -5.8572, -5.8572, -5.8572, -5.8572, -5.8572, -5.8572, -5.8572, -5.8572, -5.8572, -5.8572, -5.8572, -5.8572, -5.8572, -5.8572, -5.8572, -5.8572, -5.8572, -5.8572, -5.8572, -5.8572, -5.8572, -5.8572, -5.8572, -5.8572, -5.8572, -5.8572, -5.8572, -5.8572], \"loglift\": [30.0, 29.0, 28.0, 27.0, 26.0, 25.0, 24.0, 23.0, 22.0, 21.0, 20.0, 19.0, 18.0, 17.0, 16.0, 15.0, 14.0, 13.0, 12.0, 11.0, 10.0, 9.0, 8.0, 7.0, 6.0, 5.0, 4.0, 3.0, 2.0, 1.0, 2.0359, 2.0359, 2.0359, 2.0069, 2.0069, 1.9047, 1.9046, 1.8923, 1.88, 1.8664, 1.8664, 1.8024, 1.8024, 1.7789, 1.7571, 1.7571, 1.7571, 1.5186, 1.5186, 1.498, 1.4531, 1.3186, 1.2078, 1.0317, 0.9138, 0.5233, 0.5055, 0.0997, -0.4169, -0.5594, -0.7176, 2.2536, 2.1402, 2.1125, 2.0149, 2.0092, 2.0092, 1.9783, 1.9783, 1.9448, 1.8207, 1.8207, 1.8028, 1.7163, 1.5171, 1.2619, 1.2619, 1.2417, 1.2417, 1.0843, 0.9956, 0.8701, 0.7436, 0.7133, 0.5232, 0.4988, 0.3077, 0.2083, 0.0907, 0.0539, -0.4857, -2.6903, 2.1405, 2.1405, 2.1111, 2.0437, 1.9804, 1.8759, 1.8118, 1.8118, 1.7265, 1.665, 1.4623, 1.392, 1.3653, 1.353, 1.3362, 1.3261, 1.1397, 1.0696, 0.991, 0.9908, 0.9683, 0.9453, 0.6525, 0.2449, 0.1889, -0.5409, -0.5409, -0.5409, -0.5746, -0.5746, -2.5227, -2.486, -2.0664, -2.3466, -1.8992, 2.2893, 2.2204, 1.9256, 1.7472, 1.7253, 1.6701, 1.5869, 1.3574, 1.2319, 1.0694, 0.8504, 0.832, 0.826, 0.8218, 0.7241, 0.2069, -0.1753, -0.1753, -0.1753, -0.209, -0.209, -0.209, -0.2663, -0.2663, -0.2761, -0.2761, -0.2927, -0.3019, -0.305, -0.305, -2.5776, -2.1571, -1.7831, -1.8286, -1.5336, -1.8145, -1.8455, -0.5059, -0.397, -0.397, -1.4037, -0.456, -1.4002, -1.1956, 2.1976, 2.1976, 2.1843, 2.1382, 2.1176, 2.1147, 1.9482, 1.9482, 1.7314, 1.6793, 1.6548, 1.5321, 1.2712, 1.2115, 1.1327, 1.1295, 0.8308, 0.7596, 0.6052, 0.6052, 0.44, 0.416, 0.3793, 0.3775, 0.0141, -0.3021, -0.3563, -0.3563, -0.3563, -0.39, -2.5608, -2.5583, -1.8818, -2.046, 2.2652, 2.2342, 2.0715, 2.0715, 2.054, 1.9282, 1.7854, 1.5972, 1.5039, 1.4598, 1.3515, 1.014, 0.96, 0.9233, 0.8422, 0.6705, 0.6029, 0.5442, -0.3568, -0.3568, -0.3568, -0.3905, -0.3905, -0.3905, -0.4364, -0.4478, -0.4478, -0.4576, -0.4576, -0.4742, -0.5927, -2.1625, -1.7151, -1.996, -0.6874, -1.5852, -1.9155, -1.5817, -1.3771, -1.2487, -1.8823, 2.1609, 2.1609, 2.0331, 1.8704, 1.8704, 1.8441, 1.7924, 1.7334, 1.613, 1.5973, 1.5972, 1.5863, 1.5849, 1.5684, 1.5094, 1.5094, 1.0791, 1.0569, 0.994, 0.8242, 0.7831, 0.7292, 0.6281, 0.49, 0.4839, 0.4478, 0.4478, 0.1476, 0.1146, 0.0035, -0.5878, 2.2362, 2.2362, 2.2362, 2.1283, 2.1168, 2.0659, 2.0659, 1.8082, 1.5616, 1.5283, 1.4893, 1.3542, 1.2463, 1.2137, 1.0766, 0.8189, 0.812, 0.7821, 0.5199, 0.0392, -0.4398, -0.4398, -0.4398, -0.4735, -0.4735, -0.4735, -0.5307, -0.5307, -0.5406, -0.5406, -2.11, -2.6417, -1.9984, -1.9653, -2.0789, -2.0475, -1.6682, -1.794, -1.6647, -1.2438, 2.1281, 1.9801, 1.98, 1.6649, 1.5878, 1.5754, 1.5483, 1.505, 1.425, 1.3566, 1.3541, 1.2604, 1.2376, 1.1674, 1.1624, 1.1111, 1.0838, 0.9839, 0.944, 0.944, 0.896, 0.8742, 0.7732, 0.757, 0.7268, 0.7076, 0.6313, 0.5127, 0.079, 0.0532, -0.1206, 2.5009, 2.2745, 2.1991, 2.1945, 2.1867, 2.1688, 2.0443, 1.7841, 1.7704, 1.7533, 1.724, 1.6923, 1.6923, 1.5652, 1.4964, 1.3904, 1.3766, 1.0903, 1.0278, 0.9162, 0.7414, 0.2263, -0.3464, -0.3464, -0.3464, -0.3801, -0.3801, -0.3801, -0.4373, -0.4373, -2.3282, -2.2915, -2.5509, -2.5483, -1.905, -1.8719, -1.9997, -1.7047, 2.3941, 2.3941, 2.279, 2.2451, 2.2451, 1.9771, 1.9771, 1.9104, 1.8236, 1.377, 1.1339, 1.0922, 1.0841, 1.0554, 0.8099, 0.8099, 0.2663, -0.1516, -0.1516, -0.1516, -0.1853, -0.1853, -0.1853, -0.2426, -0.2426, -0.2524, -0.2524, -0.269, -0.2782, -0.2813, -0.3374, -2.5539, -2.3535, -1.7594, -1.38, -1.5058, -1.7103, -1.1719, -0.9557, -1.0435, -1.6771, -1.0391, -1.8413, 2.3282, 2.302, 2.1561, 2.1551, 2.1337, 2.1337, 2.0195, 2.0054, 2.0054, 1.8857, 1.7627, 1.7627, 1.7627, 1.476, 1.2485, 1.2042, 1.1395, 1.1127, 0.8441, 0.7292, 0.3772, 0.2144, 0.2053, 0.1777, -0.0879, -0.1946, -0.3957, -0.3957, -0.3957, -0.453, -2.7643, -1.9207, -2.0153, -1.7203, 2.3663, 2.3464, 2.2535, 2.2479, 2.2375, 2.2047, 2.1349, 2.1349, 2.0316, 1.878, 1.864, 1.7781, 1.7781, 1.577, 0.7934, 0.7256, 0.7256, 0.6917, 0.3572, 0.2824, 0.2216, 0.2014, 0.1905, -0.2359, -0.2359, -0.2359, -0.2696, -0.2696, -0.2696, -0.3269, -0.6258, -2.181, -2.4405, -2.2178, -1.4644, -1.5901, -1.7946, 2.666, 2.3993, 2.2223, 2.2223, 2.1207, 1.7028, 1.6671, 1.4627, 1.4269, 1.423, 1.3257, 1.0892, 0.9719, 0.9271, 0.9249, 0.7481, 0.5002, 0.3008, -0.3145, -0.3145, -0.3145, -0.3482, -0.3482, -0.3482, -0.4055, -0.4055, -0.4154, -0.4154, -0.432, -0.4412, -2.5191, -2.2596, -2.5165, -1.9223, -1.84, -1.9848, -1.543, -1.6687, -1.5394, -1.3348, -1.1186, -1.2064, 2.4939, 2.4939, 2.4938, 2.4938, 2.4181, 2.3078, 2.3078, 2.3077, 2.3077, 2.2719, 1.9047, 1.8524, 1.6192, 1.581, 0.9611, 0.929, 0.6428, 0.6182, 0.584, 0.464, -0.2072, -0.2699, -0.2699, -0.2699, -0.3036, -0.3036, -0.3036, -0.3608, -0.3608, -0.3707, -2.2517, -2.4744, -2.6721, -2.215, -1.8776, -1.909, -1.4983, -1.624, -1.8285, 2.5776, 2.5775, 2.5775, 2.5775, 2.4342, 2.4005, 2.4005, 2.26, 2.0901, 2.0901, 1.9886, 1.8864, 1.3093, 0.799, 0.3547, 0.318, -0.1366, -0.1366, -0.1366, -0.1703, -0.1703, -0.1703, -0.2275, -0.2275, -0.2374, -0.2374, -0.254, -0.2632, -0.2662, -0.2662, -0.5208, -2.3411, -2.3385, -1.7443, -1.4907, -0.4173, -1.6952, -1.3615, -1.1568, -1.0284, -1.5295, -1.0241, -1.8263, -1.7899, 2.5849, 2.5849, 2.5849, 2.5849, 2.5277, 2.5102, 2.3637, 1.6114, 1.5721, 1.4816, 1.3915, 1.121, 0.9128, 0.8972, -0.1654, -0.1654, -0.1654, -0.1991, -0.1991, -0.1991, -0.2467, -0.2564, -0.2564, -0.2663, -0.2663, -0.2828, -0.2951, -0.2951, -0.2999, -0.2999, -2.3674, -2.37, -2.1105, -1.7732, -1.3939, -1.5196, -1.7241, -1.3903, -1.1857, -1.0573, -1.6909, -1.5583, -1.0529, -1.8552, -1.8188, 2.6964, 2.6964, 2.6964, 2.6964, 2.5879, 2.545, 2.4118, 1.6763, 1.3784, 0.9319, 0.5226, 0.0745, 0.0042, 0.0042, 0.0042, -0.0295, -0.0295, -0.0295, -0.0867, -0.0867, -0.0966, -0.0966, -0.1132, -0.1224, -0.1254, -0.1254, -0.1302, -0.1302, -0.1335, -0.1335, -0.2894, -2.398, -1.9776, -1.9409, -1.6035, -1.6491, -1.3541, -1.6349, -0.3263, -0.2175, -0.2175, -1.2242, -1.3499, -0.2765, -1.5544, -1.2207, -1.016, -0.7998, 2.3573, 2.2773, 2.2773, 2.2773, 1.8647, 1.784, 1.7593, 1.6671, 1.2397, 1.0475, 0.9569, 0.3494, 0.1325, 0.1, 0.1, 0.1, 0.009, 0.009, -0.0008, -0.0008, -0.0174, -0.0266, -0.0297, -0.0297, -0.0345, -0.0345, -0.0377, -0.0377, -0.0377, -0.0398, -2.3023, -1.8818, -1.8451, -1.5078, -1.1285, -1.2542, -0.1807, -1.1249, -0.9203, -1.4255, -1.2929, -0.7875, -1.5533, -0.8435, -1.7057, -1.0978, -0.7794, 2.7985, 2.76, 2.6917, 2.5749, 2.2597, 2.2268, 1.6429, 0.8169, 0.7534, 0.122, 0.122, 0.122, 0.0883, 0.0883, 0.0883, 0.0311, 0.0311, 0.0212, 0.0212, 0.0046, -0.0046, -0.0076, -0.0076, -0.0124, -0.0124, -0.0157, -0.0157, -0.0157, -0.0178, -0.0178, -2.2802, -1.8598, -1.8231, -2.0799, -1.4366, -1.5313, -1.2363, -1.5171, -1.5482, -1.4857, -1.1064, -1.2321, -1.1029, -0.8982, -0.682, -0.7698, -1.4035, -1.2709, -0.7654, -1.5677, -0.8215]}, \"token.table\": {\"Topic\": [8, 9, 9, 11, 1, 18, 4, 11, 10, 1, 1, 7, 12, 20, 12, 5, 3, 5, 8, 2, 1, 3, 4, 6, 9, 12, 16, 13, 1, 18, 5, 8, 9, 2, 20, 5, 2, 4, 3, 4, 9, 1, 5, 2, 8, 8, 3, 8, 1, 13, 4, 5, 6, 8, 11, 14, 17, 5, 1, 17, 1, 10, 4, 13, 12, 10, 16, 6, 5, 7, 13, 15, 1, 15, 6, 15, 16, 7, 5, 6, 8, 9, 11, 4, 7, 15, 15, 10, 1, 10, 12, 14, 11, 2, 11, 19, 1, 19, 11, 10, 6, 20, 1, 3, 4, 9, 12, 20, 16, 11, 17, 17, 4, 5, 13, 10, 17, 18, 8, 11, 3, 9, 18, 10, 7, 3, 6, 10, 2, 6, 8, 7, 6, 4, 2, 5, 5, 13, 20, 14, 10, 6, 4, 3, 4, 12, 1, 20, 16, 3, 4, 5, 3, 12, 1, 17, 2, 1, 7, 19, 20, 13, 3, 11, 2, 11, 2, 14, 6, 5, 2, 14, 8, 3, 13, 1, 2, 3, 8, 10, 14, 14, 11, 3, 11, 12, 18, 17, 4, 7, 6, 10, 17, 18, 6, 18], \"Freq\": [0.8807235805488259, 0.418783452669045, 0.336713549217596, 0.336713549217596, 0.8947407552960905, 0.8058099177025864, 0.5533103823539418, 0.5533103823539418, 0.8627314573712628, 0.8947458785950401, 0.475687760885565, 0.475687760885565, 0.4693807495776146, 0.6343115454710113, 0.5906174525113838, 0.3890810768277007, 0.6118257793857672, 0.8742680405382257, 0.8895624516781093, 0.8608153084853809, 0.7885303354641383, 0.12674596422839102, 0.12674596422839102, 0.25349192845678203, 0.12674596422839102, 0.12674596422839102, 0.5996166176060738, 0.8557181726524337, 0.8132242526641004, 0.8925017750759614, 0.2946606250580942, 0.2946606250580942, 0.8871707601404513, 0.5381815287540391, 0.5381815287540391, 0.8555485250221935, 0.1883737702684063, 0.1883737702684063, 0.36515201204220427, 0.36515201204220427, 0.36515201204220427, 0.609864965596185, 0.3770618958871209, 0.8653131145218117, 0.7929048178633653, 0.7929015462789414, 0.33899859836212737, 0.33899859836212737, 0.8132192957199792, 0.6700810457803936, 0.7194584555043396, 0.1579533475376146, 0.1579533475376146, 0.1579533475376146, 0.1579533475376146, 0.1579533475376146, 0.1579533475376146, 0.8061631345560816, 0.2949165504254386, 0.5359732986107472, 0.2949169004062238, 0.8829081729978507, 0.3459660407094107, 0.41317387758721896, 0.9015679746912583, 0.46977856471376006, 0.8236954973007293, 0.5671962378267349, 0.3355230172073005, 0.3355230172073005, 0.7721876732707859, 0.8655692499376316, 0.788524654214461, 0.8655774064942187, 0.751200084389036, 0.8655738518176209, 0.8236943073802705, 0.8461823704103912, 0.16386319701148178, 0.16386319701148178, 0.16386319701148178, 0.16386319701148178, 0.16386319701148178, 0.2492882417092875, 0.2492882417092875, 0.2492882417092875, 0.8655799103072929, 0.8689027502080278, 0.22250760570331893, 0.22250760570331893, 0.22250760570331893, 0.22250760570331893, 0.8025848065748499, 0.6452787988896239, 0.8316524099499614, 0.33582028682794146, 0.43105409568191466, 0.43105409568191466, 0.6361644524750385, 0.8590961434210974, 0.6199889736643596, 0.825680643836367, 0.7885244067278456, 0.25283536756351876, 0.12641768378175938, 0.25283536756351876, 0.12641768378175938, 0.12641768378175938, 0.8236862203312662, 0.6361572233010133, 0.8540362060344938, 0.8540356985334526, 0.29587754904135394, 0.29587754904135394, 0.8640951859775718, 0.578378543863847, 0.854043912173717, 0.8058169183886338, 0.28463515470305867, 0.28463515470305867, 0.6664426738050009, 0.5104449412014217, 0.6701560273474344, 0.7966547111968083, 0.8461825757327861, 0.2296043715539309, 0.2296043715539309, 0.2296043715539309, 0.7541326063954585, 0.5672003475261033, 0.7929094687074809, 0.5518190257588932, 0.5574679873569496, 0.7835245518668998, 0.8653130219094048, 0.8174701479891187, 0.8061612255187418, 0.851218522509987, 0.8801625686381223, 0.5723826477735204, 0.5821156315635274, 0.49363690186708586, 0.4461340967104055, 0.4718393321257477, 0.4718393321257477, 0.7834538324409387, 0.503577019112452, 0.503577019112452, 0.8236974188995289, 0.2411625002583654, 0.2411625002583654, 0.2411625002583654, 0.8218329782397775, 0.9023174534246935, 0.36103946562548006, 0.36103946562548006, 0.8895619801432797, 0.33403893733324164, 0.33403893733324164, 0.33403893733324164, 0.793264624491088, 0.512893401347234, 0.8758385312104516, 0.6960384534678516, 0.7788280008089704, 0.8316581441406924, 0.43875647834149445, 0.21937823917074722, 0.5790999030850448, 0.8719828949125205, 0.8895644922944412, 0.6232520388036479, 0.4038631914204164, 0.7971534149505471, 0.8898155726506655, 0.10373523965347903, 0.10373523965347903, 0.10373523965347903, 0.20747047930695806, 0.10373523965347903, 0.20747047930695806, 0.8234862422523868, 0.6960340105394917, 0.7971450139944765, 0.5711390823228826, 0.5711390823228826, 0.8058217174892566, 0.8540386403740451, 0.21153637076052506, 0.21153637076052506, 0.21569882905327836, 0.21569882905327836, 0.21569882905327836, 0.21569882905327836, 0.7789236123340371, 0.8058146014273839], \"Term\": [\"2013\", \"365\", \"account\", \"account\", \"acsm\", \"activex\", \"adblock\", \"adblock\", \"antivirus\", \"apk\", \"app\", \"app\", \"apps\", \"background\", \"backgrounds\", \"bing\", \"bluetooth\", \"browser\", \"business\", \"checker\", \"cmd\", \"com\", \"com\", \"com\", \"com\", \"com\", \"cookies\", \"csrss\", \"defender\", \"delete\", \"desktop\", \"desktop\", \"direct\", \"directx\", \"directx\", \"dmp\", \"download\", \"download\", \"downloads\", \"downloads\", \"downloads\", \"drive\", \"email\", \"enable\", \"encarta\", \"enternet\", \"essentials\", \"essentials\", \"event\", \"exe\", \"explore\", \"explorer\", \"explorer\", \"explorer\", \"explorer\", \"explorer\", \"explorer\", \"express\", \"extension\", \"favorites\", \"file\", \"framework\", \"free\", \"google\", \"help\", \"history\", \"homail\", \"home\", \"homepage\", \"homepage\", \"honda\", \"hormail\", \"hotail\", \"hotm\", \"hotmil\", \"ie11\", \"ie9\", \"iexplorer\", \"internet\", \"internet\", \"internet\", \"internet\", \"internet\", \"java\", \"java\", \"java\", \"javascript\", \"list\", \"live\", \"live\", \"live\", \"live\", \"lnk\", \"log\", \"logging\", \"login\", \"mail\", \"mail\", \"maker\", \"manage\", \"media\", \"messenger\", \"meta\", \"microsoft\", \"microsoft\", \"microsoft\", \"microsoft\", \"microsoft\", \"miracast\", \"movie\", \"msconfig\", \"mse\", \"msn\", \"msn\", \"myaccount\", \"net\", \"notepad\", \"nslookup\", \"office\", \"office\", \"office365\", \"onedrive\", \"online\", \"openoffice\", \"otmail\", \"outlook\", \"outlook\", \"outlook\", \"outlook365\", \"page\", \"paint\", \"password\", \"player\", \"plus\", \"pof\", \"remote\", \"rewards\", \"rtc\", \"screensavers\", \"screenshot\", \"search\", \"security\", \"settings\", \"setup\", \"setup\", \"sharepoint\", \"sign\", \"sign\", \"skydrive\", \"skype\", \"skype\", \"skype\", \"sp1\", \"ssv\", \"store\", \"store\", \"studio\", \"support\", \"support\", \"support\", \"theme\", \"toolbar\", \"troubleshooter\", \"trovi\", \"tutorial\", \"ultipro\", \"update\", \"update\", \"updates\", \"version\", \"visual\", \"w2express\", \"wallpaper\", \"wallpapers\", \"web\", \"windows\", \"windows\", \"windows\", \"windows\", \"windows\", \"windows\", \"windowsmedia\", \"windowsonecare\", \"windowsupgradeoffer\", \"word\", \"word\", \"wordpad\", \"wot\", \"www\", \"www\", \"xbox\", \"xbox\", \"xbox\", \"xbox\", \"xboxie\", \"zune\"]}, \"R\": 30, \"lambda.step\": 0.01, \"plot.opts\": {\"xlab\": \"PC1\", \"ylab\": \"PC2\"}, \"topic.order\": [15, 8, 2, 20, 10, 19, 9, 17, 7, 18, 14, 3, 11, 1, 16, 12, 13, 6, 4, 5]};\n",
              "\n",
              "function LDAvis_load_lib(url, callback){\n",
              "  var s = document.createElement('script');\n",
              "  s.src = url;\n",
              "  s.async = true;\n",
              "  s.onreadystatechange = s.onload = callback;\n",
              "  s.onerror = function(){console.warn(\"failed to load library \" + url);};\n",
              "  document.getElementsByTagName(\"head\")[0].appendChild(s);\n",
              "}\n",
              "\n",
              "if(typeof(LDAvis) !== \"undefined\"){\n",
              "   // already loaded: just create the visualization\n",
              "   !function(LDAvis){\n",
              "       new LDAvis(\"#\" + \"ldavis_el2351336087832320484146997198\", ldavis_el2351336087832320484146997198_data);\n",
              "   }(LDAvis);\n",
              "}else if(typeof define === \"function\" && define.amd){\n",
              "   // require.js is available: use it to load d3/LDAvis\n",
              "   require.config({paths: {d3: \"https://d3js.org/d3.v5\"}});\n",
              "   require([\"d3\"], function(d3){\n",
              "      window.d3 = d3;\n",
              "      LDAvis_load_lib(\"https://cdn.jsdelivr.net/gh/bmabey/pyLDAvis@3.4.0/pyLDAvis/js/ldavis.v3.0.0.js\", function(){\n",
              "        new LDAvis(\"#\" + \"ldavis_el2351336087832320484146997198\", ldavis_el2351336087832320484146997198_data);\n",
              "      });\n",
              "    });\n",
              "}else{\n",
              "    // require.js not available: dynamically load d3 & LDAvis\n",
              "    LDAvis_load_lib(\"https://d3js.org/d3.v5.js\", function(){\n",
              "         LDAvis_load_lib(\"https://cdn.jsdelivr.net/gh/bmabey/pyLDAvis@3.4.0/pyLDAvis/js/ldavis.v3.0.0.js\", function(){\n",
              "                 new LDAvis(\"#\" + \"ldavis_el2351336087832320484146997198\", ldavis_el2351336087832320484146997198_data);\n",
              "            })\n",
              "         });\n",
              "}\n",
              "</script>"
            ],
            "text/plain": [
              "PreparedData(topic_coordinates=              x         y  topics  cluster      Freq\n",
              "topic                                               \n",
              "14    -0.025952  0.002916       1        1  6.825769\n",
              "7     -0.084587  0.013373       2        1  6.420266\n",
              "1      0.044758  0.153243       3        1  6.080071\n",
              "19     0.120393  0.034161       4        1  5.801025\n",
              "9     -0.029249 -0.005755       5        1  5.717830\n",
              "18     0.020307  0.050408       6        1  5.686163\n",
              "8      0.091035 -0.034451       7        1  5.579452\n",
              "16    -0.117450  0.123358       8        1  5.555034\n",
              "6      0.096050  0.072669       9        1  5.438963\n",
              "17    -0.048143 -0.094249      10        1  5.337110\n",
              "13     0.013750 -0.000265      11        1  5.334844\n",
              "2      0.051215 -0.016363      12        1  5.264664\n",
              "10     0.039833 -0.073863      13        1  5.125934\n",
              "0     -0.141885  0.049740      14        1  4.533473\n",
              "15     0.039228 -0.090904      15        1  3.892192\n",
              "11    -0.049270 -0.042602      16        1  3.792407\n",
              "12    -0.117253 -0.086075      17        1  3.611728\n",
              "5      0.052135 -0.059529      18        1  3.448036\n",
              "3      0.052517  0.008354      19        1  3.390595\n",
              "4     -0.007431 -0.004167      20        1  3.164445, topic_info=         Term      Freq     Total Category  logprob  loglift\n",
              "21    windows  9.000000  9.000000  Default  30.0000  30.0000\n",
              "3   microsoft  7.000000  7.000000  Default  29.0000  29.0000\n",
              "4         com  7.000000  7.000000  Default  28.0000  28.0000\n",
              "22       java  4.000000  4.000000  Default  27.0000  27.0000\n",
              "51       live  4.000000  4.000000  Default  26.0000  26.0000\n",
              "..        ...       ...       ...      ...      ...      ...\n",
              "22       java  0.031194  4.011421  Topic20  -5.8572  -1.4035\n",
              "23     office  0.031194  3.513269  Topic20  -5.8572  -1.2709\n",
              "24      setup  0.031194  2.119365  Topic20  -5.8572  -0.7654\n",
              "25        www  0.031194  4.727319  Topic20  -5.8572  -1.5677\n",
              "29   settings  0.031194  2.241479  Topic20  -5.8572  -0.8215\n",
              "\n",
              "[816 rows x 6 columns], token_table=      Topic      Freq     Term\n",
              "term                          \n",
              "162       8  0.880724     2013\n",
              "79        9  0.418783      365\n",
              "12        9  0.336714  account\n",
              "12       11  0.336714  account\n",
              "149       1  0.894741     acsm\n",
              "...     ...       ...      ...\n",
              "55       10  0.215699     xbox\n",
              "55       17  0.215699     xbox\n",
              "55       18  0.215699     xbox\n",
              "143       6  0.778924   xboxie\n",
              "156      18  0.805815     zune\n",
              "\n",
              "[196 rows x 3 columns], R=30, lambda_step=0.01, plot_opts={'xlab': 'PC1', 'ylab': 'PC2'}, topic_order=[15, 8, 2, 20, 10, 19, 9, 17, 7, 18, 14, 3, 11, 1, 16, 12, 13, 6, 4, 5])"
            ]
          },
          "execution_count": 36,
          "metadata": {},
          "output_type": "execute_result"
        }
      ],
      "source": [
        "vis_tfidf = pyLDAvis.gensim_models.prepare(lda_tfidf, dataset_corpus_tfidf, dataset_dictionary)\n",
        "vis_tfidf"
      ]
    },
    {
      "cell_type": "markdown",
      "metadata": {
        "id": "5MjWRQogfl90"
      },
      "source": [
        "# Model evaluation for Topic Modelling"
      ]
    },
    {
      "cell_type": "code",
      "execution_count": 36,
      "metadata": {
        "colab": {
          "base_uri": "https://localhost:8080/"
        },
        "id": "OyyuCgbVfl90",
        "outputId": "4680ae52-567a-4632-c2f0-a573dbed74bc"
      },
      "outputs": [
        {
          "name": "stderr",
          "output_type": "stream",
          "text": [
            "/usr/local/lib/python3.10/dist-packages/ipykernel/ipkernel.py:283: DeprecationWarning: `should_run_async` will not call `transform_cell` automatically in the future. Please pass the result to `transformed_cell` argument and any exception that happen during thetransform in `preprocessing_exc_tuple` in IPython 7.17 and above.\n",
            "  and should_run_async(code)\n"
          ]
        }
      ],
      "source": [
        "from gensim.models import CoherenceModel"
      ]
    },
    {
      "cell_type": "code",
      "execution_count": 37,
      "metadata": {
        "colab": {
          "base_uri": "https://localhost:8080/"
        },
        "id": "uT-HzkVc3wuj",
        "outputId": "52c1abcc-a8ec-4c38-b497-5eb0b0b3c55b"
      },
      "outputs": [
        {
          "name": "stderr",
          "output_type": "stream",
          "text": [
            "/usr/local/lib/python3.10/dist-packages/ipykernel/ipkernel.py:283: DeprecationWarning: `should_run_async` will not call `transform_cell` automatically in the future. Please pass the result to `transformed_cell` argument and any exception that happen during thetransform in `preprocessing_exc_tuple` in IPython 7.17 and above.\n",
            "  and should_run_async(code)\n"
          ]
        }
      ],
      "source": [
        "texts= dataset_df['Clean_Queries1']\n",
        "texts = [x for x in texts if x]"
      ]
    },
    {
      "cell_type": "code",
      "execution_count": 38,
      "metadata": {
        "colab": {
          "base_uri": "https://localhost:8080/"
        },
        "id": "ye0hT7IBfl91",
        "outputId": "3d45a73e-d5d1-4f76-f19b-f98458cb5f68"
      },
      "outputs": [
        {
          "name": "stderr",
          "output_type": "stream",
          "text": [
            "/usr/local/lib/python3.10/dist-packages/ipykernel/ipkernel.py:283: DeprecationWarning: `should_run_async` will not call `transform_cell` automatically in the future. Please pass the result to `transformed_cell` argument and any exception that happen during thetransform in `preprocessing_exc_tuple` in IPython 7.17 and above.\n",
            "  and should_run_async(code)\n"
          ]
        },
        {
          "data": {
            "text/plain": [
              "0.6722894548901733"
            ]
          },
          "execution_count": 38,
          "metadata": {},
          "output_type": "execute_result"
        }
      ],
      "source": [
        "cm_lda_bow_cv = CoherenceModel(model=lda_bow,texts=texts,dictionary=dataset_dictionary,coherence='c_v')\n",
        "cm_lda_bow_cv.get_coherence()"
      ]
    },
    {
      "cell_type": "code",
      "execution_count": 39,
      "metadata": {
        "colab": {
          "base_uri": "https://localhost:8080/"
        },
        "id": "1rVwdbZ-fl91",
        "outputId": "069274f3-2450-4ec2-cc2e-6bb07c2d753a"
      },
      "outputs": [
        {
          "name": "stderr",
          "output_type": "stream",
          "text": [
            "/usr/local/lib/python3.10/dist-packages/ipykernel/ipkernel.py:283: DeprecationWarning: `should_run_async` will not call `transform_cell` automatically in the future. Please pass the result to `transformed_cell` argument and any exception that happen during thetransform in `preprocessing_exc_tuple` in IPython 7.17 and above.\n",
            "  and should_run_async(code)\n"
          ]
        },
        {
          "data": {
            "text/plain": [
              "0.6387972651957761"
            ]
          },
          "execution_count": 39,
          "metadata": {},
          "output_type": "execute_result"
        }
      ],
      "source": [
        "cm_lsi_bow_cv = CoherenceModel(model=lsi_bow, texts=texts, dictionary=dataset_dictionary, coherence='c_v')\n",
        "cm_lsi_bow_cv.get_coherence()"
      ]
    }
  ],
  "metadata": {
    "colab": {
      "provenance": []
    },
    "kernelspec": {
      "display_name": "Python 3",
      "name": "python3"
    },
    "language_info": {
      "name": "python"
    }
  },
  "nbformat": 4,
  "nbformat_minor": 0
}
