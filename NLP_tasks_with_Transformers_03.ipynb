{
  "cells": [
    {
      "cell_type": "code",
      "execution_count": 2,
      "metadata": {
        "id": "DHHzSYRr6S4b"
      },
      "outputs": [],
      "source": [
        "from transformers import pipeline\n",
        "import textwrap\n",
        "wrapper = textwrap.TextWrapper(width=80,break_long_words=False,break_on_hyphens=False)"
      ]
    },
    {
      "cell_type": "markdown",
      "metadata": {
        "id": "Gz6iDO216ndK"
      },
      "source": [
        "# Classifying whole sentences"
      ]
    },
    {
      "cell_type": "code",
      "execution_count": 12,
      "metadata": {
        "colab": {
          "base_uri": "https://localhost:8080/"
        },
        "id": "4YbENyjd6gW9",
        "outputId": "af76a88c-428b-488a-a4ad-b65b23240054"
      },
      "outputs": [
        {
          "name": "stdout",
          "output_type": "stream",
          "text": [
            "\n",
            "Sentence:\n",
            "The flights were on time both in Sydney and the connecting flight in Singapore.\n",
            "The organisation to cope with the COVID 19 restrictions while in transit was\n",
            "well planned and directions easy to follow, the plane was comfortable with a\n",
            "reasonable selection of in flight entertainment. Crew were pleasant and helpful.\n",
            "\n",
            "This sentence is classified with a POSITIVE sentiment\n"
          ]
        }
      ],
      "source": [
        "sentence = 'The flights were on time both in Sydney and the connecting flight in Singapore. The organisation to cope with the COVID 19 restrictions while in transit was well planned and directions easy to follow, the plane was comfortable with a reasonable selection of in flight entertainment. Crew were pleasant and helpful.'\n",
        "classifier = pipeline('text-classification', model='distilbert-base-uncased-finetuned-sst-2-english')\n",
        "c = classifier(sentence)\n",
        "print('\\nSentence:')\n",
        "print(wrapper.fill(sentence))\n",
        "print(f'\\nThis sentence is classified with a {c[0][\"label\"]} sentiment')\n"
      ]
    },
    {
      "cell_type": "markdown",
      "metadata": {
        "id": "RkQ0-jvw8WsF"
      },
      "source": [
        "# Classifying each word in a sentence (Named Entity Recognition)"
      ]
    },
    {
      "cell_type": "code",
      "execution_count": 13,
      "metadata": {
        "colab": {
          "base_uri": "https://localhost:8080/",
          "height": 495,
          "referenced_widgets": [
            "bccdfaecda464cd3ba458f33fd0bc2ba",
            "bcca88ff4493456f9a320438f5c78fe3",
            "04d2040186b7426d9c95110c9f3b23a9",
            "cab992f532c54751878e86d29946ca84",
            "8ab2701215a44c32ab54878fada59509",
            "bf4bab6ad54f461ea655467430cf8f14",
            "d26755ca00f44fedadc133aa479ecfbc",
            "479f021577a64608bfba92d3a1b85a60",
            "82548b89a20c49de8587ec293422db1d",
            "3ceb5d77475b4a5fbf28df297250d156",
            "0ce6ae4726ca491b84beb51b6d8f1b3e",
            "922f514047954df885b2451dda9cf016",
            "2444c933d8cf42df80651a8fbd2f9b2e",
            "23e5e47ee11b4301878d33bceebfca00",
            "278409ab6c5e46609c5602c0c6400857",
            "21285298806c42409ca3bab6ccbaa33b",
            "5e9c57b381694152bba2594632f13438",
            "4c2a45202abe4317aed410f0b9cb89a3",
            "e9870dcc7a424857a4c4e3cebc15b478",
            "0418e87e9a2d45d28c371728ca87dfb7",
            "fe406accb63d4b699f21febff6887d83",
            "769148192573470b934282f18623be04",
            "5e1cd54f12da4874bfea0d0d72caba97",
            "30697d3a625d4b8885975da28cdea739",
            "5ae2fb7f860c43ebacfe449f961ba6ed",
            "5b6e76c042e34616a2d9e4f46845eed2",
            "aa97288f2db84a1f92408b15db21970b",
            "d8a636fec6884882a6a566cf9a9e2922",
            "70edb7ed46bd40a7a3954e0666639a8e",
            "aac9dad98e6147a3874ee79d285b502a",
            "99c1ea8af69248878080bc9be546966b",
            "8d5c0978cc93428eb0fea3aa53992051",
            "6395c811a2524cbf84352161967d46be",
            "798fd63664ad4e87915563b2c88ba52e",
            "86dd5c28b32b48dcacb6a3e81d6c771d",
            "cfe6638b96a045859e93afd8c63a92fd",
            "85ae93bb23f049ccbe3a51f4e4b1f2bf",
            "ea22f6ac0ebd43e19621a768e040c6b5",
            "cb6f9ded1a4f4cdeb2d55922870c6a6c",
            "50b39a2a917f4789a6dfc81142463985",
            "7709cfa427cd4c8ab8ec5dc126f4d6e5",
            "10cceb654d5844eb945d8bbf1ef484a9",
            "b9f3ca62cab441c2bf9d8a4d0bf35a17",
            "179a24171594458fbbad8543f12a4219"
          ]
        },
        "id": "sChoXUXi7K22",
        "outputId": "a40f6d9f-c531-462a-f5be-a0879cd0a2ed"
      },
      "outputs": [
        {
          "data": {
            "application/vnd.jupyter.widget-view+json": {
              "model_id": "bccdfaecda464cd3ba458f33fd0bc2ba",
              "version_major": 2,
              "version_minor": 0
            },
            "text/plain": [
              "config.json:   0%|          | 0.00/998 [00:00<?, ?B/s]"
            ]
          },
          "metadata": {},
          "output_type": "display_data"
        },
        {
          "data": {
            "application/vnd.jupyter.widget-view+json": {
              "model_id": "922f514047954df885b2451dda9cf016",
              "version_major": 2,
              "version_minor": 0
            },
            "text/plain": [
              "model.safetensors:   0%|          | 0.00/1.33G [00:00<?, ?B/s]"
            ]
          },
          "metadata": {},
          "output_type": "display_data"
        },
        {
          "name": "stderr",
          "output_type": "stream",
          "text": [
            "Some weights of the model checkpoint at dbmdz/bert-large-cased-finetuned-conll03-english were not used when initializing BertForTokenClassification: ['bert.pooler.dense.bias', 'bert.pooler.dense.weight']\n",
            "- This IS expected if you are initializing BertForTokenClassification from the checkpoint of a model trained on another task or with another architecture (e.g. initializing a BertForSequenceClassification model from a BertForPreTraining model).\n",
            "- This IS NOT expected if you are initializing BertForTokenClassification from the checkpoint of a model that you expect to be exactly identical (initializing a BertForSequenceClassification model from a BertForSequenceClassification model).\n"
          ]
        },
        {
          "data": {
            "application/vnd.jupyter.widget-view+json": {
              "model_id": "5e1cd54f12da4874bfea0d0d72caba97",
              "version_major": 2,
              "version_minor": 0
            },
            "text/plain": [
              "tokenizer_config.json:   0%|          | 0.00/60.0 [00:00<?, ?B/s]"
            ]
          },
          "metadata": {},
          "output_type": "display_data"
        },
        {
          "data": {
            "application/vnd.jupyter.widget-view+json": {
              "model_id": "798fd63664ad4e87915563b2c88ba52e",
              "version_major": 2,
              "version_minor": 0
            },
            "text/plain": [
              "vocab.txt:   0%|          | 0.00/213k [00:00<?, ?B/s]"
            ]
          },
          "metadata": {},
          "output_type": "display_data"
        },
        {
          "name": "stderr",
          "output_type": "stream",
          "text": [
            "/usr/local/lib/python3.10/dist-packages/transformers/tokenization_utils_base.py:1601: FutureWarning: `clean_up_tokenization_spaces` was not set. It will be set to `True` by default. This behavior will be depracted in transformers v4.45, and will be then set to `False` by default. For more details check this issue: https://github.com/huggingface/transformers/issues/31884\n",
            "  warnings.warn(\n",
            "/usr/local/lib/python3.10/dist-packages/transformers/pipelines/token_classification.py:168: UserWarning: `grouped_entities` is deprecated and will be removed in version v5.0.0, defaulted to `aggregation_strategy=\"simple\"` instead.\n",
            "  warnings.warn(\n"
          ]
        },
        {
          "name": "stdout",
          "output_type": "stream",
          "text": [
            "\n",
            "Sentence:\n",
            "Singapore Airlines was the first airline to fly the A380. Chew Choon Seng was\n",
            "Singapore Airline's CEO at the time. Singapore Airlines flies to New York daily.\n",
            "\n",
            "\n",
            "Singapore Airlines -> ORG\n",
            "A380 -> MISC\n",
            "Chew Choon Seng -> PER\n",
            "Singapore Airline -> ORG\n",
            "Singapore Airlines -> ORG\n",
            "New York -> LOC\n"
          ]
        }
      ],
      "source": [
        "sentence = \"Singapore Airlines was the first airline to fly the A380. Chew Choon Seng was Singapore Airline's CEO at the time. Singapore Airlines flies to New York daily.\"\n",
        "ner = pipeline('token-classification',model='dbmdz/bert-large-cased-finetuned-conll03-english',grouped_entities=True)\n",
        "ners = ner(sentence)\n",
        "print('\\nSentence:')\n",
        "print(wrapper.fill(sentence))\n",
        "print('\\n')\n",
        "for n in ners:\n",
        "  print(f\"{n['word']} -> {n['entity_group']}\")"
      ]
    },
    {
      "cell_type": "markdown",
      "metadata": {
        "id": "i4evbi_C_X50"
      },
      "source": [
        "# Answering a question given a context"
      ]
    },
    {
      "cell_type": "code",
      "execution_count": 14,
      "metadata": {
        "colab": {
          "base_uri": "https://localhost:8080/"
        },
        "id": "fmrJ6SLQ7jRQ",
        "outputId": "71ebdf1d-61a4-454f-8e7c-2ffc2ab9cfcc"
      },
      "outputs": [
        {
          "name": "stdout",
          "output_type": "stream",
          "text": [
            "Text:\n",
            " Singapore Airlines was founded in 1947 and was originally known as Malayan\n",
            "Airways. It is the national airline of Singapore and is based at Singapore\n",
            "Changi Airport.  From this hub, the airline flies to more than 60 destinations,\n",
            "with flights to Seoul, Tokyo and Melbourne among the most popular of its routes.\n",
            "It is particularly strong in Southeast Asian and Australian destinations (the\n",
            "so-called Kangaroo Route), but also flies to 6 different continents, covering 35\n",
            "countries. There are more than 100 planes in the Singapore Airlines fleet, most\n",
            "of which are Airbus aircraft plus a smaller amount of Boeings. The company is\n",
            "known for frequently updating the aircraft in its fleet.\n",
            "\n",
            "Question:\n",
            "How many aircrafts does Singapore Airlines have?\n"
          ]
        }
      ],
      "source": [
        "context = '''\n",
        "Singapore Airlines was founded in 1947 and was originally known as Malayan Airways. It is the national airline of Singapore and is based at Singapore Changi Airport.\n",
        "From this hub, the airline flies to more than 60 destinations, with flights to Seoul, Tokyo and Melbourne among the most popular of its routes.\n",
        "It is particularly strong in Southeast Asian and Australian destinations (the so-called Kangaroo Route), but also flies to 6 different continents, covering 35 countries.\n",
        "There are more than 100 planes in the Singapore Airlines fleet, most of which are Airbus aircraft plus a smaller amount of Boeings.\n",
        "The company is known for frequently updating the aircraft in its fleet.'''\n",
        "\n",
        "question = 'How many aircrafts does Singapore Airlines have?'\n",
        "\n",
        "print('Text:')\n",
        "print(wrapper.fill(context))\n",
        "print('\\nQuestion:')\n",
        "print(question)"
      ]
    },
    {
      "cell_type": "code",
      "execution_count": 16,
      "metadata": {
        "colab": {
          "base_uri": "https://localhost:8080/",
          "height": 337,
          "referenced_widgets": [
            "cf5aded375374ae291f93babff369bdc",
            "47f93e1dd6384ae19f8f439e4be5a1e0",
            "7d6eebdb2ec34b2ea689f24363b61c2e",
            "43d49a0227cd40029fac68af304fe80d",
            "c9cb81e592d7470e9dbd5f3c83bc77a3",
            "f1d64fd152504e7bb7e2702dd593f9cf",
            "72695f48272c47fd9aeb6f9504067197",
            "30bf0b7d69d1445facb2f977649aef60",
            "ded8c861447c44869e48296bf6d02e5d",
            "0843a78f57a7453fbf0ff70866a77a80",
            "732d97cd533b43ac8ba10604a82ed7ee",
            "c647042d75004de590b0a854973c9c0e",
            "7fd2be9e2c18447a9114363e8cfc694e",
            "8a323f3b524044418c31d6c9035df4d3",
            "82b8c1e3f03e4187b1fcb8368c1c9adb",
            "f6f5ca84bb594ed2a917affea463143b",
            "4f6d0b5ff385416cb98d8b92e009f41d",
            "74b6731fb5c5401b848463682505877c",
            "9f5a1c3a289c47deb7c9ba3098ee8d6e",
            "1a8c55609bcb4a5eaba3b140929066ff",
            "0a958c9677644459aa15f6327986e130",
            "94aaee90ff1d4fa99c8625419376707b",
            "12bf3cd83e5b4ab79980e482ba81ffa8",
            "2a874fe03d024b75ba68647d9bdb963b",
            "0e8fa33bbf364ba8a6403bda8f86610e",
            "672327c0c7f94976a6e37cf766f8a6fd",
            "a24552556eb141d9958cea93d3262fc7",
            "affe6130883f4bdf876d64ea16fc29d7",
            "97052dfe1b9c49b1aef680a5ebb2a355",
            "d0234be180844a33bb2924131bfcfade",
            "a98d5f89bcb24bd88a35ed36ff3ed8c4",
            "cea3e3debb7349fca6a8b56c7e8d349d",
            "c0dc92e41b0a422eb6cd2a3dc2bfd8da",
            "ac508d3357914e038522e63c043e6b36",
            "d6512bf84b4b4f5abd6d38ce44427e8e",
            "fd1d28df22cb4c5ca7ad2b258eaf1c4c",
            "513924b087aa4733bff70ba51fa183ad",
            "6e7620d7c4844281b04cc58d4a13e1b4",
            "8139d6a2f9ad4fe8b2a47b2edb72c324",
            "c22fc96e55914bdbb3df72ef4d4e97b7",
            "9b6ab845ca60436ab25cc0a7c6f7d128",
            "5e6381ac04d646bcb9316372f12fb61e",
            "da8bafcce9ee4febba64843563ea50b9",
            "114d96191d7f42c4bfb144bbf3c4bf67",
            "319a1cc9b44945acb159a7b7c06e0c7b",
            "d43d0cef1c5c4da3a7aa4f135c36bc13",
            "b3b2314e219e4ddaa2d57a70a45b9f4b",
            "652433dc491b49d398264a820300fb69",
            "fe8ab17a102641a1ba589e77e417af75",
            "45b025d4b71a41a2ad1bf8573e9a7169",
            "856c3ff82e63443c939e0e279473bd16",
            "12e8e2c43ad1493cb07dd441f5f40787",
            "5acededcf019413c8793223e36db34ef",
            "3cffeb0a1ebc42809370cf270140158e",
            "c971920f27d64fbc828c14594eb7ec08"
          ]
        },
        "id": "E0EDiMguAdNa",
        "outputId": "0523076e-1c07-4ebf-980e-15a928e467d9"
      },
      "outputs": [
        {
          "data": {
            "application/vnd.jupyter.widget-view+json": {
              "model_id": "cf5aded375374ae291f93babff369bdc",
              "version_major": 2,
              "version_minor": 0
            },
            "text/plain": [
              "config.json:   0%|          | 0.00/473 [00:00<?, ?B/s]"
            ]
          },
          "metadata": {},
          "output_type": "display_data"
        },
        {
          "data": {
            "application/vnd.jupyter.widget-view+json": {
              "model_id": "c647042d75004de590b0a854973c9c0e",
              "version_major": 2,
              "version_minor": 0
            },
            "text/plain": [
              "model.safetensors:   0%|          | 0.00/261M [00:00<?, ?B/s]"
            ]
          },
          "metadata": {},
          "output_type": "display_data"
        },
        {
          "data": {
            "application/vnd.jupyter.widget-view+json": {
              "model_id": "12bf3cd83e5b4ab79980e482ba81ffa8",
              "version_major": 2,
              "version_minor": 0
            },
            "text/plain": [
              "tokenizer_config.json:   0%|          | 0.00/49.0 [00:00<?, ?B/s]"
            ]
          },
          "metadata": {},
          "output_type": "display_data"
        },
        {
          "data": {
            "application/vnd.jupyter.widget-view+json": {
              "model_id": "ac508d3357914e038522e63c043e6b36",
              "version_major": 2,
              "version_minor": 0
            },
            "text/plain": [
              "vocab.txt:   0%|          | 0.00/213k [00:00<?, ?B/s]"
            ]
          },
          "metadata": {},
          "output_type": "display_data"
        },
        {
          "data": {
            "application/vnd.jupyter.widget-view+json": {
              "model_id": "319a1cc9b44945acb159a7b7c06e0c7b",
              "version_major": 2,
              "version_minor": 0
            },
            "text/plain": [
              "tokenizer.json:   0%|          | 0.00/436k [00:00<?, ?B/s]"
            ]
          },
          "metadata": {},
          "output_type": "display_data"
        },
        {
          "name": "stderr",
          "output_type": "stream",
          "text": [
            "/usr/local/lib/python3.10/dist-packages/transformers/tokenization_utils_base.py:1601: FutureWarning: `clean_up_tokenization_spaces` was not set. It will be set to `True` by default. This behavior will be depracted in transformers v4.45, and will be then set to `False` by default. For more details check this issue: https://github.com/huggingface/transformers/issues/31884\n",
            "  warnings.warn(\n"
          ]
        },
        {
          "name": "stdout",
          "output_type": "stream",
          "text": [
            "\n",
            "Question:\n",
            "How many aircrafts does Singapore Airlines have?\n",
            "\n",
            "Answer:\n"
          ]
        },
        {
          "data": {
            "application/vnd.google.colaboratory.intrinsic+json": {
              "type": "string"
            },
            "text/plain": [
              "'more than 100'"
            ]
          },
          "execution_count": 16,
          "metadata": {},
          "output_type": "execute_result"
        }
      ],
      "source": [
        "from transformers import pipeline\n",
        "qa = pipeline('question-answering', model='distilbert-base-cased-distilled-squad')\n",
        "\n",
        "print('\\nQuestion:')\n",
        "print(question+'\\n')\n",
        "print('Answer:')\n",
        "a = qa(context=context, question=question)\n",
        "a['answer']"
      ]
    },
    {
      "cell_type": "markdown",
      "metadata": {
        "id": "XecHjsO3BGDz"
      },
      "source": [
        "# Text Summarization"
      ]
    },
    {
      "cell_type": "code",
      "execution_count": 17,
      "metadata": {
        "colab": {
          "base_uri": "https://localhost:8080/",
          "height": 645,
          "referenced_widgets": [
            "f21252d30fac4c4c9c08858a57439752",
            "acec4e4239024a94bdc04ff358d20e30",
            "cb1060c3453f4644a81f63774558fc4c",
            "df90326fc4ea4850957d651e6b36fcf8",
            "11c0bf67ffbc407a800a9fef2fc209d4",
            "249a98ea7dcc49efa9d4eaf0e78b6e0b",
            "257145da570e4a2aaee3deb788645186",
            "35a1dac1ce43408396200ff6dbad5468",
            "a7c7d34584f14f31b4bfc47465707e54",
            "047d4b1984d1406d84c8d27699438e91",
            "d9fe755f42454c05a4a0841af58fd607",
            "8e74bc3d457b4bfb9f110baa59eb4b0d",
            "7f26d544464844048ecc2ddc7cc9fde3",
            "3f795a8bdd25424fa63dbadfbd243b79",
            "79aefd0bddc04ed0b9a86de852465aa1",
            "02b0f0abb8354217a9d724a4785a8d06",
            "8ed7a4e6ca2f42ab911d17fff4c548b5",
            "b4f8efaafb2342e8b9c7f404277ad687",
            "0b699c8f62e34156bd117323f645d295",
            "003f52852ec14a5eb6653a5842835ac7",
            "31fbe67d2aa244068634f7ae010354fa",
            "23ca826d20a14977a9e1fda6e4d8c562",
            "b4eb54aebba940f0a3377cdeafb2cf74",
            "1437a13107804c33be24d9a644d6929f",
            "bf6c2d113726491c873ef9f4c3873acd",
            "c0baf8ed37424d469a6f8348fc5c11d0",
            "037da0d150064ccd846eb1eef62905b8",
            "7c35444f9a2a4d6cb77238bab961da0b",
            "c797d083248a4ddd8faf4465b56b78e7",
            "f8fa817a80214ba2866dfdb4adfc2248",
            "d7fe232c565b4e9983c39a8a58014220",
            "82d78cf831c244d4a89b17d088952a64",
            "5688feef7ef74da99beb3e2eafc0fa8b",
            "ad0abc92b0eb4ce0af72389e6d9be34b",
            "e0104e22e08d4132a9dbecc1ad673890",
            "acdf95b3e41342d18109086d2d34c0be",
            "4e55ea88f8464f3b8c66728e210ac3b9",
            "24439470792246e3ad4b5e24547c2a31",
            "5b19a7e067cf47d9b5a2dc5f0546c1f5",
            "163dfefd1ce5405b8f3e711cb142d4c9",
            "e0b5c2dcf95c444baa90d8c608b648b7",
            "60540e43698444a9abe062d762ee538b",
            "2f9d11ac47104db7a6185862b3dc9e03",
            "a980c5896fc443e997555ee2985d627c",
            "5118caab2c6b43e5af06ef0303bf4ad5",
            "eb60cf3fa422472d9dbbbfeb922a9f86",
            "ee4e5f4d32e64ce88cd776cf2ceadf89",
            "ce47cbe222c4431fab8a6186438f88a3",
            "8de5e808d40c494ca49454add67b431d",
            "c3412a099cf54fc1b96cd645dc4ab597",
            "ab7cdfdb4873409dab0c382153343ab9",
            "e1f0c5173a7a4d1baada2600da07c22d",
            "918e5447b2194988ae150803c715c309",
            "3d5511549da44fe89ca4bef288afb620",
            "d495b5b021e543a1aab14af37833ea09"
          ]
        },
        "id": "fmy1edkwAwyK",
        "outputId": "b2ddd155-11d2-4883-90bd-e47bed7a25b6"
      },
      "outputs": [
        {
          "name": "stdout",
          "output_type": "stream",
          "text": [
            "\n",
            "Original text:\n",
            "\n",
            " Extremely unusual time to fly as we needed an exemption to fly out of Australia\n",
            "from the government. We obtained one as working in Tokyo for the year as\n",
            "teachers. The check in procedure does take a lot longer as more paperwork and\n",
            "phone calls are needed to check if you are allowed to travel. The staff were\n",
            "excellent in explaining the procedure as they are working with very few numbers.\n",
            "The flight had 40 people only, so lots of room and yes we had 3 seats each. The\n",
            "service of meals and beverages was done very quickly and efficiently. Changi\n",
            "airport was like a ghost town with most shops closed and all passengers are\n",
            "walked/transported to a transit zone until your next flight is ready. You are\n",
            "then walked in single file or transported to your next flight, so very strange\n",
            "as at times their seemed be more workers in PPE gear than passengers. The steps\n",
            "we went through at Narita were extensive, downloading apps, fill in paperwork\n",
            "and giving a saliva sample to test for covid 19.  It took about 2 hours to get\n",
            "through the steps and we only sat down for maybe 10 minutes at the last stop to\n",
            "get back your covid results.  The people involved were fantastic and we were\n",
            "lucky that we were numbers two and three in the initial first line up, but still\n",
            "over 2 hours it took so be aware. We knew we were quick as the people picking us\n",
            "up told us we were first out.\n"
          ]
        },
        {
          "data": {
            "application/vnd.jupyter.widget-view+json": {
              "model_id": "f21252d30fac4c4c9c08858a57439752",
              "version_major": 2,
              "version_minor": 0
            },
            "text/plain": [
              "config.json:   0%|          | 0.00/1.80k [00:00<?, ?B/s]"
            ]
          },
          "metadata": {},
          "output_type": "display_data"
        },
        {
          "data": {
            "application/vnd.jupyter.widget-view+json": {
              "model_id": "8e74bc3d457b4bfb9f110baa59eb4b0d",
              "version_major": 2,
              "version_minor": 0
            },
            "text/plain": [
              "pytorch_model.bin:   0%|          | 0.00/1.22G [00:00<?, ?B/s]"
            ]
          },
          "metadata": {},
          "output_type": "display_data"
        },
        {
          "data": {
            "application/vnd.jupyter.widget-view+json": {
              "model_id": "b4eb54aebba940f0a3377cdeafb2cf74",
              "version_major": 2,
              "version_minor": 0
            },
            "text/plain": [
              "tokenizer_config.json:   0%|          | 0.00/26.0 [00:00<?, ?B/s]"
            ]
          },
          "metadata": {},
          "output_type": "display_data"
        },
        {
          "data": {
            "application/vnd.jupyter.widget-view+json": {
              "model_id": "ad0abc92b0eb4ce0af72389e6d9be34b",
              "version_major": 2,
              "version_minor": 0
            },
            "text/plain": [
              "vocab.json:   0%|          | 0.00/899k [00:00<?, ?B/s]"
            ]
          },
          "metadata": {},
          "output_type": "display_data"
        },
        {
          "data": {
            "application/vnd.jupyter.widget-view+json": {
              "model_id": "5118caab2c6b43e5af06ef0303bf4ad5",
              "version_major": 2,
              "version_minor": 0
            },
            "text/plain": [
              "merges.txt:   0%|          | 0.00/456k [00:00<?, ?B/s]"
            ]
          },
          "metadata": {},
          "output_type": "display_data"
        },
        {
          "name": "stdout",
          "output_type": "stream",
          "text": [
            "\n",
            "Summarized text:\n",
            " The flight had 40 people only, so lots of room and yes we had 3 seats each .\n",
            "The check in procedure does take a lot longer as more paperwork and phone calls\n",
            "are needed to check if you are allowed to travel . The staff were excellent in\n",
            "explaining the procedure as they are working with very few numbers .\n"
          ]
        }
      ],
      "source": [
        "review = '''\n",
        "Extremely unusual time to fly as we needed an exemption to fly out of Australia from the government. We obtained one as working in Tokyo for the year as teachers.\n",
        "The check in procedure does take a lot longer as more paperwork and phone calls are needed to check if you are allowed to travel. The staff were excellent in explaining the procedure as they are working with very few numbers.\n",
        "The flight had 40 people only, so lots of room and yes we had 3 seats each. The service of meals and beverages was done very quickly and efficiently.\n",
        "Changi airport was like a ghost town with most shops closed and all passengers are walked/transported to a transit zone until your next flight is ready. You are then walked in single file or transported to your next flight, so very strange as at times their seemed be more workers in PPE gear than passengers.\n",
        "The steps we went through at Narita were extensive, downloading apps, fill in paperwork and giving a saliva sample to test for covid 19.\n",
        "It took about 2 hours to get through the steps and we only sat down for maybe 10 minutes at the last stop to get back your covid results.\n",
        "The people involved were fantastic and we were lucky that we were numbers two and three in the initial first line up, but still over 2 hours it took so be aware. We knew we were quick as the people picking us up told us we were first out.'''\n",
        "\n",
        "\n",
        "print('\\nOriginal text:\\n')\n",
        "print(wrapper.fill(review))\n",
        "summarize = pipeline('summarization', model='sshleifer/distilbart-cnn-12-6')\n",
        "summarized_text = summarize(review)[0]['summary_text']\n",
        "print('\\nSummarized text:')\n",
        "print(wrapper.fill(summarized_text))"
      ]
    },
    {
      "cell_type": "markdown",
      "metadata": {
        "id": "HjNTI8N8DJ2K"
      },
      "source": [
        "# Fill in the blanks"
      ]
    },
    {
      "cell_type": "code",
      "execution_count": 18,
      "metadata": {
        "colab": {
          "base_uri": "https://localhost:8080/",
          "height": 368,
          "referenced_widgets": [
            "a076dc0c61bc497089d7206a0cf5c60a",
            "96c2a1d43b684491b38bb45e86eb6315",
            "13d8492e54044e8a904b3f5db111a209",
            "774cdfe84c254c21a46bb475b7a1b1f4",
            "8e38b490cc4f4f8d99bcaeefe7db74e9",
            "0a31ba05aa3c48a5a16a28189a695d6c",
            "050af90685004e259b1a568e23342521",
            "e381089206294fcca443e1c4950d4044",
            "6915aceb6e894e91aedcf733d1e3d625",
            "2ea845b399bd446ea2d7ab49fc72cc54",
            "bce7d450bf524520ac4ed96143c60997",
            "15955d3a25b64c9c897440cce82836ae",
            "04a5d1dcb7704434bb62c6f85cdf9549",
            "fdd0ddfa34c2440b967054c8bf396247",
            "13b6788205554ad7b1614ed9f611d0d4",
            "1ef62cc654ca415695981520ac4cbae1",
            "c6756c2227c945c08977c9e80831e9cb",
            "93e7133353aa4752aaef4cb32327c5ae",
            "b2f30a2055dc423897a969f6db9082d6",
            "ba2adc5c198b41fc84278420e76937ab",
            "cc774bf556a54b9bb4498906f1350c92",
            "5f47d63c67274beaa7af46d21c7c6afa",
            "63b959bc60144d17825ec06aeefe86f1",
            "e6b8759e3a724f19b93bdde92bea8d0d",
            "e2cd46e6f6f248c9aa540cb8210780d8",
            "98d66d248b0c43f6a9e0474c8f25d3fa",
            "806f495d37e243fb8490ac30416019aa",
            "86538c8500924a77b954e0bdf5d0204c",
            "e4bb32b47aad4334814a5b2391a012c4",
            "dd7e717f3904466bbc13464088b115c9",
            "526d53a774b34f43b5fd53348a883c93",
            "6d9362b9a7364dd99c24fa64f994e743",
            "d71994aec4844ba3bfbdac7b061e903c",
            "87182e0be7c2458ab5ad5fd75c0dba2b",
            "07fc89c7340e4bed8f4abb8116629260",
            "2b66490e18234e54a9a7a927c37488b8",
            "7a2a624ab70d4cc19edbd70d62fbef67",
            "b1ef0b5cc9f64b58a21222b486cee146",
            "b40f169c057f497a96e1bad5497074f1",
            "bb17de4ed6824e31b2e9532e3dd1e3de",
            "e72451ffbc5242aaa86a01eff8053892",
            "558536c07cc34c9c89ded01ea3ebfbce",
            "28bcf27279734077bc0b9d9c39a2c793",
            "b2273d4077944476b40249cd079a0e1e",
            "72dfbdb196c44cab8b258d42b695b4ae",
            "e2f8f87fa8604259ba682650f89b9060",
            "76b45e4f2e8443229020f05ccaf5da7e",
            "5bde5e7f28914d2d9a2563749db03ce2",
            "cfb9af330bd0466183998c86457dd339",
            "a1cde02d1d47461580e9fa5c9c5bc76b",
            "4b7e58225568415ca52d96038ff02b7e",
            "2e2fc8f204dd44aa94d190cbeb439b07",
            "3a4f78fcf4224ee3bd600a2536891c80",
            "895af58f3b34408b84ba3bef2a15401c",
            "699b1fb825a9426eb8c4a31e4b9ed5dd",
            "9897ddbb40d0442699cc163bd218fbaa",
            "839cd616a75548868095a7bd9f9ab4f5",
            "19cc1752f581454b9c5b1c512aee6c26",
            "229a496b23a5441d8a90e33d9ab1885d",
            "d37b74f844ac46b6a8825383681c9516",
            "af033f34a7884cc7a4213d22e8652658",
            "37a54ee320784a3ea7244a17d86afe67",
            "41843b087ee14bd48a67d4101a206e1c",
            "11307b7dab4840ebb263a5ee859c69dd",
            "5753a94b01604f3bb79557353bd88e24",
            "1c2cb879e2774339b125c7f7e1b6e368"
          ]
        },
        "id": "JkNSZ2XWDIGR",
        "outputId": "fdeb02f7-93cc-48b4-8dcc-e562914e3b10"
      },
      "outputs": [
        {
          "data": {
            "application/vnd.jupyter.widget-view+json": {
              "model_id": "a076dc0c61bc497089d7206a0cf5c60a",
              "version_major": 2,
              "version_minor": 0
            },
            "text/plain": [
              "config.json:   0%|          | 0.00/480 [00:00<?, ?B/s]"
            ]
          },
          "metadata": {},
          "output_type": "display_data"
        },
        {
          "data": {
            "application/vnd.jupyter.widget-view+json": {
              "model_id": "15955d3a25b64c9c897440cce82836ae",
              "version_major": 2,
              "version_minor": 0
            },
            "text/plain": [
              "model.safetensors:   0%|          | 0.00/331M [00:00<?, ?B/s]"
            ]
          },
          "metadata": {},
          "output_type": "display_data"
        },
        {
          "name": "stderr",
          "output_type": "stream",
          "text": [
            "Some weights of the model checkpoint at distilroberta-base were not used when initializing RobertaForMaskedLM: ['roberta.pooler.dense.bias', 'roberta.pooler.dense.weight']\n",
            "- This IS expected if you are initializing RobertaForMaskedLM from the checkpoint of a model trained on another task or with another architecture (e.g. initializing a BertForSequenceClassification model from a BertForPreTraining model).\n",
            "- This IS NOT expected if you are initializing RobertaForMaskedLM from the checkpoint of a model that you expect to be exactly identical (initializing a BertForSequenceClassification model from a BertForSequenceClassification model).\n"
          ]
        },
        {
          "data": {
            "application/vnd.jupyter.widget-view+json": {
              "model_id": "63b959bc60144d17825ec06aeefe86f1",
              "version_major": 2,
              "version_minor": 0
            },
            "text/plain": [
              "tokenizer_config.json:   0%|          | 0.00/25.0 [00:00<?, ?B/s]"
            ]
          },
          "metadata": {},
          "output_type": "display_data"
        },
        {
          "data": {
            "application/vnd.jupyter.widget-view+json": {
              "model_id": "87182e0be7c2458ab5ad5fd75c0dba2b",
              "version_major": 2,
              "version_minor": 0
            },
            "text/plain": [
              "vocab.json:   0%|          | 0.00/899k [00:00<?, ?B/s]"
            ]
          },
          "metadata": {},
          "output_type": "display_data"
        },
        {
          "data": {
            "application/vnd.jupyter.widget-view+json": {
              "model_id": "72dfbdb196c44cab8b258d42b695b4ae",
              "version_major": 2,
              "version_minor": 0
            },
            "text/plain": [
              "merges.txt:   0%|          | 0.00/456k [00:00<?, ?B/s]"
            ]
          },
          "metadata": {},
          "output_type": "display_data"
        },
        {
          "data": {
            "application/vnd.jupyter.widget-view+json": {
              "model_id": "9897ddbb40d0442699cc163bd218fbaa",
              "version_major": 2,
              "version_minor": 0
            },
            "text/plain": [
              "tokenizer.json:   0%|          | 0.00/1.36M [00:00<?, ?B/s]"
            ]
          },
          "metadata": {},
          "output_type": "display_data"
        },
        {
          "name": "stdout",
          "output_type": "stream",
          "text": [
            "It is the national anthem of Singapore\n",
            "It is the national capital of Singapore\n",
            "It is the national pride of Singapore\n",
            "It is the national treasure of Singapore\n",
            "It is the national motto of Singapore\n"
          ]
        }
      ],
      "source": [
        "sentence = 'It is the national <mask> of Singapore'\n",
        "mask = pipeline('fill-mask', model='distilroberta-base')\n",
        "masks = mask(sentence)\n",
        "for m in masks:\n",
        "  print(m['sequence'])"
      ]
    },
    {
      "cell_type": "code",
      "execution_count": 19,
      "metadata": {
        "colab": {
          "base_uri": "https://localhost:8080/"
        },
        "id": "8P1YPWUODQjn",
        "outputId": "229be469-26c3-4639-c810-280333554a0b"
      },
      "outputs": [
        {
          "name": "stderr",
          "output_type": "stream",
          "text": [
            "Some weights of the model checkpoint at distilroberta-base were not used when initializing RobertaForMaskedLM: ['roberta.pooler.dense.bias', 'roberta.pooler.dense.weight']\n",
            "- This IS expected if you are initializing RobertaForMaskedLM from the checkpoint of a model trained on another task or with another architecture (e.g. initializing a BertForSequenceClassification model from a BertForPreTraining model).\n",
            "- This IS NOT expected if you are initializing RobertaForMaskedLM from the checkpoint of a model that you expect to be exactly identical (initializing a BertForSequenceClassification model from a BertForSequenceClassification model).\n"
          ]
        },
        {
          "name": "stdout",
          "output_type": "stream",
          "text": [
            "Singapore Airlines is the national airline of Singapore\n",
            "Singapore Airlines is the national carrier of Singapore\n",
            "Singapore Airlines is the national airport of Singapore\n",
            "Singapore Airlines is the national airlines of Singapore\n",
            "Singapore Airlines is the national capital of Singapore\n"
          ]
        }
      ],
      "source": [
        "sentence = 'Singapore Airlines is the national <mask> of Singapore'\n",
        "mask = pipeline('fill-mask', model='distilroberta-base')\n",
        "masks = mask(sentence)\n",
        "for m in masks:\n",
        "  print(m['sequence'])"
      ]
    },
    {
      "cell_type": "markdown",
      "metadata": {
        "id": "XOXdVE4hDS-x"
      },
      "source": [
        "# Translation"
      ]
    },
    {
      "cell_type": "code",
      "execution_count": 20,
      "metadata": {
        "colab": {
          "base_uri": "https://localhost:8080/",
          "height": 281,
          "referenced_widgets": [
            "24d06d0a02d64141b46f6a9eb14ef633",
            "fd2dff5908de443cb6c61d7071de35cd",
            "756259f8b18840e588f7266acefa8e82",
            "25fe30b113ab435c801797c7b304f678",
            "16ba86da424b4a919146405f6abfc454",
            "6350ec6f14f14a0499db1dc3eb8bef24",
            "387b1c9850be4d5e957c67173ce5b75f",
            "a65011c371c04d8a816122c5c3d2a1dd",
            "cfca519410314c17935867db1c4c931c",
            "a0086b71f6aa49208f4aabbfac1577fe",
            "90b713b7380046aabac89cbdc5e09f12",
            "d7898a70c7ec4dd5aa44e76976f6b48e",
            "3753806108b640d5a2e3987505024a4c",
            "7d0b677aa20742dca0317ef30674ad0d",
            "7ab64a55780e417d805aa910f6fc2732",
            "fe32d3700f5842e99c63d0fb960d37ca",
            "6f9067f3d84941caab4c24cdc2e7e351",
            "bc18d6ec21394da5b45c2ede6a0ef428",
            "da110383d92340a788be9e7150dd50b2",
            "95ab3977f72849918515598d4ac3b283",
            "d8d4cb46830b4549a2810ee3e50977cc",
            "43f3536020d740c58691e81fbf8c30a5",
            "fa4e4fecb6c54104a4564a2b16532a1c",
            "38893fece78c454c8c163f4b4b0f3543",
            "b0abe336b9274fca9970eb4f9c06b456",
            "4a38de2260e844b2a3f554a7cf51b3cf",
            "0ba2d4405978462e804f63fc7371960e",
            "7f5776411050427885cc62df642d4af2",
            "52fb2f3b768b4ff0b55ca841e6150b6a",
            "84ea95c713e641ce88d43fc363eb44ed",
            "3e56fe494b324429bd04ed8609ba68ce",
            "9f4d9285ecf5465ba6d806db2257b2be",
            "a192b2a5d8fd4c70bae203e7c5836a24",
            "580cffacf3454f59addb5173c89b9bdc",
            "8b4416640830417f8132b4582f1da92a",
            "e813468a5e574990846b0b65eb175c51",
            "5828f40511b94615bb394322e7974bf5",
            "444ddca13d0f44189dcb0b6b3b79a2d1",
            "af16c9fb9d404d8ea1c1e60d5df74863",
            "9945d4150244420c9e65e3cce9a20fed",
            "f98a733646744cf6ad98bac7eb8c4c95",
            "199409aa786149bdb0135d69ce9a151a",
            "b7cbfce97f834073964191230ac99928",
            "b2361407c07a44e3bf3b42f083b8c7b8",
            "e7931c616a3e45019617e64e83503a15",
            "15ce8046be524958b56f357d1d8d26df",
            "bdcacf67d2f840749149a12c4b486272",
            "b2abebde30f54fa89175f3bbf907c257",
            "f1d14075aece4e77a52cce2b31e3836b",
            "00ac9f500312422a81c2753051949e8e",
            "f01a3c518bde4edcb8d44ac86310dc8e",
            "68f6eb5291744d0c9a7d92ffb72a91ce",
            "94d6b87d34aa4c2e9f8b448dd6c89dac",
            "7f2273617b34435887f29618488da12d",
            "9886e6cec3e14a99a54a267ab9034c1a"
          ]
        },
        "id": "zNqucDByDSGv",
        "outputId": "438604ff-03e6-4720-ee5d-74c1d164b8ff"
      },
      "outputs": [
        {
          "data": {
            "application/vnd.jupyter.widget-view+json": {
              "model_id": "24d06d0a02d64141b46f6a9eb14ef633",
              "version_major": 2,
              "version_minor": 0
            },
            "text/plain": [
              "config.json:   0%|          | 0.00/1.21k [00:00<?, ?B/s]"
            ]
          },
          "metadata": {},
          "output_type": "display_data"
        },
        {
          "data": {
            "application/vnd.jupyter.widget-view+json": {
              "model_id": "d7898a70c7ec4dd5aa44e76976f6b48e",
              "version_major": 2,
              "version_minor": 0
            },
            "text/plain": [
              "model.safetensors:   0%|          | 0.00/892M [00:00<?, ?B/s]"
            ]
          },
          "metadata": {},
          "output_type": "display_data"
        },
        {
          "data": {
            "application/vnd.jupyter.widget-view+json": {
              "model_id": "fa4e4fecb6c54104a4564a2b16532a1c",
              "version_major": 2,
              "version_minor": 0
            },
            "text/plain": [
              "generation_config.json:   0%|          | 0.00/147 [00:00<?, ?B/s]"
            ]
          },
          "metadata": {},
          "output_type": "display_data"
        },
        {
          "data": {
            "application/vnd.jupyter.widget-view+json": {
              "model_id": "580cffacf3454f59addb5173c89b9bdc",
              "version_major": 2,
              "version_minor": 0
            },
            "text/plain": [
              "spiece.model:   0%|          | 0.00/792k [00:00<?, ?B/s]"
            ]
          },
          "metadata": {},
          "output_type": "display_data"
        },
        {
          "data": {
            "application/vnd.jupyter.widget-view+json": {
              "model_id": "e7931c616a3e45019617e64e83503a15",
              "version_major": 2,
              "version_minor": 0
            },
            "text/plain": [
              "tokenizer.json:   0%|          | 0.00/1.39M [00:00<?, ?B/s]"
            ]
          },
          "metadata": {},
          "output_type": "display_data"
        },
        {
          "name": "stdout",
          "output_type": "stream",
          "text": [
            "\n",
            "English:\n",
            "Singapore Airlines is my favourite airline\n",
            "\n",
            "German:\n",
            "Singapore Airlines ist meine Lieblingsfluggesellschaft\n"
          ]
        }
      ],
      "source": [
        "english = '''Singapore Airlines is my favourite airline'''\n",
        "\n",
        "translator = pipeline('translation_en_to_de', model='t5-base')\n",
        "german = translator(english)\n",
        "print('\\nEnglish:')\n",
        "print(english)\n",
        "print('\\nGerman:')\n",
        "print(german[0]['translation_text'])"
      ]
    }
  ],
  "metadata": {
    "colab": {
      "provenance": []
    },
    "kernelspec": {
      "display_name": "Python 3",
      "name": "python3"
    },
    "language_info": {
      "name": "python"
    }
  },
  "nbformat": 4,
  "nbformat_minor": 0
}
